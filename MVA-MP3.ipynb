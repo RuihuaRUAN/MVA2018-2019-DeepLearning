{
 "cells": [
  {
   "cell_type": "markdown",
   "metadata": {},
   "source": [
    "**You may need to install [OpenCV](https://pypi.python.org/pypi/opencv-python) and [scikit-video](http://www.scikit-video.org/stable/).**"
   ]
  },
  {
   "cell_type": "code",
   "execution_count": 1,
   "metadata": {},
   "outputs": [
    {
     "name": "stderr",
     "output_type": "stream",
     "text": [
      "Using TensorFlow backend.\n"
     ]
    }
   ],
   "source": [
    "import keras\n",
    "import numpy as np\n",
    "import io\n",
    "import base64\n",
    "from IPython.display import HTML\n",
    "import skvideo.io\n",
    "import cv2\n",
    "import json\n",
    "\n",
    "from keras.models import Sequential,model_from_json\n",
    "from keras.layers.core import Dense\n",
    "from keras.optimizers import sgd\n",
    "from keras.layers import Conv2D, MaxPooling2D, Activation, AveragePooling2D,Reshape,BatchNormalization"
   ]
  },
  {
   "cell_type": "markdown",
   "metadata": {},
   "source": [
    "# MiniProject #3: Deep Reinforcement Learning"
   ]
  },
  {
   "cell_type": "markdown",
   "metadata": {},
   "source": [
    "__Notations__: $E_p$ is the expectation under probability $p$. Please justify each of your answer and widely comment your code."
   ]
  },
  {
   "cell_type": "markdown",
   "metadata": {},
   "source": [
    "# Context"
   ]
  },
  {
   "cell_type": "markdown",
   "metadata": {},
   "source": [
    "In a reinforcement learning algorithm, we modelize each step $t$ as an action $a_t$ obtained from a state $s_t$, i.e. $\\{(a_{t},s_{t})_{t\\leq T}\\}$ having the Markov property. We consider a discount factor $\\gamma \\in [0,1]$ that ensures convergence. The goal is to find among all the policies $\\pi$, one that maximizes the expected reward:\n",
    "\n",
    "\\begin{equation*}\n",
    "R(\\pi)=\\sum_{t\\leq T}E_{p^{\\pi}}[\\gamma^t r(s_{t},a_{t})] \\> ,\n",
    "\\end{equation*}\n",
    "\n",
    "where: \n",
    "\\begin{equation*}p^{\\pi}(a_{0},a_{1},s_{1},...,a_{T},s_{T})=p(a_{0})\\prod_{t=1}^{T}\\pi(a_{t}|s_{t})p(s_{t+1}|s_{t},a_{t}) \\> .\n",
    "\\end{equation*}\n",
    "\n",
    "We note the $Q$-function:\n",
    "\n",
    "\\begin{equation*}Q^\\pi(s,a)=E_{p^{\\pi}}[\\sum_{t\\leq T}\\gamma^{t}r(s_{t},a_{t})|s_{0}=s,a_{0}=a] \\> .\n",
    "\\end{equation*}\n",
    "\n",
    "Thus, the optimal Q function is:\n",
    "\\begin{equation*}\n",
    "Q^*(s,a)=\\max_{\\pi}Q^\\pi(s,a) \\> .\n",
    "\\end{equation*}\n",
    "\n",
    "In this project, we will apply the deep reinforcement learning techniques to a simple game: an agent will have to learn from scratch a policy that will permit it maximizing a reward."
   ]
  },
  {
   "cell_type": "markdown",
   "metadata": {},
   "source": [
    "## The environment, the agent and the game"
   ]
  },
  {
   "cell_type": "markdown",
   "metadata": {},
   "source": [
    "### The environment"
   ]
  },
  {
   "cell_type": "markdown",
   "metadata": {},
   "source": [
    "```Environment``` is an abstract class that represents the states, rewards, and actions to obtain the new state."
   ]
  },
  {
   "cell_type": "code",
   "execution_count": 2,
   "metadata": {},
   "outputs": [],
   "source": [
    "class Environment(object):\n",
    "    def __init__(self):\n",
    "        pass\n",
    "\n",
    "    def act(self, act):\n",
    "        \"\"\"\n",
    "        One can act on the environment and obtain its reaction:\n",
    "        - the new state\n",
    "        - the reward of the new state\n",
    "        - should we continue the game?\n",
    "\n",
    "        :return: state, reward, game_over\n",
    "        \"\"\"\n",
    "        pass\n",
    "\n",
    "\n",
    "    def reset(self):\n",
    "        \"\"\"\n",
    "        Reinitialize the environment to a random state and returns\n",
    "        the original state\n",
    "\n",
    "        :return: state\n",
    "        \"\"\"\n",
    "        pass\n",
    "    \n",
    "    def draw(self):\n",
    "        \"\"\"\n",
    "        Visualize in the console or graphically the current state\n",
    "        \"\"\"\n",
    "        pass"
   ]
  },
  {
   "cell_type": "markdown",
   "metadata": {},
   "source": [
    "The method ```act``` allows to act on the environment at a given state $s_t$ (stored internally), via action $a_t$. The method will return the new state $s_{t+1}$, the reward $r(s_{t},a_{t})$ and determines if $t\\leq T$ (*game_over*).\n",
    "\n",
    "The method ```reset``` simply reinitializes the environment to a random state $s_0$.\n",
    "\n",
    "The method ```draw``` displays the current state $s_t$ (this is useful to check the behavior of the Agent).\n",
    "\n",
    "We modelize $s_t$ as a tensor, while $a_t$ is an integer."
   ]
  },
  {
   "cell_type": "markdown",
   "metadata": {},
   "source": [
    "### The Agent"
   ]
  },
  {
   "cell_type": "markdown",
   "metadata": {},
   "source": [
    "The goal of the ```Agent``` is to interact with the ```Environment``` by proposing actions $a_t$ obtained from a given state $s_t$ to attempt to maximize its __reward__ $r(s_t,a_t)$. We propose the following abstract class:"
   ]
  },
  {
   "cell_type": "code",
   "execution_count": 3,
   "metadata": {},
   "outputs": [],
   "source": [
    "class Agent(object):\n",
    "    def __init__(self, epsilon=0.1, n_action=4):\n",
    "        self.epsilon = epsilon\n",
    "        self.n_action = n_action\n",
    "    \n",
    "    def set_epsilon(self,e):\n",
    "        self.epsilon = e\n",
    "\n",
    "    def act(self,s,train=True):\n",
    "        \"\"\" This function should return the next action to do:\n",
    "        an integer between 0 and 4 (not included) with a random exploration of epsilon\"\"\"\n",
    "        if train:\n",
    "            if np.random.rand() <= self.epsilon:\n",
    "                a = np.random.randint(0, self.n_action, size=1)[0]\n",
    "            else:\n",
    "                a = self.learned_act(s)\n",
    "        else: # in some cases, this can improve the performance.. remove it if poor performances\n",
    "            a = self.learned_act(s)\n",
    "\n",
    "        return a\n",
    "\n",
    "    def learned_act(self,s):\n",
    "        \"\"\" Act via the policy of the agent, from a given state s\n",
    "        it proposes an action a\"\"\"\n",
    "        pass\n",
    "\n",
    "    def reinforce(self, s, n_s, a, r, game_over_):\n",
    "        \"\"\" This function is the core of the learning algorithm. \n",
    "        It takes as an input the current state s_, the next state n_s_\n",
    "        the action a_ used to move from s_ to n_s_ and the reward r_.\n",
    "        \n",
    "        Its goal is to learn a policy.\n",
    "        \"\"\"\n",
    "        pass\n",
    "\n",
    "    def save(self):\n",
    "        \"\"\" This function returns basic stats if applicable: the\n",
    "        loss and/or the model\"\"\"\n",
    "        pass\n",
    "\n",
    "    def load(self):\n",
    "        \"\"\" This function allows to restore a model\"\"\"\n",
    "        pass"
   ]
  },
  {
   "cell_type": "markdown",
   "metadata": {},
   "source": [
    "***\n",
    "__Question 1__:\n",
    "Explain the function act. Why is ```epsilon``` essential?"
   ]
  },
  {
   "cell_type": "markdown",
   "metadata": {},
   "source": [
    "__Answer__\n",
    "\n",
    "The function act implements an $\\epsilon$-greedy policy during training which is defined as \n",
    "\\begin{equation}\n",
    "    \\pi(s)=\\left\\{\n",
    "    \\begin{aligned}\n",
    "    \\mathrm{random ~action~} & \\quad \\mathrm{with ~probability ~} \\epsilon \\\\\n",
    "    \\mathrm{the ~best ~learned ~action ~so ~far} & \\quad \\mathrm{with ~probability ~} 1 - \\epsilon\n",
    "    \\end{aligned}\n",
    "    \\right.\n",
    "\\end{equation}\n",
    "and during testing it takes the best learned action.\n",
    "\n",
    "The ```epsilon``` is essential because it determines the tradeoff between exploration and exploitation. When $\\epsilon$ is too large, we explore too much but do not exploit what we have already learned. When $\\epsilon$ is too small, we do not do enough exploration to learn the best action."
   ]
  },
  {
   "cell_type": "markdown",
   "metadata": {},
   "source": [
    "***\n",
    "### The Game"
   ]
  },
  {
   "cell_type": "markdown",
   "metadata": {},
   "source": [
    "The ```Agent``` and the ```Environment``` work in an interlaced way as in the following (take some time to understand this code as it is the core of the project)\n",
    "\n",
    "```python\n",
    "\n",
    "epoch = 300\n",
    "env = Environment()\n",
    "agent = Agent()\n",
    "\n",
    "\n",
    "# Number of won games\n",
    "score = 0\n",
    "loss = 0\n",
    "\n",
    "\n",
    "for e in range(epoch):\n",
    "    # At each epoch, we restart to a fresh game and get the initial state\n",
    "    state = env.reset()\n",
    "    # This assumes that the games will end\n",
    "    game_over = False\n",
    "\n",
    "    win = 0\n",
    "    lose = 0\n",
    "    \n",
    "    while not game_over:\n",
    "        # The agent performs an action\n",
    "        action = agent.act(state)\n",
    "\n",
    "        # Apply an action to the environment, get the next state, the reward\n",
    "        # and if the games end\n",
    "        prev_state = state\n",
    "        state, reward, game_over = env.act(action)\n",
    "\n",
    "        # Update the counters\n",
    "        if reward > 0:\n",
    "            win = win + reward\n",
    "        if reward < 0:\n",
    "            lose = lose -reward\n",
    "\n",
    "        # Apply the reinforcement strategy\n",
    "        loss = agent.reinforce(prev_state, state,  action, reward, game_over)\n",
    "\n",
    "    # Save as a mp4\n",
    "    if e % 10 == 0:\n",
    "        env.draw(e)\n",
    "\n",
    "    # Update stats\n",
    "    score += win-lose\n",
    "\n",
    "    print(\"Epoch {:03d}/{:03d} | Loss {:.4f} | Win/lose count {}/{} ({})\"\n",
    "          .format(e, epoch, loss, win, lose, win-lose))\n",
    "    agent.save()\n",
    "```"
   ]
  },
  {
   "cell_type": "markdown",
   "metadata": {},
   "source": [
    "# The game, *eat cheese*"
   ]
  },
  {
   "cell_type": "markdown",
   "metadata": {},
   "source": [
    "A rat runs on an island and tries to eat as much as possible. The island is subdivided into $N\\times N$ cells, in which there are cheese (+0.5) and poisonous cells (-1). The rat has a visibility of 2 cells (thus it can see $5^2$ cells). The rat is given a time $T$ to accumulate as much food as possible. It can perform 4 actions: going up, down, left, right. \n",
    "\n",
    "The goal is to code an agent to solve this task that will learn by trial and error. We propose the following environment:"
   ]
  },
  {
   "cell_type": "code",
   "execution_count": 4,
   "metadata": {},
   "outputs": [],
   "source": [
    "class Environment(object):\n",
    "    def __init__(self, grid_size=10, max_time=500, temperature=0.1):\n",
    "        grid_size = grid_size+4\n",
    "        self.grid_size = grid_size\n",
    "        self.max_time = max_time\n",
    "        self.temperature = temperature\n",
    "\n",
    "        #board on which one plays\n",
    "        self.board = np.zeros((grid_size,grid_size))\n",
    "        self.position = np.zeros((grid_size,grid_size))\n",
    "\n",
    "        # coordinate of the cat\n",
    "        self.x = 0\n",
    "        self.y = 1\n",
    "\n",
    "        # self time\n",
    "        self.t = 0\n",
    "\n",
    "        self.scale=16\n",
    "\n",
    "        self.to_draw = np.zeros((max_time+2, grid_size*self.scale, grid_size*self.scale, 3))\n",
    "\n",
    "\n",
    "    def draw(self,e):\n",
    "        skvideo.io.vwrite(str(e) + '.mp4', self.to_draw)\n",
    "\n",
    "    def get_frame(self,t):\n",
    "        b = np.zeros((self.grid_size,self.grid_size,3))+128\n",
    "        b[self.board>0,0] = 256\n",
    "        b[self.board < 0, 2] = 256\n",
    "        b[self.x,self.y,:]=256\n",
    "        b[-2:,:,:]=0\n",
    "        b[:,-2:,:]=0\n",
    "        b[:2,:,:]=0\n",
    "        b[:,:2,:]=0\n",
    "        \n",
    "        b =  cv2.resize(b, None, fx=self.scale, fy=self.scale, interpolation=cv2.INTER_NEAREST)\n",
    "\n",
    "        self.to_draw[t,:,:,:]=b\n",
    "\n",
    "\n",
    "    def act(self, action):\n",
    "        \"\"\"This function returns the new state, reward and decides if the\n",
    "        game ends.\"\"\"\n",
    "\n",
    "        self.get_frame(int(self.t))\n",
    "\n",
    "        self.position = np.zeros((self.grid_size, self.grid_size))\n",
    "\n",
    "        self.position[0:2,:]= -1\n",
    "        self.position[:,0:2] = -1\n",
    "        self.position[-2:, :] = -1\n",
    "        self.position[:, -2:] = -1\n",
    "\n",
    "        self.position[self.x, self.y] = 1\n",
    "        if action == 0:\n",
    "            if self.x == self.grid_size-3:\n",
    "                self.x = self.x-1\n",
    "            else:\n",
    "                self.x = self.x + 1\n",
    "        elif action == 1:\n",
    "            if self.x == 2:\n",
    "                self.x = self.x+1\n",
    "            else:\n",
    "                self.x = self.x-1\n",
    "        elif action == 2:\n",
    "            if self.y == self.grid_size - 3:\n",
    "                self.y = self.y - 1\n",
    "            else:\n",
    "                self.y = self.y + 1\n",
    "        elif action == 3:\n",
    "            if self.y == 2:\n",
    "                self.y = self.y + 1\n",
    "            else:\n",
    "                self.y = self.y - 1\n",
    "        else:\n",
    "            RuntimeError('Error: action not recognized')\n",
    "\n",
    "        self.t = self.t + 1\n",
    "        reward = self.board[self.x, self.y]\n",
    "        self.board[self.x, self.y] = 0\n",
    "        game_over = self.t > self.max_time\n",
    "        state = np.concatenate((self.board.reshape(self.grid_size, self.grid_size,1),\n",
    "                        self.position.reshape(self.grid_size, self.grid_size,1)),axis=2)\n",
    "        state = state[self.x-2:self.x+3,self.y-2:self.y+3,:]\n",
    "\n",
    "        return state, reward, game_over\n",
    "\n",
    "    def reset(self):\n",
    "        \"\"\"This function resets the game and returns the initial state\"\"\"\n",
    "\n",
    "        self.x = np.random.randint(3, self.grid_size-3, size=1)[0]\n",
    "        self.y = np.random.randint(3, self.grid_size-3, size=1)[0]\n",
    "\n",
    "\n",
    "        bonus = 0.5*np.random.binomial(1,self.temperature,size=self.grid_size**2)\n",
    "        bonus = bonus.reshape(self.grid_size,self.grid_size)\n",
    "\n",
    "        malus = -1.0*np.random.binomial(1,self.temperature,size=self.grid_size**2)\n",
    "        malus = malus.reshape(self.grid_size, self.grid_size)\n",
    "\n",
    "        self.to_draw = np.zeros((self.max_time+2, self.grid_size*self.scale, self.grid_size*self.scale, 3))\n",
    "\n",
    "\n",
    "        malus[bonus>0]=0\n",
    "\n",
    "        self.board = bonus + malus\n",
    "\n",
    "        self.position = np.zeros((self.grid_size, self.grid_size))\n",
    "        self.position[0:2,:]= -1\n",
    "        self.position[:,0:2] = -1\n",
    "        self.position[-2:, :] = -1\n",
    "        self.position[:, -2:] = -1\n",
    "        self.board[self.x,self.y] = 0\n",
    "        self.t = 0\n",
    "\n",
    "        state = np.concatenate((\n",
    "                               self.board.reshape(self.grid_size, self.grid_size,1),\n",
    "                        self.position.reshape(self.grid_size, self.grid_size,1)),axis=2)\n",
    "\n",
    "        state = state[self.x - 2:self.x + 3, self.y - 2:self.y + 3, :]\n",
    "        return state"
   ]
  },
  {
   "cell_type": "markdown",
   "metadata": {},
   "source": [
    "The following elements are important because they correspond to the hyper parameters for this project:"
   ]
  },
  {
   "cell_type": "code",
   "execution_count": 5,
   "metadata": {},
   "outputs": [],
   "source": [
    "# parameters\n",
    "size = 13\n",
    "T=200\n",
    "temperature=0.3\n",
    "epochs_train=10 # set small when debugging\n",
    "epochs_test=10 # set small when debugging\n",
    "\n",
    "# display videos\n",
    "def display_videos(name):\n",
    "    video = io.open(name, 'r+b').read()\n",
    "    encoded = base64.b64encode(video)\n",
    "    return '''<video alt=\"test\" controls>\n",
    "                <source src=\"data:video/mp4;base64,{0}\" type=\"video/mp4\" />\n",
    "             </video>'''.format(encoded.decode('ascii'))"
   ]
  },
  {
   "cell_type": "markdown",
   "metadata": {},
   "source": [
    "__Question 2__ Explain the use of the arrays ```position``` and ```board```."
   ]
  },
  {
   "cell_type": "markdown",
   "metadata": {},
   "source": [
    "__Answer__\n",
    "\n",
    "The array ```position``` stores the current position of the rat, with value 1 at the current position of the rat and value 0 at other positions and the margins are set to -1.\n",
    "\n",
    "The array ```board``` stores the whole environment of the game, with value 0.5 at the positions of cheese (bonus) and value -1 at the positions of poison (malus) and value 0 if there is nothing."
   ]
  },
  {
   "cell_type": "markdown",
   "metadata": {},
   "source": [
    "## Random Agent"
   ]
  },
  {
   "cell_type": "markdown",
   "metadata": {},
   "source": [
    "***\n",
    "__Question 3__ Implement a random Agent (only ```learned_act``` needs to be implemented):"
   ]
  },
  {
   "cell_type": "code",
   "execution_count": 6,
   "metadata": {},
   "outputs": [],
   "source": [
    "class RandomAgent(Agent):\n",
    "    def __init__(self):\n",
    "        super(RandomAgent, self).__init__()\n",
    "        pass\n",
    "\n",
    "    def learned_act(self, s):\n",
    "        # take random action in {0, 1, 2, 3}\n",
    "        a = np.random.randint(4, size=1)[0]\n",
    "        return a"
   ]
  },
  {
   "cell_type": "markdown",
   "metadata": {},
   "source": [
    "***\n",
    "***\n",
    "__Question 4__ Visualize the game moves. You need to fill in the following function for the evaluation:"
   ]
  },
  {
   "cell_type": "code",
   "execution_count": 7,
   "metadata": {},
   "outputs": [],
   "source": [
    "def test(agent, env, epochs, prefix=''):\n",
    "    # Number of won games\n",
    "    score = 0\n",
    "        \n",
    "    for e in range(epochs):\n",
    "        \n",
    "        ##### FILL IN HERE\n",
    "        # At each epoch, we restart to a fresh game and get the initial state\n",
    "        state = env.reset()\n",
    "        # This assumes that the games will end\n",
    "        game_over = False\n",
    "\n",
    "        win = 0\n",
    "        lose = 0\n",
    "        \n",
    "        while not game_over:\n",
    "            # The agent performs an action in \"test\" mode (train = False)\n",
    "            action = agent.act(state, train=False)\n",
    "\n",
    "            # Apply an action to the environment, get the next state, the reward\n",
    "            # and if the games end\n",
    "            prev_state = state\n",
    "            state, reward, game_over = env.act(action)\n",
    "\n",
    "            # Update the counters\n",
    "            if reward > 0:\n",
    "                win = win + reward\n",
    "            if reward < 0:\n",
    "                lose = lose - reward\n",
    "        \n",
    "        # Save as a mp4\n",
    "        env.draw(prefix + str(e))\n",
    "\n",
    "        # Update stats\n",
    "        score = score + win - lose\n",
    "\n",
    "        print(\"Win/lose count {}/{}. Average score ({})\"\n",
    "              .format(win, lose, score/(1+e)))\n",
    "    print('Final score: '+str(score/epochs))"
   ]
  },
  {
   "cell_type": "code",
   "execution_count": 8,
   "metadata": {},
   "outputs": [
    {
     "name": "stdout",
     "output_type": "stream",
     "text": [
      "Win/lose count 12.5/14.0. Average score (-1.5)\n",
      "Win/lose count 9.0/12.0. Average score (-2.25)\n",
      "Win/lose count 9.5/12.0. Average score (-2.3333333333333335)\n",
      "Win/lose count 10.5/19.0. Average score (-3.875)\n",
      "Win/lose count 11.0/18.0. Average score (-4.5)\n",
      "Win/lose count 8.5/13.0. Average score (-4.5)\n",
      "Win/lose count 11.0/19.0. Average score (-5.0)\n",
      "Win/lose count 12.5/9.0. Average score (-3.9375)\n",
      "Win/lose count 10.5/14.0. Average score (-3.888888888888889)\n",
      "Win/lose count 7.0/11.0. Average score (-3.9)\n",
      "Final score: -3.9\n"
     ]
    },
    {
     "data": {
      "text/html": [
       "<video alt=\"test\" controls>\n",
       "                <source src=\"data:video/mp4;base64,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\" type=\"video/mp4\" />\n",
       "             </video>"
      ],
      "text/plain": [
       "<IPython.core.display.HTML object>"
      ]
     },
     "execution_count": 8,
     "metadata": {},
     "output_type": "execute_result"
    }
   ],
   "source": [
    "# Initialize the game\n",
    "env = Environment(grid_size=size, max_time=T,temperature=temperature)\n",
    "\n",
    "# Initialize the agent!\n",
    "agent = RandomAgent()\n",
    "\n",
    "test(agent,env,epochs_test,prefix='random')\n",
    "HTML(display_videos('random0.mp4'))"
   ]
  },
  {
   "cell_type": "markdown",
   "metadata": {},
   "source": [
    "__Remark__\n",
    "\n",
    "The random action produces a negative score as the lose of a poison cell (1) is larger than the win of a cheese cell (0.5)."
   ]
  },
  {
   "cell_type": "markdown",
   "metadata": {},
   "source": [
    "***\n",
    "## DQN"
   ]
  },
  {
   "cell_type": "markdown",
   "metadata": {},
   "source": [
    "Let us assume here that $T=\\infty$.\n",
    "\n",
    "***\n",
    "__Question 5__ Let $\\pi$ be a policy, show that:\n",
    "\n",
    "\\begin{equation*}\n",
    "Q^{\\pi}(s,a)=E_{(s',a')\\sim p(.|s,a)}[r(s,a)+\\gamma Q^{\\pi}(s',a')]\n",
    "\\end{equation*}\n",
    "\n",
    "Then, show that for the optimal policy $\\pi^*$ (we assume its existence), the following holds: \n",
    "\n",
    "\\begin{equation*}\n",
    "Q^{*}(s,a)=E_{s'\\sim \\pi^*(.|s,a)}[r(s,a)+\\gamma\\max_{a'}Q^{*}(s',a')].\n",
    "\\end{equation*}\n",
    "Finally, deduce that a plausible objective is:\n",
    "\n",
    "\\begin{equation*}\n",
    "\\mathcal{L}(\\theta)=E_{s' \\sim \\pi^*(.|s,a)}\\Vert r+\\gamma\\max\\max_{a'}Q(s',a',\\theta)-Q(s,a,\\theta)\\Vert^{2}.\n",
    "\\end{equation*}\n",
    "\n",
    "\n"
   ]
  },
  {
   "cell_type": "markdown",
   "metadata": {},
   "source": [
    "__Answer__\n",
    "\n",
    "As mentioned at the beggining of this project, the definition of the $Q$-function is \n",
    "\\begin{equation}\n",
    "    Q^\\pi (s, a) = \\mathbb{E}_{p^\\pi}\\left[\\sum_{t=0}^T \\gamma^t r(s_t, a_t) ~|~ s_0 = s, a_0 = a \\right]\n",
    "\\end{equation}\n",
    "Here $T = \\infty$, then we have \n",
    "\\begin{equation}\n",
    "    \\begin{split}\n",
    "        Q^\\pi (s, a) &= \\mathbb{E}_{p^\\pi}\\left[r(s_0, a_0) + \\sum_{t=1}^\\infty \\gamma^t r(s_t, a_t) ~|~ s_0 = s, a_0 = a \\right] \\\\\n",
    "                    &= r(s, a) + \\mathbb{E}_{p^\\pi} \\left[\\sum_{t=1}^\\infty \\gamma^t r(s_t, a_t) ~|~ s_0 = s, a_0 = a \\right] \\\\\n",
    "                    &= r(s, a) + \\gamma \\sum_{s^\\prime, a^\\prime} p(s^\\prime ~|~ s, a)\\pi(a^\\prime~|~s^\\prime)~ \\mathbb{E}_{p^\\pi} \\left[\\sum_{t=1}^\\infty \\gamma^{t-1} r(s_t, a_t) ~|~ s_1 = s^\\prime, a_1 = a^\\prime \\right] \\\\\n",
    "                    &= r(s, a) + \\gamma \\mathbb{E}_{(s^\\prime, a^\\prime)\\sim p(\\cdot |s, a) \\pi(\\cdot |s^\\prime)} \\left[Q^\\pi (s^\\prime, a^\\prime) \\right] \\\\\n",
    "                    &= \\mathbb{E}_{(s^\\prime, a^\\prime)\\sim p(\\cdot |s, a) \\pi(\\cdot |s^\\prime)} \\left[r(s, a) + \\gamma Q^\\pi (s^\\prime, a^\\prime) \\right]\n",
    "    \\end{split}\n",
    "\\end{equation}\n",
    "which is exactly that we want to show.\n",
    "\n",
    "For any policy $\\pi = (a^\\prime, \\pi^\\prime)$, we have \n",
    "\\begin{equation}\n",
    "    \\begin{split}\n",
    "        Q^*(s, a) &= \\max_{\\pi} Q^\\pi (s, a) \\\\\n",
    "                &= \\max_{a^\\prime, \\pi^\\prime} \\mathbb{E}_{s^\\prime\\sim p(\\cdot |s, a)} \\left[r(s, a) + \\gamma Q^{\\pi^\\prime} (s^\\prime, a^\\prime) \\right] \\\\\n",
    "                &= \\max_{a^\\prime} \\mathbb{E}_{s^\\prime\\sim p(\\cdot |s, a)} \\left[r(s, a) + \\gamma \\max_{\\pi^\\prime} Q^{\\pi^\\prime} (s^\\prime, a^\\prime) \\right] \\\\\n",
    "                &= \\max_{a^\\prime} \\mathbb{E}_{s^\\prime\\sim p(\\cdot |s, a)} \\left[r(s, a) + \\gamma Q^* (s^\\prime, a^\\prime) \\right] \\\\\n",
    "                &= \\mathbb{E}_{s^\\prime\\sim p(\\cdot |s, a)} \\left[r(s, a) + \\gamma \\max_{a^\\prime} Q^* (s^\\prime, a^\\prime) \\right]\n",
    "    \\end{split}\n",
    "\\end{equation}\n",
    "which is that we want to show.\n",
    "\n",
    "Finally, we can estimate the new $Q$-function by \n",
    "\\begin{equation}\n",
    "    Q^{estim}(s, a, \\theta) = \\mathbb{E}_{s^\\prime\\sim p(\\cdot |s, a)} \\left[r(s, a) + \\gamma \\max_{a^\\prime} Q (s^\\prime, a^\\prime, \\theta) \\right]\n",
    "\\end{equation}\n",
    "Then we can use the quadratic loss function \n",
    "\\begin{equation}\n",
    "    \\begin{split}\n",
    "        \\mathcal{L}(\\theta) &= ||Q^{estim}(s, a, \\theta) - Q(s, a, \\theta)||^2 \\\\\n",
    "                &= ||\\mathbb{E}_{s^\\prime\\sim p(\\cdot |s, a)} \\left[r(s, a) + \\gamma \\max_{a^\\prime} Q (s^\\prime, a^\\prime, \\theta) \\right] - Q(s, a, \\theta)||^2 \\\\\n",
    "                &= \\mathbb{E}_{s^\\prime\\sim p(\\cdot |s, a)} \\left[ ||r(s, a) + \\gamma \\max_{a^\\prime} Q (s^\\prime, a^\\prime, \\theta) - Q(s, a, \\theta)||^2\\right]\n",
    "    \\end{split}\n",
    "\\end{equation}"
   ]
  },
  {
   "cell_type": "markdown",
   "metadata": {},
   "source": [
    "***\n",
    "The DQN-learning algorithm relies on these derivations to train the parameters $\\theta$ of a Deep Neural Network:\n",
    "\n",
    "1. At the state $s_t$, select the action $a_t$ with best reward using $Q_t$ and store the results;\n",
    "\n",
    "2. Obtain the new state $s_{t+1}$ from the environment $p$;\n",
    "\n",
    "3. Store $(s_t,a_t,s_{t+1})$;\n",
    "\n",
    "4. Obtain $Q_{t+1}$ by minimizing  $\\mathcal{L}$ from a recovered batch from the previously stored results.\n",
    "\n",
    "***\n",
    "__Question 6__ Implement the class ```Memory``` that stores moves (in a replay buffer) via ```remember``` and provides a ```random_access``` to these. Specify a maximum memory size to avoid side effects. You can for example use a ```list()``` and set by default ```max_memory=100```."
   ]
  },
  {
   "cell_type": "code",
   "execution_count": 9,
   "metadata": {},
   "outputs": [],
   "source": [
    "class Memory(object):\n",
    "    def __init__(self, max_memory=100):\n",
    "        self.max_memory = max_memory\n",
    "        self.memory = list()\n",
    "\n",
    "    def remember(self, m):\n",
    "        # if the max memory size already reached, pop the oldest one and register the new one\n",
    "        if len(self.memory) == self.max_memory:\n",
    "            self.memory.pop(0)\n",
    "            self.memory.append(m)\n",
    "        # else simply register the new one\n",
    "        else:\n",
    "            self.memory.append(m)\n",
    "\n",
    "    def random_access(self):\n",
    "        # randomly take a sample in the memory\n",
    "        idx = np.random.randint(len(self.memory), size=1)[0]\n",
    "        return self.memory[idx]"
   ]
  },
  {
   "cell_type": "markdown",
   "metadata": {},
   "source": [
    "***\n",
    "The pipeline we will use for training is given below:"
   ]
  },
  {
   "cell_type": "code",
   "execution_count": 10,
   "metadata": {},
   "outputs": [],
   "source": [
    "def train(agent,env,epoch,prefix=''):\n",
    "    # Number of won games\n",
    "    score = 0\n",
    "    loss = 0\n",
    "\n",
    "    for e in range(epoch):\n",
    "        # At each epoch, we restart to a fresh game and get the initial state\n",
    "        state = env.reset()\n",
    "        # This assumes that the games will terminate\n",
    "        game_over = False\n",
    "\n",
    "        win = 0\n",
    "        lose = 0\n",
    "\n",
    "        while not game_over:\n",
    "            # The agent performs an action\n",
    "            action = agent.act(state)\n",
    "\n",
    "            # Apply an action to the environment, get the next state, the reward\n",
    "            # and if the games end\n",
    "            prev_state = state\n",
    "            state, reward, game_over = env.act(action)\n",
    "\n",
    "            # Update the counters\n",
    "            if reward > 0:\n",
    "                win = win + reward\n",
    "            if reward < 0:\n",
    "                lose = lose -reward\n",
    "\n",
    "            # Apply the reinforcement strategy\n",
    "            loss = agent.reinforce(prev_state, state,  action, reward, game_over)\n",
    "\n",
    "        # Save as a mp4\n",
    "        if e % 10 == 0:\n",
    "            env.draw(prefix+str(e))\n",
    "\n",
    "        # Update stats\n",
    "        score += win-lose\n",
    "        \n",
    "        # print also 'Average score' to see if the agent learns to win\n",
    "        print(\"Epoch {:03d}/{:03d} | Loss {:.4f} | Win/lose count {}/{} ({}) | Average score ({})\"\n",
    "              .format(e, epoch, loss, win, lose, win-lose, score/(1+e)))\n",
    "        agent.save(name_weights=prefix+'model.h5',name_model=prefix+'model.json')"
   ]
  },
  {
   "cell_type": "markdown",
   "metadata": {},
   "source": [
    "***\n",
    "__Question 7__ Implement the DQN training algorithm using a cascade of fully connected layers. You can use different learning rate, batch size or memory size parameters. In particular, the loss might oscillate while the player will start to win the games. You have to find a good criterium."
   ]
  },
  {
   "cell_type": "code",
   "execution_count": 11,
   "metadata": {},
   "outputs": [],
   "source": [
    "class DQN(Agent):\n",
    "    def __init__(self, grid_size,  epsilon = 0.1, memory_size=100, batch_size = 16, n_state=2):\n",
    "        super(DQN, self).__init__(epsilon = epsilon)\n",
    "\n",
    "        # Discount for Q learning\n",
    "        self.discount = 0.99\n",
    "        \n",
    "        self.grid_size = grid_size\n",
    "        \n",
    "        # number of state\n",
    "        self.n_state = n_state\n",
    "\n",
    "        # Memory\n",
    "        self.memory = Memory(memory_size)\n",
    "        \n",
    "        # Batch size when learning\n",
    "        self.batch_size = batch_size\n",
    "\n",
    "    def learned_act(self, s):\n",
    "        # predict the Q function by the current model and take the action which maximizes the Q function\n",
    "        q = self.model.predict(s.reshape((1, 5, 5, self.n_state)))\n",
    "        a = np.argmax(q)\n",
    "        return a\n",
    "\n",
    "    def reinforce(self, s_, n_s_, a_, r_, game_over_):\n",
    "        # Two steps: first memorize the states, second learn from the pool\n",
    "        self.memory.remember([s_, n_s_, a_, r_, game_over_])\n",
    "        \n",
    "        input_states = np.zeros((self.batch_size, 5, 5, self.n_state))\n",
    "        target_q = np.zeros((self.batch_size, 4))\n",
    "        \n",
    "        for i in range(self.batch_size):\n",
    "            ######## FILL IN\n",
    "            # randomly take a sample from memory\n",
    "            m = self.memory.random_access()\n",
    "            s = m[0].reshape((1, 5, 5, self.n_state))\n",
    "            n_s = m[1].reshape((1, 5, 5, self.n_state))\n",
    "            a = m[2]\n",
    "            r = m[3]\n",
    "            game_over = m[4]\n",
    "            # store the state as a sample in the batch and predict the Q function by the current model\n",
    "            input_states[i] = s\n",
    "            target_q[i] = self.model.predict(s)\n",
    "            \n",
    "            # change target_q[i, a] to the estimated value in the two cases whether the game is over\n",
    "            if game_over:\n",
    "                ######## FILL IN\n",
    "                target_q[i, a] = r\n",
    "            else:\n",
    "                ######## FILL IN\n",
    "                target_q[i, a] = r + self.discount * np.max(self.model.predict(n_s))\n",
    "        ######## FILL IN\n",
    "        # HINT: Clip the target to avoid exploiding gradients.. -- clipping is a bit tighter\n",
    "        target_q = np.clip(target_q, -3, 3)\n",
    "\n",
    "        l = self.model.train_on_batch(input_states, target_q)\n",
    "\n",
    "        return l\n",
    "\n",
    "    def save(self,name_weights='model.h5',name_model='model.json'):\n",
    "        self.model.save_weights(name_weights, overwrite=True)\n",
    "        with open(name_model, \"w\") as outfile:\n",
    "            json.dump(self.model.to_json(), outfile)\n",
    "            \n",
    "    def load(self,name_weights='model.h5',name_model='model.json'):\n",
    "        with open(name_model, \"r\") as jfile:\n",
    "            model = model_from_json(json.load(jfile))\n",
    "        model.load_weights(name_weights)\n",
    "        model.compile(\"sgd\", \"mse\")\n",
    "        self.model = model\n",
    "\n",
    "            \n",
    "class DQN_FC(DQN):\n",
    "    def __init__(self, *args, lr=0.1,**kwargs):\n",
    "        super(DQN_FC, self).__init__( *args,**kwargs)\n",
    "        \n",
    "        # NN Model\n",
    "        # design a fully connected network with two hidden layers of 32 and 16 neurons\n",
    "        ####### FILL IN\n",
    "        model = keras.Sequential()\n",
    "        model.add(keras.layers.Flatten(input_shape=(5, 5, self.n_state)))\n",
    "        model.add(Dense(32))\n",
    "        model.add(Activation('relu'))\n",
    "        model.add(Dense(16))\n",
    "        model.add(Activation('relu'))\n",
    "        model.add(Dense(4))\n",
    "        \n",
    "        model.compile(sgd(lr=lr, decay=1e-4, momentum=0.0), \"mse\")\n",
    "        self.model = model"
   ]
  },
  {
   "cell_type": "code",
   "execution_count": 12,
   "metadata": {},
   "outputs": [],
   "source": [
    "# reset the parameters for training\n",
    "temperature = 0.3 # one can set temperature smaller or larger to see its effect\n",
    "epochs_train = 60 # one can take more epochs for training in order to learn more\n",
    "epochs_test = 20\n",
    "lr = 0.1\n",
    "epsilon = 0.1\n",
    "memory_size = 2000\n",
    "batch_size = 32"
   ]
  },
  {
   "cell_type": "code",
   "execution_count": 13,
   "metadata": {},
   "outputs": [
    {
     "name": "stdout",
     "output_type": "stream",
     "text": [
      "WARNING:tensorflow:Variable *= will be deprecated. Use `var.assign(var * other)` if you want assignment to the variable value or `x = x * y` if you want a new python Tensor object.\n",
      "Epoch 000/060 | Loss 0.0030 | Win/lose count 2.5/5.0 (-2.5) | Average score (-2.5)\n",
      "Epoch 001/060 | Loss 0.0111 | Win/lose count 1.0/2.0 (-1.0) | Average score (-1.75)\n",
      "Epoch 002/060 | Loss 0.0061 | Win/lose count 3.0/5.0 (-2.0) | Average score (-1.8333333333333333)\n",
      "Epoch 003/060 | Loss 0.0200 | Win/lose count 5.0/7.0 (-2.0) | Average score (-1.875)\n",
      "Epoch 004/060 | Loss 0.0041 | Win/lose count 3.5/6.0 (-2.5) | Average score (-2.0)\n",
      "Epoch 005/060 | Loss 0.0081 | Win/lose count 1.0/1.0 (0.0) | Average score (-1.6666666666666667)\n",
      "Epoch 006/060 | Loss 0.0106 | Win/lose count 3.5/3.0 (0.5) | Average score (-1.3571428571428572)\n",
      "Epoch 007/060 | Loss 0.0086 | Win/lose count 5.5/12.0 (-6.5) | Average score (-2.0)\n",
      "Epoch 008/060 | Loss 0.0078 | Win/lose count 1.5/4.0 (-2.5) | Average score (-2.0555555555555554)\n",
      "Epoch 009/060 | Loss 0.0157 | Win/lose count 5.5/3.0 (2.5) | Average score (-1.6)\n",
      "Epoch 010/060 | Loss 0.0138 | Win/lose count 4.5/1.0 (3.5) | Average score (-1.1363636363636365)\n",
      "Epoch 011/060 | Loss 0.0032 | Win/lose count 3.0/3.0 (0.0) | Average score (-1.0416666666666667)\n",
      "Epoch 012/060 | Loss 0.0023 | Win/lose count 1.5/1.0 (0.5) | Average score (-0.9230769230769231)\n",
      "Epoch 013/060 | Loss 0.0472 | Win/lose count 6.5/5.0 (1.5) | Average score (-0.75)\n",
      "Epoch 014/060 | Loss 0.0016 | Win/lose count 3.5/3.0 (0.5) | Average score (-0.6666666666666666)\n",
      "Epoch 015/060 | Loss 0.0044 | Win/lose count 1.5/2.0 (-0.5) | Average score (-0.65625)\n",
      "Epoch 016/060 | Loss 0.0556 | Win/lose count 4.0/1.0 (3.0) | Average score (-0.4411764705882353)\n",
      "Epoch 017/060 | Loss 0.0035 | Win/lose count 3.0/6.0 (-3.0) | Average score (-0.5833333333333334)\n",
      "Epoch 018/060 | Loss 0.0099 | Win/lose count 3.5/5.0 (-1.5) | Average score (-0.631578947368421)\n",
      "Epoch 019/060 | Loss 0.0052 | Win/lose count 4.5/4.0 (0.5) | Average score (-0.575)\n",
      "Epoch 020/060 | Loss 0.0082 | Win/lose count 3.0/3.0 (0.0) | Average score (-0.5476190476190477)\n",
      "Epoch 021/060 | Loss 0.0110 | Win/lose count 2.0/3.0 (-1.0) | Average score (-0.5681818181818182)\n",
      "Epoch 022/060 | Loss 0.0064 | Win/lose count 3.0/2.0 (1.0) | Average score (-0.5)\n",
      "Epoch 023/060 | Loss 0.0059 | Win/lose count 2.0/4.0 (-2.0) | Average score (-0.5625)\n",
      "Epoch 024/060 | Loss 0.0099 | Win/lose count 3.0/3.0 (0.0) | Average score (-0.54)\n",
      "Epoch 025/060 | Loss 0.0156 | Win/lose count 1.5/2.0 (-0.5) | Average score (-0.5384615384615384)\n",
      "Epoch 026/060 | Loss 0.0011 | Win/lose count 5.5/4.0 (1.5) | Average score (-0.46296296296296297)\n",
      "Epoch 027/060 | Loss 0.0018 | Win/lose count 3.0/2.0 (1.0) | Average score (-0.4107142857142857)\n",
      "Epoch 028/060 | Loss 0.0129 | Win/lose count 9.0/6.0 (3.0) | Average score (-0.29310344827586204)\n",
      "Epoch 029/060 | Loss 0.0042 | Win/lose count 5.0/2.0 (3.0) | Average score (-0.18333333333333332)\n",
      "Epoch 030/060 | Loss 0.0357 | Win/lose count 11.0/1.0 (10.0) | Average score (0.14516129032258066)\n",
      "Epoch 031/060 | Loss 0.0037 | Win/lose count 2.0/4.0 (-2.0) | Average score (0.078125)\n",
      "Epoch 032/060 | Loss 0.0046 | Win/lose count 8.0/3.0 (5.0) | Average score (0.22727272727272727)\n",
      "Epoch 033/060 | Loss 0.0239 | Win/lose count 5.5/1.0 (4.5) | Average score (0.35294117647058826)\n",
      "Epoch 034/060 | Loss 0.0573 | Win/lose count 8.0/2.0 (6.0) | Average score (0.5142857142857142)\n",
      "Epoch 035/060 | Loss 0.0052 | Win/lose count 7.5/3.0 (4.5) | Average score (0.625)\n",
      "Epoch 036/060 | Loss 0.0039 | Win/lose count 6.5/3.0 (3.5) | Average score (0.7027027027027027)\n",
      "Epoch 037/060 | Loss 0.0545 | Win/lose count 12.0/1.0 (11.0) | Average score (0.9736842105263158)\n",
      "Epoch 038/060 | Loss 0.0049 | Win/lose count 6.0/3.0 (3.0) | Average score (1.0256410256410255)\n",
      "Epoch 039/060 | Loss 0.0544 | Win/lose count 6.5/3.0 (3.5) | Average score (1.0875)\n",
      "Epoch 040/060 | Loss 0.0579 | Win/lose count 5.5/5.0 (0.5) | Average score (1.0731707317073171)\n",
      "Epoch 041/060 | Loss 0.0044 | Win/lose count 9.0/5.0 (4.0) | Average score (1.1428571428571428)\n",
      "Epoch 042/060 | Loss 0.0032 | Win/lose count 4.5/1.0 (3.5) | Average score (1.197674418604651)\n",
      "Epoch 043/060 | Loss 0.0079 | Win/lose count 6.5/3.0 (3.5) | Average score (1.25)\n",
      "Epoch 044/060 | Loss 0.0028 | Win/lose count 5.5/2.0 (3.5) | Average score (1.3)\n",
      "Epoch 045/060 | Loss 0.0070 | Win/lose count 5.0/6.0 (-1.0) | Average score (1.25)\n",
      "Epoch 046/060 | Loss 0.0068 | Win/lose count 5.5/4.0 (1.5) | Average score (1.2553191489361701)\n",
      "Epoch 047/060 | Loss 0.0039 | Win/lose count 4.5/2.0 (2.5) | Average score (1.28125)\n",
      "Epoch 048/060 | Loss 0.0035 | Win/lose count 7.0/1.0 (6.0) | Average score (1.3775510204081634)\n",
      "Epoch 049/060 | Loss 0.0090 | Win/lose count 6.0/2.0 (4.0) | Average score (1.43)\n",
      "Epoch 050/060 | Loss 0.0761 | Win/lose count 12.5/3.0 (9.5) | Average score (1.588235294117647)\n",
      "Epoch 051/060 | Loss 0.0547 | Win/lose count 6.5/4.0 (2.5) | Average score (1.6057692307692308)\n",
      "Epoch 052/060 | Loss 0.0036 | Win/lose count 8.0/2.0 (6.0) | Average score (1.6886792452830188)\n",
      "Epoch 053/060 | Loss 0.0032 | Win/lose count 6.0/3.0 (3.0) | Average score (1.712962962962963)\n",
      "Epoch 054/060 | Loss 0.0484 | Win/lose count 5.0/1.0 (4.0) | Average score (1.7545454545454546)\n",
      "Epoch 055/060 | Loss 0.0048 | Win/lose count 6.5/2.0 (4.5) | Average score (1.8035714285714286)\n",
      "Epoch 056/060 | Loss 0.0056 | Win/lose count 9.5/2.0 (7.5) | Average score (1.9035087719298245)\n",
      "Epoch 057/060 | Loss 0.0483 | Win/lose count 8.5/2.0 (6.5) | Average score (1.9827586206896552)\n",
      "Epoch 058/060 | Loss 0.0062 | Win/lose count 10.5/4.0 (6.5) | Average score (2.059322033898305)\n",
      "Epoch 059/060 | Loss 0.0031 | Win/lose count 5.5/5.0 (0.5) | Average score (2.033333333333333)\n"
     ]
    },
    {
     "data": {
      "text/html": [
       "<video alt=\"test\" controls>\n",
       "                <source src=\"data:video/mp4;base64,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\" type=\"video/mp4\" />\n",
       "             </video>"
      ],
      "text/plain": [
       "<IPython.core.display.HTML object>"
      ]
     },
     "execution_count": 13,
     "metadata": {},
     "output_type": "execute_result"
    }
   ],
   "source": [
    "env = Environment(grid_size=size, max_time=T, temperature=temperature)\n",
    "agent = DQN_FC(size, lr=lr, epsilon = epsilon, memory_size=memory_size, batch_size = batch_size)\n",
    "train(agent, env, epochs_train, prefix='fc_train')\n",
    "HTML(display_videos('fc_train10.mp4'))"
   ]
  },
  {
   "cell_type": "markdown",
   "metadata": {},
   "source": [
    "***\n",
    "***\n",
    "__Question 8__ Implement the DQN training algorithm using a CNN (for example, 2 convolutional layers and one final fully connected layer)."
   ]
  },
  {
   "cell_type": "code",
   "execution_count": 14,
   "metadata": {},
   "outputs": [],
   "source": [
    "class DQN_CNN(DQN):\n",
    "    def __init__(self, *args,lr=0.1,**kwargs):\n",
    "        super(DQN_CNN, self).__init__(*args,**kwargs)\n",
    "        \n",
    "        # design a CNN network with 2 conv layers of 16 and 32 filters and 1 fully connected layer\n",
    "        \n",
    "        ###### FILL IN\n",
    "        model = keras.Sequential()\n",
    "        model.add(Conv2D(16, kernel_size=(3, 3), padding='same', activation='relu', input_shape=(5, 5, self.n_state)))\n",
    "        model.add(Conv2D(32, kernel_size=(3, 3), padding='same', activation='relu'))\n",
    "        model.add(keras.layers.Flatten())\n",
    "        model.add(Dense(4))\n",
    "        \n",
    "        model.compile(sgd(lr=lr, decay=1e-4, momentum=0.0), \"mse\")\n",
    "        self.model = model"
   ]
  },
  {
   "cell_type": "code",
   "execution_count": 15,
   "metadata": {},
   "outputs": [
    {
     "name": "stdout",
     "output_type": "stream",
     "text": [
      "Epoch 000/060 | Loss 0.0167 | Win/lose count 4.5/8.0 (-3.5) | Average score (-3.5)\n",
      "Epoch 001/060 | Loss 0.0099 | Win/lose count 4.5/4.0 (0.5) | Average score (-1.5)\n",
      "Epoch 002/060 | Loss 0.0080 | Win/lose count 3.0/3.0 (0.0) | Average score (-1.0)\n",
      "Epoch 003/060 | Loss 0.0061 | Win/lose count 3.5/7.0 (-3.5) | Average score (-1.625)\n",
      "Epoch 004/060 | Loss 0.0102 | Win/lose count 2.5/3.0 (-0.5) | Average score (-1.4)\n",
      "Epoch 005/060 | Loss 0.0020 | Win/lose count 5.0/2.0 (3.0) | Average score (-0.6666666666666666)\n",
      "Epoch 006/060 | Loss 0.0039 | Win/lose count 2.0/4.0 (-2.0) | Average score (-0.8571428571428571)\n",
      "Epoch 007/060 | Loss 0.0059 | Win/lose count 3.0/2.0 (1.0) | Average score (-0.625)\n",
      "Epoch 008/060 | Loss 0.0037 | Win/lose count 6.0/1.0 (5.0) | Average score (0.0)\n",
      "Epoch 009/060 | Loss 0.0030 | Win/lose count 4.0/2.0 (2.0) | Average score (0.2)\n",
      "Epoch 010/060 | Loss 0.0019 | Win/lose count 5.5/1.0 (4.5) | Average score (0.5909090909090909)\n",
      "Epoch 011/060 | Loss 0.0088 | Win/lose count 3.0/1.0 (2.0) | Average score (0.7083333333333334)\n",
      "Epoch 012/060 | Loss 0.0022 | Win/lose count 7.0/1.0 (6.0) | Average score (1.1153846153846154)\n",
      "Epoch 013/060 | Loss 0.0021 | Win/lose count 8.0/2.0 (6.0) | Average score (1.4642857142857142)\n",
      "Epoch 014/060 | Loss 0.0009 | Win/lose count 14.5/3.0 (11.5) | Average score (2.1333333333333333)\n",
      "Epoch 015/060 | Loss 0.0014 | Win/lose count 15.0/1.0 (14.0) | Average score (2.875)\n",
      "Epoch 016/060 | Loss 0.0014 | Win/lose count 5.5/1.0 (4.5) | Average score (2.9705882352941178)\n",
      "Epoch 017/060 | Loss 0.0049 | Win/lose count 17.0/2.0 (15.0) | Average score (3.638888888888889)\n",
      "Epoch 018/060 | Loss 0.0009 | Win/lose count 6.0/2.0 (4.0) | Average score (3.6578947368421053)\n",
      "Epoch 019/060 | Loss 0.0025 | Win/lose count 12.5/5.0 (7.5) | Average score (3.85)\n",
      "Epoch 020/060 | Loss 0.0589 | Win/lose count 8.5/3.0 (5.5) | Average score (3.9285714285714284)\n",
      "Epoch 021/060 | Loss 0.0017 | Win/lose count 16.5/4.0 (12.5) | Average score (4.318181818181818)\n",
      "Epoch 022/060 | Loss 0.0015 | Win/lose count 14.5/7.0 (7.5) | Average score (4.456521739130435)\n",
      "Epoch 023/060 | Loss 0.0031 | Win/lose count 10.5/1.0 (9.5) | Average score (4.666666666666667)\n",
      "Epoch 024/060 | Loss 0.0524 | Win/lose count 13.5/3.0 (10.5) | Average score (4.9)\n",
      "Epoch 025/060 | Loss 0.0062 | Win/lose count 14.5/4.0 (10.5) | Average score (5.115384615384615)\n",
      "Epoch 026/060 | Loss 0.0034 | Win/lose count 11.5/1.0 (10.5) | Average score (5.314814814814815)\n",
      "Epoch 027/060 | Loss 0.0031 | Win/lose count 7.5/2.0 (5.5) | Average score (5.321428571428571)\n",
      "Epoch 028/060 | Loss 0.0032 | Win/lose count 13.5/6.0 (7.5) | Average score (5.396551724137931)\n",
      "Epoch 029/060 | Loss 0.0012 | Win/lose count 6.5/5.0 (1.5) | Average score (5.266666666666667)\n",
      "Epoch 030/060 | Loss 0.0031 | Win/lose count 8.0/1.0 (7.0) | Average score (5.32258064516129)\n",
      "Epoch 031/060 | Loss 0.0030 | Win/lose count 20.5/3.0 (17.5) | Average score (5.703125)\n",
      "Epoch 032/060 | Loss 0.0039 | Win/lose count 7.0/0 (7.0) | Average score (5.742424242424242)\n",
      "Epoch 033/060 | Loss 0.0045 | Win/lose count 10.5/2.0 (8.5) | Average score (5.823529411764706)\n",
      "Epoch 034/060 | Loss 0.0017 | Win/lose count 11.0/3.0 (8.0) | Average score (5.885714285714286)\n",
      "Epoch 035/060 | Loss 0.0017 | Win/lose count 13.0/4.0 (9.0) | Average score (5.972222222222222)\n",
      "Epoch 036/060 | Loss 0.0025 | Win/lose count 14.5/2.0 (12.5) | Average score (6.148648648648648)\n",
      "Epoch 037/060 | Loss 0.0030 | Win/lose count 16.0/4.0 (12.0) | Average score (6.302631578947368)\n",
      "Epoch 038/060 | Loss 0.0043 | Win/lose count 10.0/1.0 (9.0) | Average score (6.371794871794871)\n",
      "Epoch 039/060 | Loss 0.0480 | Win/lose count 15.5/3.0 (12.5) | Average score (6.525)\n",
      "Epoch 040/060 | Loss 0.0013 | Win/lose count 22.0/2.0 (20.0) | Average score (6.853658536585366)\n",
      "Epoch 041/060 | Loss 0.0354 | Win/lose count 7.0/2.0 (5.0) | Average score (6.809523809523809)\n",
      "Epoch 042/060 | Loss 0.0016 | Win/lose count 6.5/0 (6.5) | Average score (6.8023255813953485)\n",
      "Epoch 043/060 | Loss 0.0030 | Win/lose count 18.0/0 (18.0) | Average score (7.056818181818182)\n",
      "Epoch 044/060 | Loss 0.0033 | Win/lose count 12.5/5.0 (7.5) | Average score (7.066666666666666)\n",
      "Epoch 045/060 | Loss 0.0438 | Win/lose count 15.5/2.0 (13.5) | Average score (7.206521739130435)\n",
      "Epoch 046/060 | Loss 0.0011 | Win/lose count 18.5/3.0 (15.5) | Average score (7.382978723404255)\n",
      "Epoch 047/060 | Loss 0.0020 | Win/lose count 17.0/3.0 (14.0) | Average score (7.520833333333333)\n",
      "Epoch 048/060 | Loss 0.0031 | Win/lose count 19.0/2.0 (17.0) | Average score (7.714285714285714)\n",
      "Epoch 049/060 | Loss 0.0016 | Win/lose count 18.0/3.0 (15.0) | Average score (7.86)\n",
      "Epoch 050/060 | Loss 0.0418 | Win/lose count 15.5/3.0 (12.5) | Average score (7.950980392156863)\n",
      "Epoch 051/060 | Loss 0.0981 | Win/lose count 14.0/4.0 (10.0) | Average score (7.990384615384615)\n",
      "Epoch 052/060 | Loss 0.0043 | Win/lose count 23.5/5.0 (18.5) | Average score (8.18867924528302)\n",
      "Epoch 053/060 | Loss 0.0036 | Win/lose count 17.5/2.0 (15.5) | Average score (8.324074074074074)\n",
      "Epoch 054/060 | Loss 0.0023 | Win/lose count 9.5/1.0 (8.5) | Average score (8.327272727272728)\n",
      "Epoch 055/060 | Loss 0.0026 | Win/lose count 21.0/6.0 (15.0) | Average score (8.446428571428571)\n",
      "Epoch 056/060 | Loss 0.0018 | Win/lose count 8.5/5.0 (3.5) | Average score (8.359649122807017)\n",
      "Epoch 057/060 | Loss 0.0051 | Win/lose count 7.0/2.0 (5.0) | Average score (8.301724137931034)\n",
      "Epoch 058/060 | Loss 0.0021 | Win/lose count 1.5/1.0 (0.5) | Average score (8.169491525423728)\n",
      "Epoch 059/060 | Loss 0.0023 | Win/lose count 17.0/1.0 (16.0) | Average score (8.3)\n"
     ]
    },
    {
     "data": {
      "text/html": [
       "<video alt=\"test\" controls>\n",
       "                <source src=\"data:video/mp4;base64,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\" type=\"video/mp4\" />\n",
       "             </video>"
      ],
      "text/plain": [
       "<IPython.core.display.HTML object>"
      ]
     },
     "execution_count": 15,
     "metadata": {},
     "output_type": "execute_result"
    }
   ],
   "source": [
    "env = Environment(grid_size=size, max_time=T, temperature=temperature)\n",
    "agent = DQN_CNN(size, lr=lr, epsilon = epsilon, memory_size=memory_size, batch_size = batch_size)\n",
    "train(agent,env,epochs_train,prefix='cnn_train')\n",
    "HTML(display_videos('cnn_train10.mp4'))"
   ]
  },
  {
   "cell_type": "markdown",
   "metadata": {},
   "source": [
    "***\n",
    "***\n",
    "__Question 9__ Test both algorithms and compare their performances. Which issue(s) do you observe? Observe also different behaviors by changing the temperature."
   ]
  },
  {
   "cell_type": "code",
   "execution_count": 16,
   "metadata": {},
   "outputs": [
    {
     "name": "stdout",
     "output_type": "stream",
     "text": [
      "Test of the CNN\n",
      "Win/lose count 3.0/0. Average score (3.0)\n",
      "Win/lose count 11.5/1.0. Average score (6.75)\n",
      "Win/lose count 8.0/0. Average score (7.166666666666667)\n",
      "Win/lose count 5.0/1.0. Average score (6.375)\n",
      "Win/lose count 6.0/0. Average score (6.3)\n",
      "Win/lose count 2.5/0. Average score (5.666666666666667)\n",
      "Win/lose count 1.5/0. Average score (5.071428571428571)\n",
      "Win/lose count 4.5/0. Average score (5.0)\n",
      "Win/lose count 2.0/0. Average score (4.666666666666667)\n",
      "Win/lose count 16.5/0. Average score (5.85)\n",
      "Win/lose count 2.5/0. Average score (5.545454545454546)\n",
      "Win/lose count 1.0/0. Average score (5.166666666666667)\n",
      "Win/lose count 2.0/0. Average score (4.923076923076923)\n",
      "Win/lose count 5.5/0. Average score (4.964285714285714)\n",
      "Win/lose count 16.0/0. Average score (5.7)\n",
      "Win/lose count 7.5/0. Average score (5.8125)\n",
      "Win/lose count 13.0/0. Average score (6.235294117647059)\n",
      "Win/lose count 0.5/0. Average score (5.916666666666667)\n",
      "Win/lose count 1.5/0. Average score (5.684210526315789)\n",
      "Win/lose count 4.0/1.0. Average score (5.55)\n",
      "Final score: 5.55\n",
      "Test of the FC\n",
      "Win/lose count 1.5/0. Average score (1.5)\n",
      "Win/lose count 0.5/0. Average score (1.0)\n",
      "Win/lose count 5.0/0. Average score (2.3333333333333335)\n",
      "Win/lose count 5.0/0. Average score (3.0)\n",
      "Win/lose count 6.0/0. Average score (3.6)\n",
      "Win/lose count 1.5/1.0. Average score (3.0833333333333335)\n",
      "Win/lose count 5.0/0. Average score (3.357142857142857)\n",
      "Win/lose count 1.5/0. Average score (3.125)\n",
      "Win/lose count 6.5/0. Average score (3.5)\n",
      "Win/lose count 5.0/0. Average score (3.65)\n",
      "Win/lose count 3.5/0. Average score (3.6363636363636362)\n",
      "Win/lose count 5.5/0. Average score (3.7916666666666665)\n",
      "Win/lose count 3.5/1.0. Average score (3.6923076923076925)\n",
      "Win/lose count 3.0/0. Average score (3.642857142857143)\n",
      "Win/lose count 2.0/1.0. Average score (3.466666666666667)\n",
      "Win/lose count 0.5/0. Average score (3.28125)\n",
      "Win/lose count 1.5/0. Average score (3.176470588235294)\n",
      "Win/lose count 7.0/0. Average score (3.388888888888889)\n",
      "Win/lose count 6.5/0. Average score (3.5526315789473686)\n",
      "Win/lose count 5.5/0. Average score (3.65)\n",
      "Final score: 3.65\n"
     ]
    }
   ],
   "source": [
    "env = Environment(grid_size=size, max_time=T,temperature=temperature)\n",
    "agent_cnn = DQN_CNN(size, lr=lr, epsilon = epsilon, memory_size=memory_size, batch_size = batch_size)\n",
    "agent_cnn.load(name_weights='cnn_trainmodel.h5',name_model='cnn_trainmodel.json')\n",
    "\n",
    "agent_fc = DQN_FC(size, lr=lr, epsilon = epsilon, memory_size=memory_size, batch_size = batch_size)\n",
    "agent_fc.load(name_weights='fc_trainmodel.h5',name_model='fc_trainmodel.json')\n",
    "print('Test of the CNN')\n",
    "test(agent_cnn,env,epochs_test,prefix='cnn_test')\n",
    "print('Test of the FC')\n",
    "test(agent_fc,env,epochs_test,prefix='fc_test')"
   ]
  },
  {
   "cell_type": "code",
   "execution_count": 17,
   "metadata": {},
   "outputs": [
    {
     "data": {
      "text/html": [
       "<video alt=\"test\" controls>\n",
       "                <source src=\"data:video/mp4;base64,AAAAIGZ0eXBpc29tAAACAGlzb21pc28yYXZjMW1wNDEAAAAIZnJlZQAAF39tZGF0AAACrQYF//+p3EXpvebZSLeWLNgg2SPu73gyNjQgLSBjb3JlIDE1NSByMjkxNyAwYTg0ZDk4IC0gSC4yNjQvTVBFRy00IEFWQyBjb2RlYyAtIENvcHlsZWZ0IDIwMDMtMjAxOCAtIGh0dHA6Ly93d3cudmlkZW9sYW4ub3JnL3gyNjQuaHRtbCAtIG9wdGlvbnM6IGNhYmFjPTEgcmVmPTMgZGVibG9jaz0xOjA6MCBhbmFseXNlPTB4MToweDExMSBtZT1oZXggc3VibWU9NyBwc3k9MSBwc3lfcmQ9MS4wMDowLjAwIG1peGVkX3JlZj0xIG1lX3JhbmdlPTE2IGNocm9tYV9tZT0xIHRyZWxsaXM9MSA4eDhkY3Q9MCBjcW09MCBkZWFkem9uZT0yMSwxMSBmYXN0X3Bza2lwPTEgY2hyb21hX3FwX29mZnNldD00IHRocmVhZHM9NiBsb29rYWhlYWRfdGhyZWFkcz0xIHNsaWNlZF90aHJlYWRzPTAgbnI9MCBkZWNpbWF0ZT0xIGludGVybGFjZWQ9MCBibHVyYXlfY29tcGF0PTAgY29uc3RyYWluZWRfaW50cmE9MCBiZnJhbWVzPTMgYl9weXJhbWlkPTIgYl9hZGFwdD0xIGJfYmlhcz0wIGRpcmVjdD0xIHdlaWdodGI9MSBvcGVuX2dvcD0wIHdlaWdodHA9MiBrZXlpbnQ9MjUwIGtleWludF9taW49MjUgc2NlbmVjdXQ9NDAgaW50cmFfcmVmcmVzaD0wIHJjX2xvb2thaGVhZD00MCByYz1jcmYgbWJ0cmVlPTEgY3JmPTIzLjAgcWNvbXA9MC42MCBxcG1pbj0wIHFwbWF4PTY5IHFwc3RlcD00IGlwX3JhdGlvPTEuNDAgYXE9MToxLjAwAIAAAALYZYiEADP//vaG+BTYUyP+T7/8I/+5H7cfWfrixkIJvrVeQ9GAMl8a/5lGYaXpyc8t7R+vTNAEZz6HlLJIofgUkwDfMsjnE+J8s6FP3lFrFWUnap35Ti0wP+cpR0TbEA6o9HQJ+1h0a7vdBAHFOUc+rBIMSUtPG4RMRrOwZbjAhWtoZxE42iFmPyOBmYgYN0pCVqGlgDxYaSli3FLpHRu1A9zTo6UwSPT84MF7b298epEf3JAeFAIQhiGNVGv2n5XlCOH/s78/AUKno8ohfv7J3z9jWq/kHgsaYYP/Y5AUJFrdcarenDZapplIntc5PXNR9HHCvJZesZfUKiB6Pu3sEU0//EQSuSrvzklMFPx8Yv+W4trJZaOS4AoekuncqQ9lGIGXeYOkVL/i2TeHGR51wC4YmDmGFae2tiKVRI3Y9j/39pD5SZJp2BHb8xMKQB7RLNEaj6zA3WrX7Bp+/jr9wlZcSD8panGS1TlcH+AZE/m1tIkA2Yx8c8YR06w2cohfnfuPHB7m3vU3ksPhbb7EiyYwUxqz4v0hO5f23NF1zAkg61wDGegXAnI4/AjsGazPXvmKTKTuIbxTrigeCWfzwbGzTacpR7HXhfKXPT8F7wllHEH4X50XxhbLrTSTDjq7IM7sJFQ1M5nADuwI/ggQfc0LnQde+BtiyuTgnO3o6qjgB3A4nrnYdniDRrY/GOE8pBOKi4G6fgvKaCRKuzgr3CIMHzK+MpbEk3EBC3eiabfw1X4fjsLIDGiD+YU0eLvryOiQAJvRmGcDDSV73GWM5NlK7YQjk6udMRanQFp5apn8+WBxVnKMofWVKYRQUs9KrDCW5AvMAWAH0veiW/fiJQSjyJE6xxkvGZeTHhlfvAuno04XDFQz4H0Z9bUR/re/T0huhb4bwxVjYTmQYqItrwHUYSomebxeDuZBm05jH0ZRkpdc/tbMXvOLpC/R8ni33bwNiqAA0IEAAAATQZohbEM//p4QAPl6+/kwR9YTZgAAABhBmkI8IZMphDf//qeEACo+6n6jjQkOUEEAAAAZQZpjSeEPJlMCG//+p4QAGx9g/wnBboTqQAAAABlBmoRJ4Q8mUwId//6plgAIz8efv2Qbip7hAAAAH0GaqEnhDyZTAh3//qmWAAXj31e/zbZ7il1ULIUvJCEAAAARQZ7GRRE8L/8ABug+q53R/38AAAAOAZ7ldEK/AAlu47zzjEcAAAAQAZ7nakK/AAksnznWhhf7QAAAABxBmuxJqEFomUwIb//+p4QABxvYP8tdLc4JooDsAAAAEEGfCkURLC//AAQ2f7vKKtEAAAAQAZ8pdEK/AAXROY4D8oAjYAAAABoBnytqQr8AAnVht4FNX0COZY9XK5lRQ8uncAAAABpBmy9JqEFsmUwIb//+p4QAAw9g1IIRP8uq4QAAAA9Bn01FFSwr/wACfNbiE8EAAAANAZ9uakK/AAJ9ykXAnwAAABNBm3FJqEFsmUwUTDf//qeEAAEnAAAAEQGfkGpCvwACfDSY2O1/5gCnAAAAEkGbk0nhClJlMFLDf/6nhAABJwAAABMBn7JqQr8AAnwEMEHZbqY8uRZEAAAAEkGbtUnhDomUwUTDf/6nhAABJwAAABMBn9RqQr8AAnwEMEHZbqY8uRZFAAAAEkGb10nhDyZTBTw3//6nhAABJwAAABMBn/ZqQr8AAnwEMEHZbqY8uRZFAAAAEkGb+UnhDyZTBTw3//6nhAABJwAAABMBnhhqQr8AAnwEMEHZbqY8uRZEAAAAEkGaG0nhDyZTBTw3//6nhAABJwAAABMBnjpqQr8AAnwEMEHZbqY8uRZEAAAAEkGaPUnhDyZTBTw3//6nhAABJwAAABMBnlxqQr8AAnwEMEHZbqY8uRZFAAAAEkGaX0nhDyZTBTw3//6nhAABJwAAABMBnn5qQr8AAnwEMEHZbqY8uRZEAAAAEkGaYUnhDyZTBTw3//6nhAABJwAAABMBnoBqQr8AAnwEMEHZbqY8uRZEAAAAEkGag0nhDyZTBTw3//6nhAABJwAAABMBnqJqQr8AAnwEMEHZbqY8uRZEAAAAEkGapUnhDyZTBTw3//6nhAABJwAAABMBnsRqQr8AAnwEMEHZbqY8uRZFAAAAEkGax0nhDyZTBTw3//6nhAABJwAAABMBnuZqQr8AAnwEMEHZbqY8uRZFAAAAEkGa6UnhDyZTBTw3//6nhAABJwAAABMBnwhqQr8AAnwEMEHZbqY8uRZEAAAAEkGbC0nhDyZTBTw3//6nhAABJwAAABMBnypqQr8AAnwEMEHZbqY8uRZEAAAAEkGbLUnhDyZTBTw3//6nhAABJwAAABMBn0xqQr8AAnwEMEHZbqY8uRZFAAAAEkGbT0nhDyZTBTw3//6nhAABJwAAABMBn25qQr8AAnwEMEHZbqY8uRZFAAAAEkGbcUnhDyZTBTw3//6nhAABJwAAABMBn5BqQr8AAnwEMEHZbqY8uRZEAAAAEkGbk0nhDyZTBTw3//6nhAABJwAAABMBn7JqQr8AAnwEMEHZbqY8uRZEAAAAEkGbtUnhDyZTBTw3//6nhAABJwAAABMBn9RqQr8AAnwEMEHZbqY8uRZFAAAAEkGb10nhDyZTBTw3//6nhAABJwAAABMBn/ZqQr8AAnwEMEHZbqY8uRZFAAAAEkGb+UnhDyZTBTw3//6nhAABJwAAABMBnhhqQr8AAnwEMEHZbqY8uRZEAAAAEkGaG0nhDyZTBTw3//6nhAABJwAAABMBnjpqQr8AAnwEMEHZbqY8uRZEAAAAEkGaPUnhDyZTBTw3//6nhAABJwAAABMBnlxqQr8AAnwEMEHZbqY8uRZFAAAAEkGaX0nhDyZTBTw3//6nhAABJwAAABMBnn5qQr8AAnwEMEHZbqY8uRZEAAAAEkGaYUnhDyZTBTw3//6nhAABJwAAABMBnoBqQr8AAnwEMEHZbqY8uRZEAAAAEkGag0nhDyZTBTw3//6nhAABJwAAABMBnqJqQr8AAnwEMEHZbqY8uRZEAAAAEkGapUnhDyZTBTw3//6nhAABJwAAABMBnsRqQr8AAnwEMEHZbqY8uRZFAAAAEkGax0nhDyZTBTw3//6nhAABJwAAABMBnuZqQr8AAnwEMEHZbqY8uRZFAAAAEkGa6UnhDyZTBTw3//6nhAABJwAAABMBnwhqQr8AAnwEMEHZbqY8uRZEAAAAEkGbC0nhDyZTBTw3//6nhAABJwAAABMBnypqQr8AAnwEMEHZbqY8uRZEAAAAEkGbLUnhDyZTBTw3//6nhAABJwAAABMBn0xqQr8AAnwEMEHZbqY8uRZFAAAAEkGbT0nhDyZTBTw3//6nhAABJwAAABMBn25qQr8AAnwEMEHZbqY8uRZFAAAAEkGbcUnhDyZTBTw3//6nhAABJwAAABMBn5BqQr8AAnwEMEHZbqY8uRZEAAAAEkGbk0nhDyZTBTw3//6nhAABJwAAABMBn7JqQr8AAnwEMEHZbqY8uRZEAAAAEkGbtUnhDyZTBTw3//6nhAABJwAAABMBn9RqQr8AAnwEMEHZbqY8uRZFAAAAEkGb10nhDyZTBTw3//6nhAABJwAAABMBn/ZqQr8AAnwEMEHZbqY8uRZFAAAAEkGb+UnhDyZTBTw3//6nhAABJwAAABMBnhhqQr8AAnwEMEHZbqY8uRZEAAAAEkGaG0nhDyZTBTw3//6nhAABJwAAABMBnjpqQr8AAnwEMEHZbqY8uRZEAAAAEkGaPUnhDyZTBTw3//6nhAABJwAAABMBnlxqQr8AAnwEMEHZbqY8uRZFAAAAEkGaX0nhDyZTBTw3//6nhAABJwAAABMBnn5qQr8AAnwEMEHZbqY8uRZEAAAAEkGaYUnhDyZTBTw3//6nhAABJwAAABMBnoBqQr8AAnwEMEHZbqY8uRZEAAAAEkGag0nhDyZTBTw3//6nhAABJwAAABMBnqJqQr8AAnwEMEHZbqY8uRZEAAAAEkGapUnhDyZTBTw3//6nhAABJwAAABMBnsRqQr8AAnwEMEHZbqY8uRZFAAAAEkGax0nhDyZTBTw3//6nhAABJwAAABMBnuZqQr8AAnwEMEHZbqY8uRZFAAAAEkGa6UnhDyZTBTw3//6nhAABJwAAABMBnwhqQr8AAnwEMEHZbqY8uRZEAAAAEkGbC0nhDyZTBTw3//6nhAABJwAAABMBnypqQr8AAnwEMEHZbqY8uRZEAAAAEkGbLUnhDyZTBTw3//6nhAABJwAAABMBn0xqQr8AAnwEMEHZbqY8uRZFAAAAEkGbT0nhDyZTBTw3//6nhAABJwAAABMBn25qQr8AAnwEMEHZbqY8uRZFAAAAEkGbcUnhDyZTBTw3//6nhAABJwAAABMBn5BqQr8AAnwEMEHZbqY8uRZEAAAAEkGbk0nhDyZTBTw3//6nhAABJwAAABMBn7JqQr8AAnwEMEHZbqY8uRZEAAAAEkGbtUnhDyZTBTw3//6nhAABJwAAABMBn9RqQr8AAnwEMEHZbqY8uRZFAAAAEkGb10nhDyZTBTw3//6nhAABJwAAABMBn/ZqQr8AAnwEMEHZbqY8uRZFAAAAEkGb+UnhDyZTBTw3//6nhAABJwAAABMBnhhqQr8AAnwEMEHZbqY8uRZEAAAAEkGaG0nhDyZTBTw3//6nhAABJwAAABMBnjpqQr8AAnwEMEHZbqY8uRZEAAAAEkGaPUnhDyZTBTw3//6nhAABJwAAABMBnlxqQr8AAnwEMEHZbqY8uRZFAAAAEkGaX0nhDyZTBTw3//6nhAABJwAAABMBnn5qQr8AAnwEMEHZbqY8uRZEAAAAEkGaYUnhDyZTBTw3//6nhAABJwAAABMBnoBqQr8AAnwEMEHZbqY8uRZEAAAAEkGag0nhDyZTBTw3//6nhAABJwAAABMBnqJqQr8AAnwEMEHZbqY8uRZEAAAAEkGapUnhDyZTBTw3//6nhAABJwAAABMBnsRqQr8AAnwEMEHZbqY8uRZFAAAAEkGax0nhDyZTBTw3//6nhAABJwAAABMBnuZqQr8AAnwEMEHZbqY8uRZFAAAAEkGa6UnhDyZTBTw3//6nhAABJwAAABMBnwhqQr8AAnwEMEHZbqY8uRZEAAAAEkGbC0nhDyZTBTw3//6nhAABJwAAABMBnypqQr8AAnwEMEHZbqY8uRZEAAAAEkGbLUnhDyZTBTw3//6nhAABJwAAABMBn0xqQr8AAnwEMEHZbqY8uRZFAAAAEkGbT0nhDyZTBTw3//6nhAABJwAAABMBn25qQr8AAnwEMEHZbqY8uRZFAAAAEkGbcUnhDyZTBTw3//6nhAABJwAAABMBn5BqQr8AAnwEMEHZbqY8uRZEAAAAEkGbk0nhDyZTBTw3//6nhAABJwAAABMBn7JqQr8AAnwEMEHZbqY8uRZEAAAAEkGbtUnhDyZTBTw3//6nhAABJwAAABMBn9RqQr8AAnwEMEHZbqY8uRZFAAAAEkGb10nhDyZTBTw3//6nhAABJwAAABMBn/ZqQr8AAnwEMEHZbqY8uRZFAAAAEkGb+UnhDyZTBTw3//6nhAABJwAAABMBnhhqQr8AAnwEMEHZbqY8uRZEAAAAEkGaG0nhDyZTBTw3//6nhAABJwAAABMBnjpqQr8AAnwEMEHZbqY8uRZEAAAAEkGaPUnhDyZTBTw3//6nhAABJwAAABMBnlxqQr8AAnwEMEHZbqY8uRZFAAAAEkGaX0nhDyZTBTw3//6nhAABJwAAABMBnn5qQr8AAnwEMEHZbqY8uRZEAAAAEkGaYUnhDyZTBTw3//6nhAABJwAAABMBnoBqQr8AAnwEMEHZbqY8uRZEAAAAEkGag0nhDyZTBTw3//6nhAABJwAAABMBnqJqQr8AAnwEMEHZbqY8uRZEAAAAEkGapUnhDyZTBTw3//6nhAABJwAAABMBnsRqQr8AAnwEMEHZbqY8uRZFAAAAEkGax0nhDyZTBTw3//6nhAABJwAAABMBnuZqQr8AAnwEMEHZbqY8uRZFAAAAEkGa6UnhDyZTBTw3//6nhAABJwAAABMBnwhqQr8AAnwEMEHZbqY8uRZEAAAAEkGbC0nhDyZTBTw3//6nhAABJwAAABMBnypqQr8AAnwEMEHZbqY8uRZEAAAAEkGbLUnhDyZTBTw3//6nhAABJwAAABMBn0xqQr8AAnwEMEHZbqY8uRZFAAAAEkGbT0nhDyZTBTw3//6nhAABJwAAABMBn25qQr8AAnwEMEHZbqY8uRZFAAAAEkGbcUnhDyZTBTw3//6nhAABJwAAABMBn5BqQr8AAnwEMEHZbqY8uRZEAAAAEkGbk0nhDyZTBTw3//6nhAABJwAAABMBn7JqQr8AAnwEMEHZbqY8uRZEAAAAEkGbtUnhDyZTBTw3//6nhAABJwAAABMBn9RqQr8AAnwEMEHZbqY8uRZFAAAAEkGb10nhDyZTBTw3//6nhAABJwAAABMBn/ZqQr8AAnwEMEHZbqY8uRZFAAAAEkGb+UnhDyZTBTw3//6nhAABJwAAABMBnhhqQr8AAnwEMEHZbqY8uRZEAAAAEkGaG0nhDyZTBTw3//6nhAABJwAAABMBnjpqQr8AAnwEMEHZbqY8uRZEAAAAEkGaPUnhDyZTBTw3//6nhAABJwAAABMBnlxqQr8AAnwEMEHZbqY8uRZFAAAAEkGaX0nhDyZTBTw3//6nhAABJwAAABMBnn5qQr8AAnwEMEHZbqY8uRZEAAAAEkGaYUnhDyZTBTw3//6nhAABJwAAABMBnoBqQr8AAnwEMEHZbqY8uRZEAAAAEkGag0nhDyZTBTw3//6nhAABJwAAABMBnqJqQr8AAnwEMEHZbqY8uRZEAAAAEkGapUnhDyZTBTwz//6eEAAEfQAAABMBnsRqQr8AAnwEMEHZbqY8uRZFAAAAEkGax0nhDyZTBTwz//6eEAAEfQAAABMBnuZqQr8AAnwEMEHZbqY8uRZFAAAAGkGa6UvhCEPJEYIKAfyAf2HgFPCv/jhAABFwAAAAKgGfCGpCvwKvY+1BxN2qw0km5aqGByy1u80qIJosYcP8ZHIQ3wTtXFeZaAAADGBtb292AAAAbG12aGQAAAAAAAAAAAAAAAAAAAPoAAAfkAABAAABAAAAAAAAAAAAAAAAAQAAAAAAAAAAAAAAAAAAAAEAAAAAAAAAAAAAAAAAAEAAAAAAAAAAAAAAAAAAAAAAAAAAAAAAAAAAAAAAAAACAAALinRyYWsAAABcdGtoZAAAAAMAAAAAAAAAAAAAAAEAAAAAAAAfkAAAAAAAAAAAAAAAAAAAAAAAAQAAAAAAAAAAAAAAAAAAAAEAAAAAAAAAAAAAAAAAAEAAAAABEAAAARAAAAAAACRlZHRzAAAAHGVsc3QAAAAAAAAAAQAAH5AAAAQAAAEAAAAACwJtZGlhAAAAIG1kaGQAAAAAAAAAAAAAAAAAADIAAAGUAFXEAAAAAAAtaGRscgAAAAAAAAAAdmlkZQAAAAAAAAAAAAAAAFZpZGVvSGFuZGxlcgAAAAqtbWluZgAAABR2bWhkAAAAAQAAAAAAAAAAAAAAJGRpbmYAAAAcZHJlZgAAAAAAAAABAAAADHVybCAAAAABAAAKbXN0YmwAAACVc3RzZAAAAAAAAAABAAAAhWF2YzEAAAAAAAAAAQAAAAAAAAAAAAAAAAAAAAABEAEQAEgAAABIAAAAAAAAAAEAAAAAAAAAAAAAAAAAAAAAAAAAAAAAAAAAAAAAAAAAAAAY//8AAAAvYXZjQwH0AA3/4QAXZ/QADZGbKCIR0IAAAAMAgAAAGQeKFMsBAAVo6+PESAAAABhzdHRzAAAAAAAAAAEAAADKAAACAAAAABRzdHNzAAAAAAAAAAEAAAABAAAGOGN0dHMAAAAAAAAAxQAAAAUAAAQAAAAAAQAACgAAAAABAAAEAAAAAAEAAAAAAAAAAQAAAgAAAAABAAAKAAAAAAEAAAQAAAAAAQAAAAAAAAABAAACAAAAAAEAAAgAAAAAAgAAAgAAAAABAAAGAAAAAAEAAAIAAAAAAQAABgAAAAABAAACAAAAAAEAAAYAAAAAAQAAAgAAAAABAAAGAAAAAAEAAAIAAAAAAQAABgAAAAABAAACAAAAAAEAAAYAAAAAAQAAAgAAAAABAAAGAAAAAAEAAAIAAAAAAQAABgAAAAABAAACAAAAAAEAAAYAAAAAAQAAAgAAAAABAAAGAAAAAAEAAAIAAAAAAQAABgAAAAABAAACAAAAAAEAAAYAAAAAAQAAAgAAAAABAAAGAAAAAAEAAAIAAAAAAQAABgAAAAABAAACAAAAAAEAAAYAAAAAAQAAAgAAAAABAAAGAAAAAAEAAAIAAAAAAQAABgAAAAABAAACAAAAAAEAAAYAAAAAAQAAAgAAAAABAAAGAAAAAAEAAAIAAAAAAQAABgAAAAABAAACAAAAAAEAAAYAAAAAAQAAAgAAAAABAAAGAAAAAAEAAAIAAAAAAQAABgAAAAABAAACAAAAAAEAAAYAAAAAAQAAAgAAAAABAAAGAAAAAAEAAAIAAAAAAQAABgAAAAABAAACAAAAAAEAAAYAAAAAAQAAAgAAAAABAAAGAAAAAAEAAAIAAAAAAQAABgAAAAABAAACAAAAAAEAAAYAAAAAAQAAAgAAAAABAAAGAAAAAAEAAAIAAAAAAQAABgAAAAABAAACAAAAAAEAAAYAAAAAAQAAAgAAAAABAAAGAAAAAAEAAAIAAAAAAQAABgAAAAABAAACAAAAAAEAAAYAAAAAAQAAAgAAAAABAAAGAAAAAAEAAAIAAAAAAQAABgAAAAABAAACAAAAAAEAAAYAAAAAAQAAAgAAAAABAAAGAAAAAAEAAAIAAAAAAQAABgAAAAABAAACAAAAAAEAAAYAAAAAAQAAAgAAAAABAAAGAAAAAAEAAAIAAAAAAQAABgAAAAABAAACAAAAAAEAAAYAAAAAAQAAAgAAAAABAAAGAAAAAAEAAAIAAAAAAQAABgAAAAABAAACAAAAAAEAAAYAAAAAAQAAAgAAAAABAAAGAAAAAAEAAAIAAAAAAQAABgAAAAABAAACAAAAAAEAAAYAAAAAAQAAAgAAAAABAAAGAAAAAAEAAAIAAAAAAQAABgAAAAABAAACAAAAAAEAAAYAAAAAAQAAAgAAAAABAAAGAAAAAAEAAAIAAAAAAQAABgAAAAABAAACAAAAAAEAAAYAAAAAAQAAAgAAAAABAAAGAAAAAAEAAAIAAAAAAQAABgAAAAABAAACAAAAAAEAAAYAAAAAAQAAAgAAAAABAAAGAAAAAAEAAAIAAAAAAQAABgAAAAABAAACAAAAAAEAAAYAAAAAAQAAAgAAAAABAAAGAAAAAAEAAAIAAAAAAQAABgAAAAABAAACAAAAAAEAAAYAAAAAAQAAAgAAAAABAAAGAAAAAAEAAAIAAAAAAQAABgAAAAABAAACAAAAAAEAAAYAAAAAAQAAAgAAAAABAAAGAAAAAAEAAAIAAAAAAQAABgAAAAABAAACAAAAAAEAAAYAAAAAAQAAAgAAAAABAAAGAAAAAAEAAAIAAAAAAQAABgAAAAABAAACAAAAAAEAAAYAAAAAAQAAAgAAAAABAAAGAAAAAAEAAAIAAAAAAQAABgAAAAABAAACAAAAAAEAAAYAAAAAAQAAAgAAAAABAAAGAAAAAAEAAAIAAAAAAQAABgAAAAABAAACAAAAAAEAAAYAAAAAAQAAAgAAAAABAAAGAAAAAAEAAAIAAAAAAQAABgAAAAABAAACAAAAAAEAAAYAAAAAAQAAAgAAAAABAAAGAAAAAAEAAAIAAAAAAQAABgAAAAABAAACAAAAAAEAAAYAAAAAAQAAAgAAAAABAAAGAAAAAAEAAAIAAAAAAQAABgAAAAABAAACAAAAAAEAAAYAAAAAAQAAAgAAAAABAAAGAAAAAAEAAAIAAAAAAQAABgAAAAABAAACAAAAAAEAAAYAAAAAAQAAAgAAAAAcc3RzYwAAAAAAAAABAAAAAQAAAMoAAAABAAADPHN0c3oAAAAAAAAAAAAAAMoAAAWNAAAAFwAAABwAAAAdAAAAHQAAACMAAAAVAAAAEgAAABQAAAAgAAAAFAAAABQAAAAeAAAAHgAAABMAAAARAAAAFwAAABUAAAAWAAAAFwAAABYAAAAXAAAAFgAAABcAAAAWAAAAFwAAABYAAAAXAAAAFgAAABcAAAAWAAAAFwAAABYAAAAXAAAAFgAAABcAAAAWAAAAFwAAABYAAAAXAAAAFgAAABcAAAAWAAAAFwAAABYAAAAXAAAAFgAAABcAAAAWAAAAFwAAABYAAAAXAAAAFgAAABcAAAAWAAAAFwAAABYAAAAXAAAAFgAAABcAAAAWAAAAFwAAABYAAAAXAAAAFgAAABcAAAAWAAAAFwAAABYAAAAXAAAAFgAAABcAAAAWAAAAFwAAABYAAAAXAAAAFgAAABcAAAAWAAAAFwAAABYAAAAXAAAAFgAAABcAAAAWAAAAFwAAABYAAAAXAAAAFgAAABcAAAAWAAAAFwAAABYAAAAXAAAAFgAAABcAAAAWAAAAFwAAABYAAAAXAAAAFgAAABcAAAAWAAAAFwAAABYAAAAXAAAAFgAAABcAAAAWAAAAFwAAABYAAAAXAAAAFgAAABcAAAAWAAAAFwAAABYAAAAXAAAAFgAAABcAAAAWAAAAFwAAABYAAAAXAAAAFgAAABcAAAAWAAAAFwAAABYAAAAXAAAAFgAAABcAAAAWAAAAFwAAABYAAAAXAAAAFgAAABcAAAAWAAAAFwAAABYAAAAXAAAAFgAAABcAAAAWAAAAFwAAABYAAAAXAAAAFgAAABcAAAAWAAAAFwAAABYAAAAXAAAAFgAAABcAAAAWAAAAFwAAABYAAAAXAAAAFgAAABcAAAAWAAAAFwAAABYAAAAXAAAAFgAAABcAAAAWAAAAFwAAABYAAAAXAAAAFgAAABcAAAAWAAAAFwAAABYAAAAXAAAAFgAAABcAAAAWAAAAFwAAABYAAAAXAAAAFgAAABcAAAAWAAAAFwAAABYAAAAXAAAAFgAAABcAAAAWAAAAFwAAABYAAAAXAAAAFgAAABcAAAAWAAAAFwAAAB4AAAAuAAAAFHN0Y28AAAAAAAAAAQAAADAAAABidWR0YQAAAFptZXRhAAAAAAAAACFoZGxyAAAAAAAAAABtZGlyYXBwbAAAAAAAAAAAAAAAAC1pbHN0AAAAJal0b28AAAAdZGF0YQAAAAEAAAAATGF2ZjU4LjIwLjEwMA==\" type=\"video/mp4\" />\n",
       "             </video>"
      ],
      "text/plain": [
       "<IPython.core.display.HTML object>"
      ]
     },
     "execution_count": 17,
     "metadata": {},
     "output_type": "execute_result"
    }
   ],
   "source": [
    "HTML(display_videos('cnn_test10.mp4'))"
   ]
  },
  {
   "cell_type": "code",
   "execution_count": 18,
   "metadata": {},
   "outputs": [
    {
     "data": {
      "text/html": [
       "<video alt=\"test\" controls>\n",
       "                <source src=\"data:video/mp4;base64,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\" type=\"video/mp4\" />\n",
       "             </video>"
      ],
      "text/plain": [
       "<IPython.core.display.HTML object>"
      ]
     },
     "execution_count": 18,
     "metadata": {},
     "output_type": "execute_result"
    }
   ],
   "source": [
    "HTML(display_videos('fc_test10.mp4'))"
   ]
  },
  {
   "cell_type": "markdown",
   "metadata": {},
   "source": [
    "__Answer__\n",
    "\n",
    "We can see that both two networks have learned to win the game, however the performance of CNN is better than that of Fully connected network (according to average score).\n",
    "\n",
    "However, in both two cases, we can see that the rat does not explore enough the total map. It always gets trapped in a certain area.\n",
    "\n",
    "The parameter ```temperature``` defines the probability of generating a cheese (or poison) at each cell. When ```temperature``` is small (e.g. 0.1), there is few cheese (or poison) cells. Thus it is difficult for the algorithm to learn the best policy. When ```temperature``` is large (e.g. 0.6), it is easier for the algorithm to learn the best policy.\n",
    "\n",
    "More precisely, take the DQN_FC as an example, for the default value ```temperature = 0.3```, the average score starts to be positive after around 30 epochs. For ```temperature = 0.1```, it starts to be positive after around 50 epochs. For ```temperature = 0.6```, it starts to be positive at the beginning of epochs."
   ]
  },
  {
   "cell_type": "markdown",
   "metadata": {},
   "source": [
    "***\n",
    "\n",
    "The algorithm tends to not explore the map which can be an issue. We propose two ideas in order to encourage exploration:\n",
    "1. Incorporating a decreasing $\\epsilon$-greedy exploration. You can use the method ```set_epsilon```\n",
    "2. Append via the environment a new state that describes if a cell has been visited or not\n",
    "\n",
    "***\n",
    "__Question 10__ Design a new ```train_explore``` function and environment class ```EnvironmentExploring``` to tackle the issue of exploration.\n",
    "\n"
   ]
  },
  {
   "cell_type": "code",
   "execution_count": 19,
   "metadata": {},
   "outputs": [],
   "source": [
    "def train_explore(agent, env, epoch, decay=0.99, prefix=''):\n",
    "    # Number of won games\n",
    "    score = 0\n",
    "    loss = 0\n",
    "\n",
    "    for e in range(epoch):\n",
    "        # At each epoch, we restart to a fresh game and get the initial state\n",
    "        state = env.reset()\n",
    "        # This assumes that the games will terminate\n",
    "        game_over = False\n",
    "\n",
    "        win = 0\n",
    "        lose = 0\n",
    "\n",
    "        while not game_over:\n",
    "            # The agent performs an action\n",
    "            action = agent.act(state)\n",
    "\n",
    "            # Apply an action to the environment, get the next state, the reward\n",
    "            # and if the games end\n",
    "            prev_state = state\n",
    "            state, reward, game_over = env.act(action, train=True)\n",
    "\n",
    "            # Update the counters\n",
    "            if reward > 0:\n",
    "                win = win + reward\n",
    "            if reward < 0:\n",
    "                lose = lose -reward\n",
    "\n",
    "            # Apply the reinforcement strategy\n",
    "            loss = agent.reinforce(prev_state, state,  action, reward, game_over)\n",
    "            \n",
    "            # decay the epsilon greedy parameter\n",
    "            agent.set_epsilon(agent.epsilon * decay)\n",
    "\n",
    "        # Save as a mp4\n",
    "        if e % 10 == 0:\n",
    "            env.draw(prefix+str(e))\n",
    "\n",
    "        # Update stats\n",
    "        score += win-lose\n",
    "\n",
    "        print(\"Epoch {:03d}/{:03d} | Loss {:.4f} | Win/lose count {}/{} ({}) | Average score ({})\"\n",
    "              .format(e, epoch, loss, win, lose, win-lose, score/(1+e)))\n",
    "        agent.save(name_weights=prefix+'model.h5',name_model=prefix+'model.json')\n",
    "        \n",
    "class EnvironmentExploring(object):\n",
    "    def __init__(self, grid_size=10, max_time=500, temperature=0.1):\n",
    "        grid_size = grid_size+4\n",
    "        self.grid_size = grid_size\n",
    "        self.max_time = max_time\n",
    "        self.temperature = temperature\n",
    "\n",
    "        # board on which one plays\n",
    "        self.board = np.zeros((grid_size,grid_size))\n",
    "        self.position = np.zeros((grid_size,grid_size))\n",
    "        # store malus to positions in an array\n",
    "        self.malus_position = np.zeros((grid_size,grid_size))\n",
    "\n",
    "        # coordinate of the cat\n",
    "        self.x = 0\n",
    "        self.y = 1\n",
    "\n",
    "        # self time\n",
    "        self.t = 0\n",
    "\n",
    "        self.scale=16\n",
    "\n",
    "        self.to_draw = np.zeros((max_time+2, grid_size*self.scale, grid_size*self.scale, 3))\n",
    "\n",
    "\n",
    "    def draw(self,e):\n",
    "        skvideo.io.vwrite(str(e) + '.mp4', self.to_draw)\n",
    "\n",
    "    def get_frame(self,t):\n",
    "        b = np.zeros((self.grid_size,self.grid_size,3))+128\n",
    "        b[self.board>0,0] = 256\n",
    "        b[self.board < 0, 2] = 256\n",
    "        b[self.x,self.y,:]=256\n",
    "        b[-2:,:,:]=0\n",
    "        b[:,-2:,:]=0\n",
    "        b[:2,:,:]=0\n",
    "        b[:,:2,:]=0\n",
    "        \n",
    "        b =  cv2.resize(b, None, fx=self.scale, fy=self.scale, interpolation=cv2.INTER_NEAREST)\n",
    "\n",
    "        self.to_draw[t,:,:,:]=b\n",
    "\n",
    "\n",
    "    def act(self, action, train=False):\n",
    "        \"\"\"This function returns the new state, reward and decides if the\n",
    "        game ends.\"\"\"\n",
    "        \"\"\"The default value of train is False so that we do not need to modify the test function.\"\"\"\n",
    "\n",
    "        self.get_frame(int(self.t))\n",
    "\n",
    "        self.position = np.zeros((self.grid_size, self.grid_size))\n",
    "\n",
    "        self.position[0:2,:]= -1\n",
    "        self.position[:,0:2] = -1\n",
    "        self.position[-2:, :] = -1\n",
    "        self.position[:, -2:] = -1\n",
    "\n",
    "        self.position[self.x, self.y] = 1\n",
    "        if action == 0:\n",
    "            if self.x == self.grid_size-3:\n",
    "                self.x = self.x-1\n",
    "            else:\n",
    "                self.x = self.x + 1\n",
    "        elif action == 1:\n",
    "            if self.x == 2:\n",
    "                self.x = self.x+1\n",
    "            else:\n",
    "                self.x = self.x-1\n",
    "        elif action == 2:\n",
    "            if self.y == self.grid_size - 3:\n",
    "                self.y = self.y - 1\n",
    "            else:\n",
    "                self.y = self.y + 1\n",
    "        elif action == 3:\n",
    "            if self.y == 2:\n",
    "                self.y = self.y + 1\n",
    "            else:\n",
    "                self.y = self.y - 1\n",
    "        else:\n",
    "            RuntimeError('Error: action not recognized')\n",
    "\n",
    "        self.t = self.t + 1\n",
    "        reward = self.board[self.x, self.y]\n",
    "        # if in the \"train\" mode, the reward will be reduced by the value of the malus of this position\n",
    "        # so if the position is already visited, the reward will be smaller than those cells that are not visited\n",
    "        if train:\n",
    "            reward -= self.malus_position[self.x, self.y]\n",
    "            \n",
    "        # we add 0.1 to the malus of the visited position\n",
    "        self.malus_position[self.x, self.y] += 0.1\n",
    "        \n",
    "        self.board[self.x, self.y] = 0\n",
    "        game_over = self.t > self.max_time\n",
    "        # add malus_position information to the state\n",
    "        state = np.concatenate((self.malus_position.reshape(self.grid_size, self.grid_size,1), \n",
    "                        self.board.reshape(self.grid_size, self.grid_size,1), \n",
    "                        self.position.reshape(self.grid_size, self.grid_size,1)), axis=2)\n",
    "        state = state[self.x-2:self.x+3,self.y-2:self.y+3,:]\n",
    "\n",
    "        return state, reward, game_over\n",
    "\n",
    "    def reset(self):\n",
    "        \"\"\"This function resets the game and returns the initial state\"\"\"\n",
    "\n",
    "        self.x = np.random.randint(3, self.grid_size-3, size=1)[0]\n",
    "        self.y = np.random.randint(3, self.grid_size-3, size=1)[0]\n",
    "\n",
    "\n",
    "        bonus = 0.5*np.random.binomial(1,self.temperature,size=self.grid_size**2)\n",
    "        bonus = bonus.reshape(self.grid_size,self.grid_size)\n",
    "\n",
    "        malus = -1.0*np.random.binomial(1,self.temperature,size=self.grid_size**2)\n",
    "        malus = malus.reshape(self.grid_size, self.grid_size)\n",
    "\n",
    "        self.to_draw = np.zeros((self.max_time+2, self.grid_size*self.scale, self.grid_size*self.scale, 3))\n",
    "\n",
    "\n",
    "        malus[bonus>0]=0\n",
    "\n",
    "        self.board = bonus + malus\n",
    "\n",
    "        self.position = np.zeros((self.grid_size, self.grid_size))\n",
    "        self.position[0:2,:]= -1\n",
    "        self.position[:,0:2] = -1\n",
    "        self.position[-2:, :] = -1\n",
    "        self.position[:, -2:] = -1\n",
    "        self.board[self.x,self.y] = 0\n",
    "        self.t = 0\n",
    "        \n",
    "        # reset the malus_position to all zeros\n",
    "        self.malus_position = np.zeros((self.grid_size, self.grid_size))\n",
    "\n",
    "        state = np.concatenate((self.malus_position.reshape(self.grid_size, self.grid_size,1), \n",
    "                               self.board.reshape(self.grid_size, self.grid_size,1), \n",
    "                        self.position.reshape(self.grid_size, self.grid_size,1)), axis=2)\n",
    "\n",
    "        state = state[self.x - 2:self.x + 3, self.y - 2:self.y + 3, :]\n",
    "        return state"
   ]
  },
  {
   "cell_type": "code",
   "execution_count": 32,
   "metadata": {},
   "outputs": [],
   "source": [
    "# set parameters\n",
    "decay = 0.95\n",
    "epsilon = 1.0\n",
    "temperature = 0.3"
   ]
  },
  {
   "cell_type": "code",
   "execution_count": 33,
   "metadata": {},
   "outputs": [
    {
     "name": "stdout",
     "output_type": "stream",
     "text": [
      "Epoch 000/060 | Loss 0.0507 | Win/lose count 8.5/52.00000000000004 (-43.50000000000004) | Average score (-43.50000000000004)\n",
      "Epoch 001/060 | Loss 0.0197 | Win/lose count 21.0/31.00000000000003 (-10.000000000000028) | Average score (-26.750000000000036)\n",
      "Epoch 002/060 | Loss 0.0159 | Win/lose count 14.0/34.20000000000001 (-20.20000000000001) | Average score (-24.56666666666669)\n",
      "Epoch 003/060 | Loss 0.0120 | Win/lose count 18.0/23.600000000000016 (-5.600000000000016) | Average score (-19.825000000000024)\n",
      "Epoch 004/060 | Loss 0.0191 | Win/lose count 21.0/19.199999999999985 (1.800000000000015) | Average score (-15.500000000000018)\n",
      "Epoch 005/060 | Loss 0.0353 | Win/lose count 19.5/38.20000000000002 (-18.700000000000017) | Average score (-16.03333333333335)\n",
      "Epoch 006/060 | Loss 0.0096 | Win/lose count 22.5/20.599999999999998 (1.9000000000000021) | Average score (-13.471428571428586)\n",
      "Epoch 007/060 | Loss 0.0239 | Win/lose count 23.5/16.399999999999988 (7.100000000000012) | Average score (-10.900000000000011)\n",
      "Epoch 008/060 | Loss 0.0071 | Win/lose count 21.0/16.199999999999978 (4.800000000000022) | Average score (-9.155555555555562)\n",
      "Epoch 009/060 | Loss 0.0071 | Win/lose count 20.5/16.499999999999986 (4.000000000000014) | Average score (-7.840000000000005)\n",
      "Epoch 010/060 | Loss 0.0207 | Win/lose count 23.0/14.999999999999991 (8.000000000000009) | Average score (-6.400000000000003)\n",
      "Epoch 011/060 | Loss 0.0112 | Win/lose count 26.5/12.89999999999998 (13.60000000000002) | Average score (-4.733333333333334)\n",
      "Epoch 012/060 | Loss 0.0182 | Win/lose count 20.5/19.2 (1.3000000000000007) | Average score (-4.26923076923077)\n",
      "Epoch 013/060 | Loss 0.0071 | Win/lose count 23.0/16.399999999999984 (6.600000000000016) | Average score (-3.492857142857143)\n",
      "Epoch 014/060 | Loss 0.0472 | Win/lose count 23.5/19.499999999999993 (4.000000000000007) | Average score (-2.9933333333333327)\n",
      "Epoch 015/060 | Loss 0.0160 | Win/lose count 23.5/15.199999999999983 (8.300000000000017) | Average score (-2.2874999999999983)\n",
      "Epoch 016/060 | Loss 0.0126 | Win/lose count 24.0/13.099999999999987 (10.900000000000013) | Average score (-1.5117647058823507)\n",
      "Epoch 017/060 | Loss 0.0105 | Win/lose count 18.0/24.3 (-6.300000000000001) | Average score (-1.7777777777777757)\n",
      "Epoch 018/060 | Loss 0.0139 | Win/lose count 26.0/16.89999999999999 (9.100000000000009) | Average score (-1.2052631578947344)\n",
      "Epoch 019/060 | Loss 0.0280 | Win/lose count 26.0/12.699999999999978 (13.300000000000022) | Average score (-0.47999999999999654)\n",
      "Epoch 020/060 | Loss 0.0153 | Win/lose count 24.0/15.599999999999985 (8.400000000000015) | Average score (-0.05714285714285313)\n",
      "Epoch 021/060 | Loss 0.0101 | Win/lose count 25.0/19.299999999999986 (5.7000000000000135) | Average score (0.204545454545459)\n",
      "Epoch 022/060 | Loss 0.0172 | Win/lose count 18.0/14.899999999999974 (3.1000000000000263) | Average score (0.330434782608701)\n",
      "Epoch 023/060 | Loss 0.0190 | Win/lose count 21.0/16.299999999999983 (4.700000000000017) | Average score (0.5125000000000058)\n",
      "Epoch 024/060 | Loss 0.0113 | Win/lose count 22.0/14.999999999999986 (7.000000000000014) | Average score (0.7720000000000061)\n",
      "Epoch 025/060 | Loss 0.0158 | Win/lose count 24.0/14.399999999999977 (9.600000000000023) | Average score (1.1115384615384682)\n",
      "Epoch 026/060 | Loss 0.0200 | Win/lose count 19.0/15.499999999999975 (3.500000000000025) | Average score (1.2000000000000075)\n",
      "Epoch 027/060 | Loss 0.0133 | Win/lose count 22.5/17.09999999999998 (5.40000000000002) | Average score (1.350000000000008)\n",
      "Epoch 028/060 | Loss 0.0190 | Win/lose count 24.0/20.100000000000005 (3.899999999999995) | Average score (1.437931034482766)\n",
      "Epoch 029/060 | Loss 0.0110 | Win/lose count 24.0/16.099999999999984 (7.900000000000016) | Average score (1.653333333333341)\n",
      "Epoch 030/060 | Loss 0.0169 | Win/lose count 22.5/11.49999999999999 (11.00000000000001) | Average score (1.9548387096774273)\n",
      "Epoch 031/060 | Loss 0.0334 | Win/lose count 22.5/17.39999999999999 (5.1000000000000085) | Average score (2.053125000000008)\n",
      "Epoch 032/060 | Loss 0.0143 | Win/lose count 23.5/15.799999999999974 (7.700000000000026) | Average score (2.224242424242433)\n",
      "Epoch 033/060 | Loss 0.0213 | Win/lose count 25.5/14.299999999999983 (11.200000000000017) | Average score (2.488235294117656)\n",
      "Epoch 034/060 | Loss 0.0173 | Win/lose count 22.5/15.799999999999976 (6.700000000000024) | Average score (2.608571428571438)\n",
      "Epoch 035/060 | Loss 0.0106 | Win/lose count 23.5/22.000000000000004 (1.4999999999999964) | Average score (2.577777777777787)\n",
      "Epoch 036/060 | Loss 0.0202 | Win/lose count 22.0/14.09999999999998 (7.90000000000002) | Average score (2.721621621621631)\n",
      "Epoch 037/060 | Loss 0.0233 | Win/lose count 22.5/13.69999999999998 (8.80000000000002) | Average score (2.8815789473684306)\n",
      "Epoch 038/060 | Loss 0.0119 | Win/lose count 22.5/19.2 (3.3000000000000007) | Average score (2.8923076923077016)\n",
      "Epoch 039/060 | Loss 0.0157 | Win/lose count 24.5/13.699999999999987 (10.800000000000013) | Average score (3.0900000000000096)\n",
      "Epoch 040/060 | Loss 0.0164 | Win/lose count 26.5/19.299999999999983 (7.200000000000017) | Average score (3.1902439024390343)\n",
      "Epoch 041/060 | Loss 0.0266 | Win/lose count 25.5/14.699999999999983 (10.800000000000017) | Average score (3.3714285714285817)\n",
      "Epoch 042/060 | Loss 0.0200 | Win/lose count 25.0/11.199999999999982 (13.800000000000018) | Average score (3.613953488372103)\n",
      "Epoch 043/060 | Loss 0.0152 | Win/lose count 19.5/15.099999999999982 (4.400000000000018) | Average score (3.6318181818181916)\n",
      "Epoch 044/060 | Loss 0.0115 | Win/lose count 25.0/14.39999999999998 (10.60000000000002) | Average score (3.786666666666677)\n",
      "Epoch 045/060 | Loss 0.0132 | Win/lose count 20.5/14.199999999999976 (6.300000000000024) | Average score (3.8413043478260973)\n",
      "Epoch 046/060 | Loss 0.0166 | Win/lose count 23.5/15.499999999999979 (8.000000000000021) | Average score (3.9297872340425637)\n",
      "Epoch 047/060 | Loss 0.0257 | Win/lose count 19.5/28.40000000000001 (-8.90000000000001) | Average score (3.6625000000000103)\n",
      "Epoch 048/060 | Loss 0.0285 | Win/lose count 21.5/17.299999999999986 (4.2000000000000135) | Average score (3.6734693877551123)\n",
      "Epoch 049/060 | Loss 0.0121 | Win/lose count 24.0/12.899999999999979 (11.100000000000021) | Average score (3.8220000000000107)\n",
      "Epoch 050/060 | Loss 0.0174 | Win/lose count 22.5/20.20000000000001 (2.29999999999999) | Average score (3.792156862745108)\n",
      "Epoch 051/060 | Loss 0.0399 | Win/lose count 14.5/17.099999999999977 (-2.5999999999999766) | Average score (3.6692307692307797)\n",
      "Epoch 052/060 | Loss 0.0160 | Win/lose count 25.5/13.59999999999998 (11.90000000000002) | Average score (3.824528301886803)\n",
      "Epoch 053/060 | Loss 0.0358 | Win/lose count 24.0/14.699999999999985 (9.300000000000015) | Average score (3.9259259259259363)\n",
      "Epoch 054/060 | Loss 0.0247 | Win/lose count 22.0/16.899999999999977 (5.100000000000023) | Average score (3.947272727272738)\n",
      "Epoch 055/060 | Loss 0.0258 | Win/lose count 21.0/15.899999999999974 (5.100000000000026) | Average score (3.9678571428571536)\n",
      "Epoch 056/060 | Loss 0.0134 | Win/lose count 22.5/16.999999999999975 (5.500000000000025) | Average score (3.9947368421052745)\n",
      "Epoch 057/060 | Loss 0.0085 | Win/lose count 23.5/13.29999999999999 (10.20000000000001) | Average score (4.101724137931046)\n",
      "Epoch 058/060 | Loss 0.0296 | Win/lose count 20.0/15.79999999999998 (4.200000000000021) | Average score (4.103389830508486)\n",
      "Epoch 059/060 | Loss 0.0190 | Win/lose count 22.5/20.10000000000002 (2.399999999999981) | Average score (4.075000000000011)\n"
     ]
    },
    {
     "data": {
      "text/html": [
       "<video alt=\"test\" controls>\n",
       "                <source src=\"data:video/mp4;base64,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\" type=\"video/mp4\" />\n",
       "             </video>"
      ],
      "text/plain": [
       "<IPython.core.display.HTML object>"
      ]
     },
     "execution_count": 33,
     "metadata": {},
     "output_type": "execute_result"
    }
   ],
   "source": [
    "# Training\n",
    "env = EnvironmentExploring(grid_size=size, max_time=T, temperature=temperature)\n",
    "agent = DQN_CNN(size, lr=lr, epsilon = epsilon, memory_size=memory_size, batch_size = batch_size,n_state=3)\n",
    "train_explore(agent, env, epochs_train, decay=decay, prefix='cnn_train_explore')\n",
    "HTML(display_videos('cnn_train_explore10.mp4'))"
   ]
  },
  {
   "cell_type": "code",
   "execution_count": 34,
   "metadata": {},
   "outputs": [
    {
     "name": "stdout",
     "output_type": "stream",
     "text": [
      "Win/lose count 25.5/4.0. Average score (21.5)\n",
      "Win/lose count 25.5/4.0. Average score (21.5)\n",
      "Win/lose count 23.0/8.0. Average score (19.333333333333332)\n",
      "Win/lose count 27.0/6.0. Average score (19.75)\n",
      "Win/lose count 22.5/5.0. Average score (19.3)\n",
      "Win/lose count 23.0/5.0. Average score (19.083333333333332)\n",
      "Win/lose count 24.0/5.0. Average score (19.071428571428573)\n",
      "Win/lose count 23.5/6.0. Average score (18.875)\n",
      "Win/lose count 21.0/5.0. Average score (18.555555555555557)\n",
      "Win/lose count 29.0/2.0. Average score (19.4)\n",
      "Win/lose count 23.5/7.0. Average score (19.136363636363637)\n",
      "Win/lose count 25.0/6.0. Average score (19.125)\n",
      "Win/lose count 26.0/3.0. Average score (19.423076923076923)\n",
      "Win/lose count 21.0/3.0. Average score (19.321428571428573)\n",
      "Win/lose count 22.0/9.0. Average score (18.9)\n",
      "Win/lose count 22.0/6.0. Average score (18.71875)\n",
      "Win/lose count 24.0/6.0. Average score (18.676470588235293)\n",
      "Win/lose count 23.5/8.0. Average score (18.5)\n",
      "Win/lose count 23.0/8.0. Average score (18.31578947368421)\n",
      "Win/lose count 29.5/5.0. Average score (18.625)\n",
      "Final score: 18.625\n"
     ]
    },
    {
     "data": {
      "text/html": [
       "<video alt=\"test\" controls>\n",
       "                <source src=\"data:video/mp4;base64,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\" type=\"video/mp4\" />\n",
       "             </video>"
      ],
      "text/plain": [
       "<IPython.core.display.HTML object>"
      ]
     },
     "execution_count": 34,
     "metadata": {},
     "output_type": "execute_result"
    }
   ],
   "source": [
    "# Evaluation\n",
    "test(agent,env,epochs_test,prefix='cnn_test_explore')\n",
    "HTML(display_videos('cnn_test_explore10.mp4'))"
   ]
  },
  {
   "cell_type": "markdown",
   "metadata": {},
   "source": [
    "__Remark__\n",
    "\n",
    "We can see that the final score is larger than the original DQN_CNN and the rat can explore almost the total map and visit almost all cheese cells. One may add more epochs for training on order to get a better performance which means reduce the loses."
   ]
  },
  {
   "cell_type": "markdown",
   "metadata": {},
   "source": [
    "***\n",
    "***\n",
    "__BONUS question__ Use the expert DQN from the previous question to generate some winning games. Train a model that mimicks its behavior. Compare the performances."
   ]
  },
  {
   "cell_type": "markdown",
   "metadata": {},
   "source": [
    "First, we define a function to generate winning games by the expert DQN, which returns a memory which stores all (state, next_state, action, reward, game_over) generated by the expert DQN."
   ]
  },
  {
   "cell_type": "code",
   "execution_count": 35,
   "metadata": {},
   "outputs": [],
   "source": [
    "def GenerateWinningGames(agent, env, epochs, memory_size):\n",
    "    # memory of winning games\n",
    "    memory = Memory(memory_size)\n",
    "    \n",
    "    # Number of won games\n",
    "    score = 0\n",
    "        \n",
    "    for e in range(epochs):\n",
    "        \n",
    "        ##### FILL IN HERE\n",
    "        # At each epoch, we restart to a fresh game and get the initial state\n",
    "        state = env.reset()\n",
    "        # This assumes that the games will end\n",
    "        game_over = False\n",
    "\n",
    "        win = 0\n",
    "        lose = 0\n",
    "        \n",
    "        while not game_over:\n",
    "            # The agent performs an action in \"test\" mode (train = False)\n",
    "            action = agent.act(state, train=False)\n",
    "\n",
    "            # Apply an action to the environment, get the next state, the reward\n",
    "            # and if the games end\n",
    "            prev_state = state\n",
    "            state, reward, game_over = env.act(action)\n",
    "            \n",
    "            m = [prev_state, state, action, reward, game_over]\n",
    "            memory.remember(m)\n",
    "\n",
    "            # Update the counters\n",
    "            if reward > 0:\n",
    "                win = win + reward\n",
    "            if reward < 0:\n",
    "                lose = lose - reward\n",
    "\n",
    "        # Update stats\n",
    "        score = score + win - lose\n",
    "        \n",
    "        if e % 10 == 0:\n",
    "            print(\"Game {}: Win/lose count {}/{}. Average score ({})\"\n",
    "                  .format(e+1, win, lose, score/(1+e)))\n",
    "    \n",
    "    return memory"
   ]
  },
  {
   "cell_type": "markdown",
   "metadata": {},
   "source": [
    "Then we define the agent Mimic_DQN which takes the memory generated by the expert DQN as a parameter. And during training, it gets random samples from this memory. Different from DQN, it does not update the memory by its own (state, action) experience as it just mimicks the DQN. And we take to CNN network for training. What's more we do not take exploring training but take the constant ```epsilon = 0.1```."
   ]
  },
  {
   "cell_type": "code",
   "execution_count": 36,
   "metadata": {},
   "outputs": [],
   "source": [
    "class Mimic_DQN(Agent):\n",
    "    def __init__(self, grid_size, memory, epsilon = 0.1, batch_size = 16, n_state=2):\n",
    "        super(Mimic_DQN, self).__init__(epsilon = epsilon)\n",
    "\n",
    "        # Discount for Q learning\n",
    "        self.discount = 0.99\n",
    "        \n",
    "        self.grid_size = grid_size\n",
    "        \n",
    "        # number of state\n",
    "        self.n_state = n_state\n",
    "\n",
    "        # Memory\n",
    "        self.memory = memory\n",
    "        \n",
    "        # Batch size when learning\n",
    "        self.batch_size = batch_size\n",
    "\n",
    "    def learned_act(self, s):\n",
    "        # predict the Q function by the current model and take the action which maximizes the Q function\n",
    "        q = self.model.predict(s.reshape((1, 5, 5, self.n_state)))\n",
    "        a = np.argmax(q)\n",
    "        return a\n",
    "\n",
    "    def reinforce(self, s_, n_s_, a_, r_, game_over_):\n",
    "        # Two steps: first memorize the states, second learn from the pool\n",
    "#         self.memory.remember([s_, n_s_, a_, r_, game_over_])\n",
    "        \n",
    "        input_states = np.zeros((self.batch_size, 5, 5, self.n_state))\n",
    "        target_q = np.zeros((self.batch_size, 4))\n",
    "        \n",
    "        for i in range(self.batch_size):\n",
    "            ######## FILL IN\n",
    "            # randomly take a sample from memory\n",
    "            m = self.memory.random_access()\n",
    "            s = m[0].reshape((1, 5, 5, self.n_state))\n",
    "            n_s = m[1].reshape((1, 5, 5, self.n_state))\n",
    "            a = m[2]\n",
    "            r = m[3]\n",
    "            game_over = m[4]\n",
    "            # store the state as a sample in the batch and predict the Q function by the current model\n",
    "            input_states[i] = s\n",
    "            target_q[i] = self.model.predict(s)\n",
    "            \n",
    "            # change target_q[i, a] to the estimated value in the two cases whether the game is over\n",
    "            if game_over:\n",
    "                ######## FILL IN\n",
    "                target_q[i, a] = r\n",
    "            else:\n",
    "                ######## FILL IN\n",
    "                target_q[i, a] = r + self.discount * np.max(self.model.predict(n_s))\n",
    "        ######## FILL IN\n",
    "        # HINT: Clip the target to avoid exploiding gradients.. -- clipping is a bit tighter\n",
    "        target_q = np.clip(target_q, -3, 3)\n",
    "\n",
    "        l = self.model.train_on_batch(input_states, target_q)\n",
    "\n",
    "        return l\n",
    "\n",
    "    def save(self,name_weights='model.h5',name_model='model.json'):\n",
    "        self.model.save_weights(name_weights, overwrite=True)\n",
    "        with open(name_model, \"w\") as outfile:\n",
    "            json.dump(self.model.to_json(), outfile)\n",
    "            \n",
    "    def load(self,name_weights='model.h5',name_model='model.json'):\n",
    "        with open(name_model, \"r\") as jfile:\n",
    "            model = model_from_json(json.load(jfile))\n",
    "        model.load_weights(name_weights)\n",
    "        model.compile(\"sgd\", \"mse\")\n",
    "        self.model = model\n",
    "\n",
    "            \n",
    "class Mimic_DQN_CNN(Mimic_DQN):\n",
    "    def __init__(self, *args,lr=0.1,**kwargs):\n",
    "        super(Mimic_DQN_CNN, self).__init__(*args,**kwargs)\n",
    "        \n",
    "        # design a CNN network with 2 conv layers of 16 and 32 filters and 1 fully connected layer\n",
    "        \n",
    "        ###### FILL IN\n",
    "        model = keras.Sequential()\n",
    "        model.add(Conv2D(16, kernel_size=(3, 3), padding='same', activation='relu', input_shape=(5, 5, self.n_state)))\n",
    "        model.add(Conv2D(32, kernel_size=(3, 3), padding='same', activation='relu'))\n",
    "        model.add(keras.layers.Flatten())\n",
    "        model.add(Dense(4))\n",
    "        \n",
    "        model.compile(sgd(lr=lr, decay=1e-4, momentum=0.0), \"mse\")\n",
    "        self.model = model"
   ]
  },
  {
   "cell_type": "code",
   "execution_count": 37,
   "metadata": {},
   "outputs": [],
   "source": [
    "epochs_gen = 100\n",
    "memory_size = T * epochs_gen\n",
    "epsilon = 0.1"
   ]
  },
  {
   "cell_type": "code",
   "execution_count": 38,
   "metadata": {},
   "outputs": [
    {
     "name": "stdout",
     "output_type": "stream",
     "text": [
      "Game 1: Win/lose count 24.0/6.0. Average score (18.0)\n",
      "Game 11: Win/lose count 19.0/7.0. Average score (17.90909090909091)\n",
      "Game 21: Win/lose count 24.0/4.0. Average score (18.547619047619047)\n",
      "Game 31: Win/lose count 20.5/8.0. Average score (18.306451612903224)\n",
      "Game 41: Win/lose count 24.0/1.0. Average score (18.451219512195124)\n",
      "Game 51: Win/lose count 24.0/6.0. Average score (18.666666666666668)\n",
      "Game 61: Win/lose count 28.0/8.0. Average score (18.5327868852459)\n",
      "Game 71: Win/lose count 26.0/7.0. Average score (18.640845070422536)\n",
      "Game 81: Win/lose count 23.5/8.0. Average score (18.27777777777778)\n",
      "Game 91: Win/lose count 22.0/6.0. Average score (18.263736263736263)\n"
     ]
    }
   ],
   "source": [
    "memory = GenerateWinningGames(agent, env, epochs_gen, memory_size)"
   ]
  },
  {
   "cell_type": "code",
   "execution_count": 39,
   "metadata": {},
   "outputs": [
    {
     "name": "stdout",
     "output_type": "stream",
     "text": [
      "Epoch 000/060 | Loss 0.0113 | Win/lose count 7.5/10.0 (-2.5) | Average score (-2.5)\n",
      "Epoch 001/060 | Loss 0.0173 | Win/lose count 9.0/6.0 (3.0) | Average score (0.25)\n",
      "Epoch 002/060 | Loss 0.0664 | Win/lose count 9.5/6.0 (3.5) | Average score (1.3333333333333333)\n",
      "Epoch 003/060 | Loss 0.0575 | Win/lose count 7.0/4.0 (3.0) | Average score (1.75)\n",
      "Epoch 004/060 | Loss 0.0037 | Win/lose count 1.0/1.0 (0.0) | Average score (1.4)\n",
      "Epoch 005/060 | Loss 0.0177 | Win/lose count 5.0/2.0 (3.0) | Average score (1.6666666666666667)\n",
      "Epoch 006/060 | Loss 0.0084 | Win/lose count 14.0/2.0 (12.0) | Average score (3.142857142857143)\n",
      "Epoch 007/060 | Loss 0.0023 | Win/lose count 4.0/0 (4.0) | Average score (3.25)\n",
      "Epoch 008/060 | Loss 0.0104 | Win/lose count 8.5/1.0 (7.5) | Average score (3.7222222222222223)\n",
      "Epoch 009/060 | Loss 0.0037 | Win/lose count 6.0/2.0 (4.0) | Average score (3.75)\n",
      "Epoch 010/060 | Loss 0.0022 | Win/lose count 7.0/2.0 (5.0) | Average score (3.8636363636363638)\n",
      "Epoch 011/060 | Loss 0.0015 | Win/lose count 9.0/3.0 (6.0) | Average score (4.041666666666667)\n",
      "Epoch 012/060 | Loss 0.0025 | Win/lose count 6.0/3.0 (3.0) | Average score (3.9615384615384617)\n",
      "Epoch 013/060 | Loss 0.0032 | Win/lose count 8.5/2.0 (6.5) | Average score (4.142857142857143)\n",
      "Epoch 014/060 | Loss 0.0029 | Win/lose count 10.5/5.0 (5.5) | Average score (4.233333333333333)\n",
      "Epoch 015/060 | Loss 0.0031 | Win/lose count 4.5/1.0 (3.5) | Average score (4.1875)\n",
      "Epoch 016/060 | Loss 0.0613 | Win/lose count 11.0/6.0 (5.0) | Average score (4.235294117647059)\n",
      "Epoch 017/060 | Loss 0.0045 | Win/lose count 6.0/0 (6.0) | Average score (4.333333333333333)\n",
      "Epoch 018/060 | Loss 0.0018 | Win/lose count 5.5/4.0 (1.5) | Average score (4.184210526315789)\n",
      "Epoch 019/060 | Loss 0.0016 | Win/lose count 2.0/4.0 (-2.0) | Average score (3.875)\n",
      "Epoch 020/060 | Loss 0.0037 | Win/lose count 6.5/2.0 (4.5) | Average score (3.9047619047619047)\n",
      "Epoch 021/060 | Loss 0.0043 | Win/lose count 5.0/4.0 (1.0) | Average score (3.772727272727273)\n",
      "Epoch 022/060 | Loss 0.0031 | Win/lose count 6.0/1.0 (5.0) | Average score (3.8260869565217392)\n",
      "Epoch 023/060 | Loss 0.0462 | Win/lose count 10.0/0 (10.0) | Average score (4.083333333333333)\n",
      "Epoch 024/060 | Loss 0.0007 | Win/lose count 8.0/2.0 (6.0) | Average score (4.16)\n",
      "Epoch 025/060 | Loss 0.0021 | Win/lose count 13.5/1.0 (12.5) | Average score (4.480769230769231)\n",
      "Epoch 026/060 | Loss 0.0022 | Win/lose count 9.5/4.0 (5.5) | Average score (4.518518518518518)\n",
      "Epoch 027/060 | Loss 0.0024 | Win/lose count 20.0/2.0 (18.0) | Average score (5.0)\n",
      "Epoch 028/060 | Loss 0.0542 | Win/lose count 8.0/2.0 (6.0) | Average score (5.0344827586206895)\n",
      "Epoch 029/060 | Loss 0.0018 | Win/lose count 7.0/1.0 (6.0) | Average score (5.066666666666666)\n",
      "Epoch 030/060 | Loss 0.0019 | Win/lose count 7.5/1.0 (6.5) | Average score (5.112903225806452)\n",
      "Epoch 031/060 | Loss 0.0024 | Win/lose count 0.5/0 (0.5) | Average score (4.96875)\n",
      "Epoch 032/060 | Loss 0.0586 | Win/lose count 9.0/3.0 (6.0) | Average score (5.0)\n",
      "Epoch 033/060 | Loss 0.0012 | Win/lose count 12.5/1.0 (11.5) | Average score (5.1911764705882355)\n",
      "Epoch 034/060 | Loss 0.0028 | Win/lose count 10.5/2.0 (8.5) | Average score (5.285714285714286)\n",
      "Epoch 035/060 | Loss 0.0027 | Win/lose count 11.0/1.0 (10.0) | Average score (5.416666666666667)\n",
      "Epoch 036/060 | Loss 0.0013 | Win/lose count 16.5/4.0 (12.5) | Average score (5.608108108108108)\n",
      "Epoch 037/060 | Loss 0.0021 | Win/lose count 5.0/2.0 (3.0) | Average score (5.5394736842105265)\n",
      "Epoch 038/060 | Loss 0.0021 | Win/lose count 13.0/1.0 (12.0) | Average score (5.705128205128205)\n",
      "Epoch 039/060 | Loss 0.0024 | Win/lose count 14.5/0 (14.5) | Average score (5.925)\n",
      "Epoch 040/060 | Loss 0.0011 | Win/lose count 13.0/4.0 (9.0) | Average score (6.0)\n",
      "Epoch 041/060 | Loss 0.0096 | Win/lose count 18.5/4.0 (14.5) | Average score (6.2023809523809526)\n",
      "Epoch 042/060 | Loss 0.0015 | Win/lose count 18.0/5.0 (13.0) | Average score (6.3604651162790695)\n",
      "Epoch 043/060 | Loss 0.0030 | Win/lose count 3.5/0 (3.5) | Average score (6.295454545454546)\n",
      "Epoch 044/060 | Loss 0.0011 | Win/lose count 5.5/2.0 (3.5) | Average score (6.233333333333333)\n",
      "Epoch 045/060 | Loss 0.0031 | Win/lose count 14.5/2.0 (12.5) | Average score (6.369565217391305)\n",
      "Epoch 046/060 | Loss 0.0043 | Win/lose count 12.0/1.0 (11.0) | Average score (6.468085106382978)\n",
      "Epoch 047/060 | Loss 0.0023 | Win/lose count 16.0/5.0 (11.0) | Average score (6.5625)\n",
      "Epoch 048/060 | Loss 0.0014 | Win/lose count 10.5/2.0 (8.5) | Average score (6.6020408163265305)\n",
      "Epoch 049/060 | Loss 0.0565 | Win/lose count 3.5/2.0 (1.5) | Average score (6.5)\n",
      "Epoch 050/060 | Loss 0.0016 | Win/lose count 9.0/1.0 (8.0) | Average score (6.529411764705882)\n",
      "Epoch 051/060 | Loss 0.0015 | Win/lose count 27.0/1.0 (26.0) | Average score (6.903846153846154)\n",
      "Epoch 052/060 | Loss 0.0019 | Win/lose count 16.5/4.0 (12.5) | Average score (7.009433962264151)\n",
      "Epoch 053/060 | Loss 0.0012 | Win/lose count 13.0/4.0 (9.0) | Average score (7.046296296296297)\n",
      "Epoch 054/060 | Loss 0.0012 | Win/lose count 4.5/1.0 (3.5) | Average score (6.9818181818181815)\n",
      "Epoch 055/060 | Loss 0.0037 | Win/lose count 9.5/5.0 (4.5) | Average score (6.9375)\n",
      "Epoch 056/060 | Loss 0.0010 | Win/lose count 13.5/4.0 (9.5) | Average score (6.982456140350878)\n",
      "Epoch 057/060 | Loss 0.0602 | Win/lose count 16.5/4.0 (12.5) | Average score (7.077586206896552)\n",
      "Epoch 058/060 | Loss 0.0020 | Win/lose count 10.5/2.0 (8.5) | Average score (7.101694915254237)\n",
      "Epoch 059/060 | Loss 0.0017 | Win/lose count 16.0/2.0 (14.0) | Average score (7.216666666666667)\n"
     ]
    },
    {
     "data": {
      "text/html": [
       "<video alt=\"test\" controls>\n",
       "                <source src=\"data:video/mp4;base64,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\" type=\"video/mp4\" />\n",
       "             </video>"
      ],
      "text/plain": [
       "<IPython.core.display.HTML object>"
      ]
     },
     "execution_count": 39,
     "metadata": {},
     "output_type": "execute_result"
    }
   ],
   "source": [
    "# Training\n",
    "env = EnvironmentExploring(grid_size=size, max_time=T, temperature=temperature)\n",
    "mimic_agent = Mimic_DQN_CNN(size, lr=lr, memory=memory, epsilon = epsilon, batch_size = batch_size,n_state=3)\n",
    "train(mimic_agent, env, epochs_train, prefix='mimic_cnn_train_explore')\n",
    "# train_explore(mimic_agent, env, epochs_train, decay=decay, prefix='mimic_cnn_train_explore')\n",
    "HTML(display_videos('mimic_cnn_train_explore10.mp4'))"
   ]
  },
  {
   "cell_type": "code",
   "execution_count": 40,
   "metadata": {},
   "outputs": [
    {
     "name": "stdout",
     "output_type": "stream",
     "text": [
      "Win/lose count 0/0. Average score (0.0)\n",
      "Win/lose count 7.0/0. Average score (3.5)\n",
      "Win/lose count 2.5/0. Average score (3.1666666666666665)\n",
      "Win/lose count 5.0/1.0. Average score (3.375)\n",
      "Win/lose count 4.0/0. Average score (3.5)\n",
      "Win/lose count 5.0/0. Average score (3.75)\n",
      "Win/lose count 3.5/0. Average score (3.7142857142857144)\n",
      "Win/lose count 9.5/0. Average score (4.4375)\n",
      "Win/lose count 9.0/0. Average score (4.944444444444445)\n",
      "Win/lose count 3.0/0. Average score (4.75)\n",
      "Win/lose count 2.5/0. Average score (4.545454545454546)\n",
      "Win/lose count 1.0/0. Average score (4.25)\n",
      "Win/lose count 2.0/0. Average score (4.076923076923077)\n",
      "Win/lose count 5.5/0. Average score (4.178571428571429)\n",
      "Win/lose count 1.0/0. Average score (3.966666666666667)\n",
      "Win/lose count 8.0/0. Average score (4.21875)\n",
      "Win/lose count 3.5/0. Average score (4.176470588235294)\n",
      "Win/lose count 5.5/0. Average score (4.25)\n",
      "Win/lose count 6.0/0. Average score (4.342105263157895)\n",
      "Win/lose count 1.5/0. Average score (4.2)\n",
      "Final score: 4.2\n"
     ]
    },
    {
     "data": {
      "text/html": [
       "<video alt=\"test\" controls>\n",
       "                <source src=\"data:video/mp4;base64,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\" type=\"video/mp4\" />\n",
       "             </video>"
      ],
      "text/plain": [
       "<IPython.core.display.HTML object>"
      ]
     },
     "execution_count": 40,
     "metadata": {},
     "output_type": "execute_result"
    }
   ],
   "source": [
    "# Evaluation\n",
    "test(mimic_agent,env,epochs_test,prefix='mimic_cnn_test_explore')\n",
    "HTML(display_videos('mimic_cnn_test_explore10.mp4'))"
   ]
  },
  {
   "cell_type": "markdown",
   "metadata": {},
   "source": [
    "We can see that the final score of the imitation network is worse than the previous expert DQN and it also has the exploration issue. This is because the memory generated by the expert DQN does not register the malus of position and we do not update the memory by the imitation network's own experience, thus the imitation network can not get rid of the exploration issue."
   ]
  },
  {
   "cell_type": "markdown",
   "metadata": {},
   "source": [
    "***"
   ]
  }
 ],
 "metadata": {
  "kernelspec": {
   "display_name": "Python 3",
   "language": "python",
   "name": "python3"
  },
  "language_info": {
   "codemirror_mode": {
    "name": "ipython",
    "version": 3
   },
   "file_extension": ".py",
   "mimetype": "text/x-python",
   "name": "python",
   "nbconvert_exporter": "python",
   "pygments_lexer": "ipython3",
   "version": "3.5.0"
  }
 },
 "nbformat": 4,
 "nbformat_minor": 2
}
