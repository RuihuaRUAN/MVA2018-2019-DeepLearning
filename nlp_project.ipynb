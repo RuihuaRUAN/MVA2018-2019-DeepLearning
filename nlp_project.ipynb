{
 "cells": [
  {
   "cell_type": "markdown",
   "metadata": {},
   "source": [
    "# Deep Learning for NLP - Project"
   ]
  },
  {
   "cell_type": "markdown",
   "metadata": {},
   "source": [
    "RULES:\n",
    "\n",
    "* Do not create any additional cell\n",
    "\n",
    "* Fill in the blanks\n",
    "\n",
    "* All cells should be runnable (modulo trivial compatibility bugs that we'd fix)\n",
    "\n",
    "* 4 / 20 points will be allocated to the clarity of your code\n",
    "\n",
    "* Efficient code will have a bonus\n",
    "\n",
    "DELIVERABLE:\n",
    "\n",
    "* this notebook\n",
    "* the predictions of the SST test set\n",
    "\n",
    "DO NOT INCLUDE THE DATASETS IN THE DELIVERABLE.."
   ]
  },
  {
   "cell_type": "code",
   "execution_count": 1,
   "metadata": {},
   "outputs": [],
   "source": [
    "import io\n",
    "import os\n",
    "import numpy as np\n",
    "import scipy"
   ]
  },
  {
   "cell_type": "code",
   "execution_count": 2,
   "metadata": {},
   "outputs": [],
   "source": [
    "PATH_TO_DATA = \"./data/\""
   ]
  },
  {
   "cell_type": "markdown",
   "metadata": {},
   "source": [
    "# 1) Monolingual (English) word embeddings "
   ]
  },
  {
   "cell_type": "code",
   "execution_count": 3,
   "metadata": {},
   "outputs": [],
   "source": [
    "class Word2vec():\n",
    "    def __init__(self, fname, nmax=100000):\n",
    "        self.load_wordvec(fname, nmax)\n",
    "        self.word2id = dict.fromkeys(self.word2vec.keys())\n",
    "        for i, word in enumerate(self.word2id.keys()):\n",
    "            self.word2id[word] = i\n",
    "        self.id2word = {v: k for k, v in self.word2id.items()}\n",
    "        self.embeddings = np.array(self.word2vec.values())\n",
    "    \n",
    "    def load_wordvec(self, fname, nmax):\n",
    "        self.word2vec = {}\n",
    "        with io.open(fname, encoding='utf-8') as f:\n",
    "            next(f)\n",
    "            for i, line in enumerate(f):\n",
    "                word, vec = line.split(' ', 1)\n",
    "                self.word2vec[word] = np.fromstring(vec, sep=' ')\n",
    "                if i == (nmax - 1):\n",
    "                    break\n",
    "        print('Loaded %s pretrained word vectors' % (len(self.word2vec)))\n",
    "\n",
    "    def most_similar(self, w, K=5):\n",
    "        # K most similar words: self.score  -  np.argsort \n",
    "        similarities = np.zeros(len(self.word2vec))\n",
    "        for idx, word in self.id2word.items():\n",
    "            similarities[idx] = self.score(w, word)\n",
    "        \n",
    "        k_nearest_idxs = np.argsort(similarities)[-K-1:-1][::-1]\n",
    "        \n",
    "        res = []\n",
    "        for idx in k_nearest_idxs:\n",
    "            res.append(self.id2word[idx])\n",
    "        \n",
    "        return res\n",
    "\n",
    "    def score(self, w1, w2):\n",
    "        # cosine similarity: np.dot  -  np.linalg.norm\n",
    "        embed1 = self.word2vec[w1]\n",
    "        embed2 = self.word2vec[w2]\n",
    "        similarity = self.cosine_similarity(embed1, embed2)\n",
    "        return similarity\n",
    "    \n",
    "    def cosine_similarity(self, v1, v2):\n",
    "        similarity = np.dot(v1.reshape((1, -1)), v2.reshape(-1, 1)) / (np.linalg.norm(v1) * np.linalg.norm(v2))\n",
    "        return similarity\n"
   ]
  },
  {
   "cell_type": "code",
   "execution_count": 4,
   "metadata": {},
   "outputs": [
    {
     "name": "stdout",
     "output_type": "stream",
     "text": [
      "Loaded 100000 pretrained word vectors\n",
      "cat dog [[0.67168367]]\n",
      "dog pet [[0.6842064]]\n",
      "dogs cats [[0.70743893]]\n",
      "paris france [[0.77751085]]\n",
      "germany berlin [[0.74202952]]\n",
      "['cats', 'kitty', 'kitten', 'feline', 'kitties']\n",
      "['dogs', 'puppy', 'Dog', 'doggie', 'canine']\n",
      "['dog', 'pooches', 'Dogs', 'doggies', 'canines']\n",
      "['france', 'Paris', 'london', 'berlin', 'tokyo']\n",
      "['austria', 'europe', 'german', 'berlin', 'poland']\n"
     ]
    }
   ],
   "source": [
    "w2v = Word2vec(os.path.join(PATH_TO_DATA, 'crawl-300d-200k.vec'), nmax=100000)\n",
    "\n",
    "# You will be evaluated on the output of the following:\n",
    "for w1, w2 in zip(('cat', 'dog', 'dogs', 'paris', 'germany'), ('dog', 'pet', 'cats', 'france', 'berlin')):\n",
    "    print(w1, w2, w2v.score(w1, w2))\n",
    "for w1 in ['cat', 'dog', 'dogs', 'paris', 'germany']:\n",
    "    print(w2v.most_similar(w1))"
   ]
  },
  {
   "cell_type": "code",
   "execution_count": 12,
   "metadata": {},
   "outputs": [],
   "source": [
    "class BoV():\n",
    "    def __init__(self, w2v):\n",
    "        self.w2v = w2v\n",
    "    \n",
    "    def encode(self, sentences, idf=False):\n",
    "        # takes a list of sentences, outputs a numpy array of sentence embeddings\n",
    "        # see TP1 for help\n",
    "        if len(sentences) == 0:\n",
    "            return\n",
    "        sentemb = []\n",
    "        for sent in sentences:\n",
    "            if idf is False:\n",
    "                # mean of word vectors\n",
    "                embed = []\n",
    "                words = sent.split(' ')\n",
    "                for _, word in enumerate(words):\n",
    "                    if word in self.w2v.word2vec.keys():\n",
    "                        embed.append(self.w2v.word2vec[word])\n",
    "                    \n",
    "                if len(embed) == 0:\n",
    "                    embed = np.zeros((1, 300))\n",
    "                else:\n",
    "                    embed = np.vstack(embed)\n",
    "                sentemb.append(np.mean(embed, axis=0))\n",
    "            else:\n",
    "                # idf-weighted mean of word vectors\n",
    "                embed = []\n",
    "                words = sent.split(' ')\n",
    "                for _, word in enumerate(words):\n",
    "                    if word in self.w2v.word2vec.keys() and word in idf.keys():\n",
    "                        embed.append(self.w2v.word2vec[word] * idf[word])\n",
    "                    \n",
    "                if len(embed) == 0:\n",
    "                    embed = np.zeros((1, 300))\n",
    "                else:\n",
    "                    embed = np.vstack(embed)\n",
    "                sentemb.append(np.mean(embed, axis=0))\n",
    "        return np.vstack(sentemb)\n",
    "\n",
    "    def most_similar(self, s, sentences, idf=False, K=5):\n",
    "        # get most similar sentences and **print** them\n",
    "        keys = self.encode(sentences, idf)\n",
    "        query = self.encode([s], idf)\n",
    "        similarities = np.zeros(keys.shape[0])\n",
    "        for i in range(keys.shape[0]):\n",
    "            key = keys[i]\n",
    "            similarities[i] = self.w2v.cosine_similarity(query, key)\n",
    "        \n",
    "        k_nearest_idxs = np.argsort(similarities)[-K-1:-1][::-1]\n",
    "        \n",
    "        for idx in k_nearest_idxs:\n",
    "            print(sentences[idx])\n",
    "        \n",
    "        return\n",
    "\n",
    "    def score(self, s1, s2, idf=False):\n",
    "        # cosine similarity: use   np.dot  and  np.linalg.norm\n",
    "        e1 = self.encode([s1], idf)\n",
    "        e2 = self.encode([s2], idf)\n",
    "        similarity = self.w2v.cosine_similarity(e1, e2)\n",
    "        print(similarity)\n",
    "        return\n",
    "    \n",
    "    def build_idf(self, sentences):\n",
    "        # build the idf dictionary: associate each word to its idf value\n",
    "        idf = {}\n",
    "        for sent in sentences:\n",
    "            words = sent.split(' ')\n",
    "            for w in set(words):\n",
    "                idf[w] = idf.get(w, 0) + 1\n",
    "                \n",
    "        for word in idf.keys():\n",
    "            idf[word] = max(1, np.log10(len(sentences) / (idf[word])))\n",
    "            \n",
    "        return idf"
   ]
  },
  {
   "cell_type": "code",
   "execution_count": 13,
   "metadata": {},
   "outputs": [
    {
     "name": "stdout",
     "output_type": "stream",
     "text": [
      "Loaded 100000 pretrained word vectors\n",
      "\n",
      "sentence embedding results without idf (BoV-mean)\n",
      "\n",
      "sentence 10 is: 1 smiling african american boy .\n",
      "The most similar sentences are: \n",
      "an african american man smiling .\n",
      "a little african american boy and girl looking up .\n",
      "an afican american woman standing behind two small african american children .\n",
      "an african american man is sitting .\n",
      "a girl in black hat holding an african american baby .\n",
      "\n",
      "sentence 7 is: 1 man singing and 1 man playing a saxophone in a concert .\n",
      "sentence 13 is: 10 people venture out to go crosscountry skiing .\n",
      "The score between sentence 7 and sentence 13 is: \n",
      "[[0.57262589]]\n",
      "\n",
      "sentence embedding results with idf (BoV-idf)\n",
      "\n",
      "an african american man smiling .\n",
      "an african american man is sitting .\n",
      "a little african american boy and girl looking up .\n",
      "an afican american woman standing behind two small african american children .\n",
      "a girl in black hat holding an african american baby .\n",
      "[[0.47514509]]\n"
     ]
    }
   ],
   "source": [
    "w2v = Word2vec(os.path.join(PATH_TO_DATA, 'crawl-300d-200k.vec'), nmax=100000)\n",
    "s2v = BoV(w2v)\n",
    "\n",
    "# Load sentences in \"PATH_TO_DATA/sentences.txt\"\n",
    "sentences = []\n",
    "with io.open(os.path.join(PATH_TO_DATA, 'sentences.txt'), encoding='utf-8') as f:\n",
    "    for _, line in enumerate(f):\n",
    "        sentences.append(line.strip())\n",
    "\n",
    "# Build idf scores for each word\n",
    "idf = s2v.build_idf(sentences)\n",
    "\n",
    "# You will be evaluated on the output of the following:\n",
    "print(\"\\nsentence embedding results without idf (BoV-mean)\\n\")\n",
    "print(\"sentence 10 is: \" + str(sentences[10]))\n",
    "print(\"The most similar sentences are: \")\n",
    "s2v.most_similar('' if not sentences else sentences[10], sentences)  # BoV-mean\n",
    "print(\"\\nsentence 7 is: \" + str(sentences[7]))\n",
    "print(\"sentence 13 is: \" + str(sentences[13]))\n",
    "print(\"The score between sentence 7 and sentence 13 is: \")\n",
    "s2v.score('' if not sentences else sentences[7], '' if not sentences else sentences[13])\n",
    "\n",
    "print(\"\\nsentence embedding results with idf (BoV-idf)\\n\")\n",
    "s2v.most_similar('' if not sentences else sentences[10], sentences, idf)  # BoV-idf\n",
    "s2v.score('' if not sentences else sentences[7], '' if not sentences else sentences[13], idf)"
   ]
  },
  {
   "cell_type": "markdown",
   "metadata": {},
   "source": [
    "# 2) Multilingual (English-French) word embeddings"
   ]
  },
  {
   "cell_type": "markdown",
   "metadata": {},
   "source": [
    "Let's consider a bilingual dictionary of size V_a (e.g French-English).\n",
    "\n",
    "Let's define **X** and **Y** the **French** and **English** matrices.\n",
    "\n",
    "They contain the embeddings associated to the words in the bilingual dictionary.\n",
    "\n",
    "We want to find a **mapping W** that will project the source word space (e.g French) to the target word space (e.g English).\n",
    "\n",
    "Procrustes : **W\\* = argmin || W.X - Y ||  s.t  W^T.W = Id**\n",
    "has a closed form solution:\n",
    "**W = U.V^T  where  U.Sig.V^T = SVD(Y.X^T)**\n",
    "\n",
    "In what follows, you are asked to: "
   ]
  },
  {
   "cell_type": "code",
   "execution_count": 7,
   "metadata": {},
   "outputs": [
    {
     "name": "stdout",
     "output_type": "stream",
     "text": [
      "  % Total    % Received % Xferd  Average Speed   Time    Time     Time  Current\n",
      "                                 Dload  Upload   Total   Spent    Left  Speed\n",
      "100 6291M  100 6291M    0     0  5819k      0  0:18:27  0:18:27 --:--:-- 5804k804k      0  0:18:29  0:01:27  0:17:02 6041kM    0     0  5549k      0  0:19:20  0:02:03  0:17:17 2668k 0  4953k      0  0:21:40  0:03:53  0:17:47 4788kM    0     0  5004k      0  0:21:27  0:04:08  0:17:19 5856k5M    0     0  5117k      0  0:20:58  0:04:41  0:16:17 5943kM   32 2015M    0     0  5357k      0  0:20:02  0:06:25  0:13:37 5936k5476k      0  0:19:36  0:07:04  0:12:32 6016k  36 2281M    0     0  5483k      0  0:19:34  0:07:06  0:12:28 6353k 0     0  5506k      0  0:19:29  0:07:13  0:12:16 6814k 0  5641k      0  0:19:01  0:08:02  0:10:59 6836k 0:08:11  0:10:46 6815k   0     0  5681k      0  0:18:54  0:08:37  0:10:17 5902k1M    0     0  5694k      0  0:18:51  0:09:05  0:09:46 5971k91M   48 3043M    0     0  5694k      0  0:18:51  0:09:07  0:09:44 5806k 0:18:51  0:09:08  0:09:43 5881k06M    0     0  5699k      0  0:18:50  0:09:18  0:09:32 5923k91M   51 3248M    0     0  5704k      0  0:18:49  0:09:43  0:09:06 5644k 0  5708k      0  0:18:48  0:09:59  0:08:49 5913k622M    0     0  5732k      0  0:18:43  0:10:47  0:07:56 6149k 4054M    0     0  5756k      0  0:18:39  0:12:01  0:06:38 5910k  5757k      0  0:18:39  0:12:03  0:06:36 5843k  0  5762k      0  0:18:38  0:13:05  0:05:33 5927kM   72 4580M    0     0  5761k      0  0:18:38  0:13:34  0:05:04 5680k637M    0     0  5761k      0  0:18:38  0:13:44  0:04:54 5918k  84 5313M    0     0  5787k      0  0:18:33  0:15:40  0:02:53 5814k 0     0  5789k      0  0:18:32  0:15:50  0:02:42 6073k9M    0     0  5797k      0  0:18:31  0:16:43  0:01:48 5580k 0  0:18:30  0:16:53  0:01:37 6033k0  5807k      0  0:18:29  0:17:01  0:01:28 7071k  0     0  5812k      0  0:18:28  0:17:05  0:01:23 7158k 0  5816k      0  0:18:27  0:17:38  0:00:49 6136k\n",
      "  % Total    % Received % Xferd  Average Speed   Time    Time     Time  Current\n",
      "                                 Dload  Upload   Total   Spent    Left  Speed\n",
      "100 2886M  100 2886M    0     0  5898k      0  0:08:21  0:08:21 --:--:-- 5101k0  317M    0     0  5509k      0  0:08:56  0:00:58  0:07:58 6060k   14  411M    0     0  5613k      0  0:08:46  0:01:15  0:07:31 6021k 17  505M    0     0  5685k      0  0:08:39  0:01:30  0:07:09 6099k26  761M    0     0  5780k      0  0:08:31  0:02:14  0:06:17 5926k  0     0  5810k      0  0:08:28  0:02:34  0:05:54 5980k808k      0  0:08:28  0:02:37  0:05:51 5894k0  5778k      0  0:08:31  0:03:43  0:04:48 6140k  0  5872k      0  0:08:23  0:04:28  0:03:55 6524k 0  5878k      0  0:08:22  0:04:41  0:03:41 7204k72M    0     0  5906k      0  0:08:20  0:04:49  0:03:31 7232k   0  5922k      0  0:08:19  0:04:56  0:03:23 6422k  5938k      0  0:08:17  0:05:36  0:02:41 6227k 0  5939k      0  0:08:17  0:06:00  0:02:17 5913kM    0     0  5937k      0  0:08:17  0:06:12  0:02:05 5988k2M    0     0  5939k      0  0:08:17  0:06:17  0:02:00 6128k94k      0  0:08:21  0:06:42  0:01:39 5731k    0     0  5895k      0  0:08:21  0:06:48  0:01:33 5993k  0     0  5895k      0  0:08:21  0:06:51  0:01:30 5872k   0  5888k      0  0:08:22  0:06:59  0:01:23 5374k    0     0  5883k      0  0:08:22  0:07:02  0:01:20 5058k    0     0  5884k      0  0:08:22  0:07:03  0:01:19 5303k 0  5908k      0  0:08:20  0:07:43  0:00:37 5626k2 2676M    0     0  5907k      0  0:08:20  0:07:43  0:00:37 5592k2 2682M    0     0  5907k      0  0:08:20  0:07:44  0:00:36 5577kM    0     0  5907k      0  0:08:20  0:08:03  0:00:17 5811k\n"
     ]
    }
   ],
   "source": [
    "# 1 - Download and load 50k first vectors of\n",
    "#     https://s3-us-west-1.amazonaws.com/fasttext-vectors/wiki.en.vec\n",
    "#     https://s3-us-west-1.amazonaws.com/fasttext-vectors/wiki.fr.vec\n",
    "\n",
    "# TYPE CODE HERE\n",
    "!cd ./data/ && curl -O https://s3-us-west-1.amazonaws.com/fasttext-vectors/wiki.en.vec\n",
    "!cd ./data/ && curl -O https://s3-us-west-1.amazonaws.com/fasttext-vectors/wiki.fr.vec"
   ]
  },
  {
   "cell_type": "code",
   "execution_count": 14,
   "metadata": {},
   "outputs": [
    {
     "name": "stdout",
     "output_type": "stream",
     "text": [
      "Loaded 50000 pretrained word vectors\n",
      "Loaded 50000 pretrained word vectors\n"
     ]
    }
   ],
   "source": [
    "# 2 - Get words that appear in both vocabs (= identical character strings)\n",
    "#     Use it to create the matrix X and Y (of aligned embeddings for these words)\n",
    "\n",
    "# TYPE CODE HERE\n",
    "w2v_en = Word2vec(os.path.join(PATH_TO_DATA, 'wiki.en.vec'), nmax=50000)\n",
    "w2v_fr = Word2vec(os.path.join(PATH_TO_DATA, 'wiki.fr.vec'), nmax=50000)\n",
    "\n",
    "X = []\n",
    "Y = []\n",
    "for word in w2v_en.word2vec.keys():\n",
    "    if word in w2v_fr.word2vec.keys():\n",
    "        X.append(w2v_fr.word2vec[word])\n",
    "        Y.append(w2v_en.word2vec[word])\n",
    "        \n",
    "X = np.vstack(X).T\n",
    "Y = np.vstack(Y).T"
   ]
  },
  {
   "cell_type": "code",
   "execution_count": 15,
   "metadata": {},
   "outputs": [],
   "source": [
    "# 3 - Solve the Procrustes using the scipy package and: scipy.linalg.svd() and get the optimal W\n",
    "#     Now W*French_vector is in the same space as English_vector\n",
    "\n",
    "# TYPE CODE HERE\n",
    "U, s, Vh = np.linalg.svd(np.dot(Y, X.T))\n",
    "W = np.dot(U, Vh)"
   ]
  },
  {
   "cell_type": "code",
   "execution_count": 16,
   "metadata": {},
   "outputs": [
    {
     "name": "stdout",
     "output_type": "stream",
     "text": [
      "The English nearest neighbors for French word chat are: ['rabbit', 'hamster', 'feline', 'poodle', 'squirrel']\n",
      "The English nearest neighbors for French word chien are: ['poodle', 'terrier', 'dogs', 'spaniel', 'hamster']\n",
      "The English nearest neighbors for French word chiens are: ['rabbits', 'dog', 'hounds', 'hares', 'animals']\n",
      "The English nearest neighbors for French word paris are: ['parisian', 'rouen', 'gallimard', 'sorbonne', 'strasbourg']\n",
      "The English nearest neighbors for French word allemand are: ['austrian', 'prussian', 'luxembourgish', 'germany', 'friedrich']\n"
     ]
    }
   ],
   "source": [
    "# 4 - After alignment with W, give examples of English nearest neighbors of some French words (and vice versa)\n",
    "#     You will be evaluated on that part and the code above\n",
    "\n",
    "# TYPE CODE HERE\n",
    "frs = ['chat', 'chien', 'chiens', 'paris', 'allemand']\n",
    "K = 5\n",
    "for fr in frs:\n",
    "    v_fr = w2v_fr.word2vec[fr]\n",
    "    v_en = np.dot(W, v_fr)\n",
    "    similarities = np.zeros(len(w2v_en.word2vec))\n",
    "    for idx, word in w2v_en.id2word.items():\n",
    "        v_word = w2v_en.word2vec[word]\n",
    "        similarities[idx] = w2v_en.cosine_similarity(v_en, v_word)\n",
    "\n",
    "    k_nearest_idxs = np.argsort(similarities)[-K-1:-1][::-1]\n",
    "\n",
    "    res = []\n",
    "    for idx in k_nearest_idxs:\n",
    "        res.append(w2v_en.id2word[idx])\n",
    "    \n",
    "    print(\"The English nearest neighbors for French word \" + fr + \" are: \" + str(res))"
   ]
  },
  {
   "cell_type": "markdown",
   "metadata": {},
   "source": [
    "If you want to dive deeper on this subject: https://github.com/facebookresearch/MUSE"
   ]
  },
  {
   "cell_type": "markdown",
   "metadata": {},
   "source": [
    "# 3) Sentence classification with BoV and scikit-learn"
   ]
  },
  {
   "cell_type": "code",
   "execution_count": 17,
   "metadata": {},
   "outputs": [
    {
     "name": "stdout",
     "output_type": "stream",
     "text": [
      "Loaded 8544 labeled sentences\n",
      "Loaded 1101 labeled sentences\n",
      "Loaded 2210 test sentences\n"
     ]
    }
   ],
   "source": [
    "# 1 - Load train/dev/test of Stanford Sentiment TreeBank (SST)\n",
    "#     (https://nlp.stanford.edu/~socherr/EMNLP2013_RNTN.pdf)\n",
    "\n",
    "# TYPE CODE HERE\n",
    "def load_dataset(fname):\n",
    "    labels = []\n",
    "    sentences = []\n",
    "    with io.open(fname, encoding='utf-8') as f:\n",
    "        for _, line in enumerate(f):\n",
    "            label, sentence = line.split(' ', 1)\n",
    "            labels.append(int(label))\n",
    "            sentences.append(sentence)\n",
    "    print('Loaded %s labeled sentences' % (len(labels)))\n",
    "    return labels, sentences\n",
    "\n",
    "def load_test(fname):\n",
    "    sentences = []\n",
    "    with io.open(fname, encoding='utf-8') as f:\n",
    "        for _, line in enumerate(f):\n",
    "            sentences.append(line)\n",
    "    print('Loaded %s test sentences' % (len(sentences)))\n",
    "    return sentences\n",
    "\n",
    "labels_train, sentences_train = load_dataset(PATH_TO_DATA + 'SST/stsa.fine.train')\n",
    "labels_dev, sentences_dev = load_dataset(PATH_TO_DATA + 'SST/stsa.fine.dev')\n",
    "sentences_test = load_test(PATH_TO_DATA + 'SST/stsa.fine.test.X')"
   ]
  },
  {
   "cell_type": "code",
   "execution_count": 18,
   "metadata": {},
   "outputs": [],
   "source": [
    "# 2 - Encode sentences with the BoV model above\n",
    "\n",
    "# TYPE CODE HERE\n",
    "def encode_dataset(s2v, sentences, idf=False):\n",
    "    sentemb = s2v.encode(sentences, idf)\n",
    "    return sentemb\n",
    "\n",
    "# without idf (BoV-mean)\n",
    "sentemb_train = encode_dataset(s2v, sentences_train)\n",
    "sentemb_dev = encode_dataset(s2v, sentences_dev)\n",
    "sentemb_test = encode_dataset(s2v, sentences_test)\n",
    "\n",
    "# with idf (BoV-idf)\n",
    "idf = s2v.build_idf(sentences_train)\n",
    "sentemb_train_idf = encode_dataset(s2v, sentences_train, idf)\n",
    "sentemb_dev_idf = encode_dataset(s2v, sentences_dev, idf)\n",
    "sentemb_test_idf = encode_dataset(s2v, sentences_test, idf)"
   ]
  },
  {
   "cell_type": "code",
   "execution_count": 19,
   "metadata": {},
   "outputs": [],
   "source": [
    "import sklearn.linear_model\n",
    "import sklearn.ensemble\n",
    "import pandas as pd"
   ]
  },
  {
   "cell_type": "code",
   "execution_count": 27,
   "metadata": {},
   "outputs": [
    {
     "name": "stdout",
     "output_type": "stream",
     "text": [
      "Results without idf\n",
      "\n",
      "Accuracy on the training set: 0.49953183520599254 (C = 5.0)\n",
      "Accuracy on the dev set: 0.40054495912806537\n",
      "Accuracy on the training set: 0.4887640449438202 (C = 1.0)\n",
      "Accuracy on the dev set: 0.40962761126248864\n",
      "Accuracy on the training set: 0.4820926966292135 (C = 0.5)\n",
      "Accuracy on the dev set: 0.4141689373297003\n",
      "Accuracy on the training set: 0.455875468164794 (C = 0.1)\n",
      "Accuracy on the dev set: 0.4223433242506812\n",
      "Accuracy on the training set: 0.4417134831460674 (C = 0.05)\n",
      "Accuracy on the dev set: 0.4305177111716621\n",
      "Accuracy on the training set: 0.4187734082397004 (C = 0.02)\n",
      "Accuracy on the dev set: 0.4087193460490463\n",
      "Accuracy on the training set: 0.4044943820224719 (C = 0.01)\n",
      "Accuracy on the dev set: 0.3851044504995459\n",
      "\n",
      "Results with idf\n",
      "\n",
      "Accuracy on the training set: 0.4940308988764045 (C = 5.0)\n",
      "Accuracy on the dev set: 0.39509536784741145\n",
      "Accuracy on the training set: 0.4943820224719101 (C = 1.0)\n",
      "Accuracy on the dev set: 0.3887375113533152\n",
      "Accuracy on the training set: 0.49122191011235955 (C = 0.5)\n",
      "Accuracy on the dev set: 0.4014532243415077\n",
      "Accuracy on the training set: 0.4820926966292135 (C = 0.1)\n",
      "Accuracy on the dev set: 0.4123524069028156\n",
      "Accuracy on the training set: 0.47425093632958804 (C = 0.05)\n",
      "Accuracy on the dev set: 0.4196185286103542\n",
      "Accuracy on the training set: 0.460440074906367 (C = 0.02)\n",
      "Accuracy on the dev set: 0.41689373297002724\n",
      "Accuracy on the training set: 0.44662921348314605 (C = 0.01)\n",
      "Accuracy on the dev set: 0.39509536784741145\n"
     ]
    },
    {
     "data": {
      "text/plain": [
       "LogisticRegression(C=0.05, class_weight=None, dual=False, fit_intercept=True,\n",
       "          intercept_scaling=1, max_iter=500, multi_class='multinomial',\n",
       "          n_jobs=None, penalty='l2', random_state=None, solver='lbfgs',\n",
       "          tol=0.0001, verbose=0, warm_start=False)"
      ]
     },
     "execution_count": 27,
     "metadata": {},
     "output_type": "execute_result"
    }
   ],
   "source": [
    "# 3 - Learn Logistic Regression on top of sentence embeddings using scikit-learn\n",
    "#     (consider tuning the L2 regularization on the dev set)\n",
    "\n",
    "# TYPE CODE HERE\n",
    "# tune L2 regularization on the dev set\n",
    "Cs = [5.0, 1.0, 0.5, 0.1, 0.05, 0.02, 0.01]\n",
    "# without idf\n",
    "print(\"Results without idf\\n\")\n",
    "for c in Cs:\n",
    "    logreg = sklearn.linear_model.LogisticRegression(C=c, solver='lbfgs', multi_class='multinomial', max_iter=500)\n",
    "    logreg.fit(sentemb_train, labels_train)\n",
    "    accuracy_train = logreg.score(sentemb_train, labels_train)\n",
    "    print(\"Accuracy on the training set: \" + str(accuracy_train) + \" (C = \" + str(c) + \")\")\n",
    "    accuracy_dev = logreg.score(sentemb_dev_idf, labels_dev)\n",
    "    print(\"Accuracy on the dev set: \" + str(accuracy_dev))\n",
    "\n",
    "# with idf\n",
    "print(\"\\nResults with idf\\n\")\n",
    "for c in Cs:\n",
    "    logreg = sklearn.linear_model.LogisticRegression(C=c, solver='lbfgs', multi_class='multinomial', max_iter=500)\n",
    "    logreg.fit(sentemb_train_idf, labels_train)\n",
    "    accuracy_train = logreg.score(sentemb_train_idf, labels_train)\n",
    "    print(\"Accuracy on the training set: \" + str(accuracy_train) + \" (C = \" + str(c) + \")\")\n",
    "    accuracy_dev = logreg.score(sentemb_dev_idf, labels_dev)\n",
    "    print(\"Accuracy on the dev set: \" + str(accuracy_dev))\n",
    "    \n",
    "# choose C = 0.05 without idf 'lbfgs' solver and 'multinomial', max_iter = 500 to train on total training set\n",
    "sentemb_total = np.concatenate((sentemb_train, sentemb_dev), axis=0)\n",
    "labels_total = labels_train + labels_dev\n",
    "logreg = sklearn.linear_model.LogisticRegression(C=0.05, solver='lbfgs', multi_class='multinomial', max_iter=500)\n",
    "logreg.fit(sentemb_total, labels_total)"
   ]
  },
  {
   "cell_type": "code",
   "execution_count": 28,
   "metadata": {},
   "outputs": [],
   "source": [
    "# 4 - Produce 2210 predictions for the test set (in the same order). One line = one prediction (=0,1,2,3,4).\n",
    "#     Attach the output file \"logreg_bov_y_test_sst.txt\" to your deliverable.\n",
    "#     You will be evaluated on the results of the test set.\n",
    "\n",
    "# TYPE CODE HERE\n",
    "y_pred = logreg.predict(sentemb_test_idf)\n",
    "pd.DataFrame(y_pred).to_csv('logreg_bov_y_test_sst.txt', header=False, index=False)"
   ]
  },
  {
   "cell_type": "markdown",
   "metadata": {},
   "source": [
    "We have tried several classifiers (e.g. SVM, Random Forest, Gradient boosting), however these classifiers do not give a better performance than logistic regression. This may because that we use aggregated features which is too simple, in which case simple classifier gives better performance."
   ]
  },
  {
   "cell_type": "code",
   "execution_count": 29,
   "metadata": {},
   "outputs": [
    {
     "name": "stdout",
     "output_type": "stream",
     "text": [
      "Results without idf\n",
      "\n",
      "Accuracy on the training set: 0.5912921348314607\n",
      "Accuracy on the dev set: 0.4032697547683924\n",
      "\n",
      "Results with idf\n",
      "\n",
      "Accuracy on the training set: 0.5870786516853933\n",
      "Accuracy on the dev set: 0.3832879200726612\n"
     ]
    }
   ],
   "source": [
    "# BONUS!\n",
    "# 5 - Try to improve performance with another classifier\n",
    "#     Attach the output file \"XXX_bov_y_test_sst.txt\" to your deliverable (where XXX = the name of the classifier)\n",
    "\n",
    "# TYPE CODE HERE\n",
    "# # try SVM classifier\n",
    "# Cs = [5.0, 1.0, 0.5, 0.1, 0.05, 0.02, 0.01]\n",
    "# # without idf\n",
    "# print(\"Results without idf\\n\")\n",
    "# for c in Cs:\n",
    "#     svm = sklearn.svm.SVC(C=c, decision_function_shape='ovo')\n",
    "#     svm.fit(sentemb_train, labels_train)\n",
    "#     accuracy_train = svm.score(sentemb_train, labels_train)\n",
    "#     print(\"Accuracy on the training set: \" + str(accuracy_train) + \" (C = \" + str(c) + \")\")\n",
    "#     accuracy_dev = svm.score(sentemb_dev, labels_dev)\n",
    "#     print(\"Accuracy on the dev set: \" + str(accuracy_dev))\n",
    "\n",
    "# # with idf\n",
    "# print(\"\\nResults with idf\\n\")\n",
    "# for c in Cs:\n",
    "#     svm = sklearn.svm.SVC(C=c, decision_function_shape='ovo')\n",
    "#     svm.fit(sentemb_train_idf, labels_train)\n",
    "#     accuracy_train = svm.score(sentemb_train_idf, labels_train)\n",
    "#     print(\"Accuracy on the training set: \" + str(accuracy_train) + \" (C = \" + str(c) + \")\")\n",
    "#     accuracy_dev = svm.score(sentemb_dev_idf, labels_dev)\n",
    "#     print(\"Accuracy on the dev set: \" + str(accuracy_dev))\n",
    "\n",
    "# # try Random Forest classifier\n",
    "# # without idf\n",
    "# print(\"Results without idf\\n\")\n",
    "# rf = sklearn.ensemble.RandomForestClassifier(n_estimators=100, max_depth=6)\n",
    "# rf.fit(sentemb_train, labels_train)\n",
    "# accuracy_train = rf.score(sentemb_train, labels_train)\n",
    "# print(\"Accuracy on the training set: \" + str(accuracy_train))\n",
    "# accuracy_dev = rf.score(sentemb_dev, labels_dev)\n",
    "# print(\"Accuracy on the dev set: \" + str(accuracy_dev))\n",
    "\n",
    "# # with idf\n",
    "# print(\"\\nResults with idf\\n\")\n",
    "# rf = sklearn.ensemble.RandomForestClassifier(n_estimators=100, max_depth=6)\n",
    "# rf.fit(sentemb_train_idf, labels_train)\n",
    "# accuracy_train = rf.score(sentemb_train_idf, labels_train)\n",
    "# print(\"Accuracy on the training set: \" + str(accuracy_train))\n",
    "# accuracy_dev = rf.score(sentemb_dev_idf, labels_dev)\n",
    "# print(\"Accuracy on the dev set: \" + str(accuracy_dev))\n",
    "\n",
    "# try gradient boosting classifier\n",
    "# without idf\n",
    "print(\"Results without idf\\n\")\n",
    "gdbt = sklearn.ensemble.GradientBoostingClassifier(learning_rate=0.05, n_estimators=100, max_depth=3)\n",
    "gdbt.fit(sentemb_train, labels_train)\n",
    "accuracy_train = gdbt.score(sentemb_train, labels_train)\n",
    "print(\"Accuracy on the training set: \" + str(accuracy_train))\n",
    "accuracy_dev = gdbt.score(sentemb_dev, labels_dev)\n",
    "print(\"Accuracy on the dev set: \" + str(accuracy_dev))\n",
    "\n",
    "# with idf\n",
    "print(\"\\nResults with idf\\n\")\n",
    "gdbt = sklearn.ensemble.GradientBoostingClassifier(learning_rate=0.05, n_estimators=100, max_depth=3)\n",
    "gdbt.fit(sentemb_train_idf, labels_train)\n",
    "accuracy_train = gdbt.score(sentemb_train_idf, labels_train)\n",
    "print(\"Accuracy on the training set: \" + str(accuracy_train))\n",
    "accuracy_dev = gdbt.score(sentemb_dev_idf, labels_dev)\n",
    "print(\"Accuracy on the dev set: \" + str(accuracy_dev))"
   ]
  },
  {
   "cell_type": "markdown",
   "metadata": {},
   "source": [
    "# 4) Sentence classification with LSTMs in Keras"
   ]
  },
  {
   "cell_type": "markdown",
   "metadata": {},
   "source": [
    "## 4.1 - Preprocessing"
   ]
  },
  {
   "cell_type": "code",
   "execution_count": 30,
   "metadata": {},
   "outputs": [
    {
     "name": "stderr",
     "output_type": "stream",
     "text": [
      "Using TensorFlow backend.\n"
     ]
    }
   ],
   "source": [
    "import keras"
   ]
  },
  {
   "cell_type": "code",
   "execution_count": 122,
   "metadata": {},
   "outputs": [
    {
     "name": "stdout",
     "output_type": "stream",
     "text": [
      "Loaded 8544 labeled sentences\n",
      "Loaded 1101 labeled sentences\n",
      "Loaded 2210 test sentences\n"
     ]
    }
   ],
   "source": [
    "# 1 - Load train/dev/test sets of SST\n",
    "PATH_TO_DATA = \"./data/\"\n",
    "\n",
    "# TYPE CODE HERE\n",
    "labels_train, sentences_train = load_dataset(PATH_TO_DATA + 'SST/stsa.fine.train')\n",
    "labels_dev, sentences_dev = load_dataset(PATH_TO_DATA + 'SST/stsa.fine.dev')\n",
    "sentences_test = load_test(PATH_TO_DATA + 'SST/stsa.fine.test.X')"
   ]
  },
  {
   "cell_type": "code",
   "execution_count": 123,
   "metadata": {},
   "outputs": [
    {
     "name": "stdout",
     "output_type": "stream",
     "text": [
      "16483\n",
      "18131\n"
     ]
    }
   ],
   "source": [
    "# 2 - Transform text to integers using keras.preprocessing.text.one_hot function\n",
    "#     https://keras.io/preprocessing/text/\n",
    "\n",
    "# TYPE CODE HERE\n",
    "from keras.preprocessing.text import text_to_word_sequence, one_hot\n",
    "def getTotalText(sents):\n",
    "    text = \"\"\n",
    "    for sent in sents:\n",
    "        for s in sent:\n",
    "            text += s.strip()\n",
    "            \n",
    "    return text\n",
    "\n",
    "text = getTotalText([sentences_train, sentences_dev])\n",
    "\n",
    "vocabs = text_to_word_sequence(text)\n",
    "# print(vocabs[:100])\n",
    "vocab_size = len(set(vocabs))\n",
    "print(vocab_size)\n",
    "\n",
    "extended_vocab_size = round(vocab_size * 1.1)\n",
    "print(extended_vocab_size)\n",
    "\n",
    "def oneHotEncoding(sentences, n):\n",
    "    encodeds = []\n",
    "    for sent in sentences:\n",
    "        encoded = one_hot(sent, n)\n",
    "        encodeds.append(encoded)\n",
    "        \n",
    "    return encodeds\n",
    "\n",
    "encoded_train = oneHotEncoding(sentences_train, extended_vocab_size)\n",
    "encoded_dev = oneHotEncoding(sentences_dev, extended_vocab_size)\n",
    "encoded_test = oneHotEncoding(sentences_test, extended_vocab_size)"
   ]
  },
  {
   "cell_type": "markdown",
   "metadata": {},
   "source": [
    "**Padding input data**\n",
    "\n",
    "Models in Keras (and elsewhere) take batches of sentences of the same length as input. It is because Deep Learning framework have been designed to handle well Tensors, which are particularly suited for fast computation on the GPU.\n",
    "\n",
    "Since sentences have different sizes, we \"pad\" them. That is, we add dummy \"padding\" tokens so that they all have the same length.\n",
    "\n",
    "The input to a Keras model thus has this size : (batchsize, maxseqlen) where maxseqlen is the maximum length of a sentence in the batch."
   ]
  },
  {
   "cell_type": "code",
   "execution_count": 124,
   "metadata": {},
   "outputs": [],
   "source": [
    "# 3 - Pad your sequences using keras.preprocessing.sequence.pad_sequences\n",
    "#     https://keras.io/preprocessing/sequence/\n",
    "\n",
    "# TYPE CODE HERE\n",
    "from keras.preprocessing.sequence import pad_sequences\n",
    "from keras.utils import to_categorical\n",
    "\n",
    "X_train = pad_sequences(encoded_train, padding='post', dtype='int32')\n",
    "X_dev = pad_sequences(encoded_dev, padding='post', dtype='int32')\n",
    "X_test = pad_sequences(encoded_test, padding='post', dtype='int32')\n",
    "\n",
    "y_train = to_categorical(labels_train)\n",
    "y_dev = to_categorical(labels_dev)"
   ]
  },
  {
   "cell_type": "markdown",
   "metadata": {},
   "source": [
    "## 4.2 - Design and train your model"
   ]
  },
  {
   "cell_type": "code",
   "execution_count": 163,
   "metadata": {},
   "outputs": [],
   "source": [
    "# 4 - Design your encoder + classifier using keras.layers\n",
    "#     In Keras, Torch and other deep learning framework, we create a \"container\" which is the Sequential() module.\n",
    "#     Then we add components to this contained : the lookuptable, the LSTM, the classifier etc.\n",
    "#     All of these components are contained in the Sequential() and are trained together.\n",
    "\n",
    "\n",
    "# ADAPT CODE BELOW\n",
    "from keras.models import Sequential\n",
    "from keras.layers import Embedding, LSTM, Dense, Activation, Dropout\n",
    "from keras import regularizers\n",
    "\n",
    "embed_dim  = 300  # word embedding dimension\n",
    "nhid       = 64  # number of hidden units in the LSTM\n",
    "vocab_size = extended_vocab_size  # size of the vocabulary\n",
    "n_classes  = 5\n",
    "\n",
    "model = Sequential()\n",
    "model.add(Embedding(vocab_size, embed_dim))\n",
    "model.add(LSTM(nhid, dropout=0.5, recurrent_dropout=0.5))\n",
    "model.add(Dense(n_classes, activation='softmax'))"
   ]
  },
  {
   "cell_type": "code",
   "execution_count": 164,
   "metadata": {},
   "outputs": [
    {
     "name": "stdout",
     "output_type": "stream",
     "text": [
      "_________________________________________________________________\n",
      "Layer (type)                 Output Shape              Param #   \n",
      "=================================================================\n",
      "embedding_37 (Embedding)     (None, None, 300)         5439300   \n",
      "_________________________________________________________________\n",
      "lstm_30 (LSTM)               (None, 64)                93440     \n",
      "_________________________________________________________________\n",
      "dense_51 (Dense)             (None, 5)                 325       \n",
      "=================================================================\n",
      "Total params: 5,533,065\n",
      "Trainable params: 5,533,065\n",
      "Non-trainable params: 0\n",
      "_________________________________________________________________\n",
      "None\n"
     ]
    }
   ],
   "source": [
    "# 5 - Define your loss/optimizer/metrics\n",
    "\n",
    "# MODIFY CODE BELOW\n",
    "from keras.optimizers import Adam\n",
    "\n",
    "loss_classif     =  'categorical_crossentropy' # find the right loss for multi-class classification\n",
    "optimizer        =  Adam(lr=0.01, beta_1=0.5, beta_2=0.999, epsilon=1e-8, decay=1e-6) # find the right optimizer\n",
    "metrics_classif  =  ['accuracy']\n",
    "\n",
    "# Observe how easy (but blackboxed) this is in Keras\n",
    "model.compile(loss=loss_classif,\n",
    "              optimizer=optimizer,\n",
    "              metrics=metrics_classif)\n",
    "print(model.summary())"
   ]
  },
  {
   "cell_type": "code",
   "execution_count": 165,
   "metadata": {},
   "outputs": [
    {
     "name": "stdout",
     "output_type": "stream",
     "text": [
      "Train on 8544 samples, validate on 1101 samples\n",
      "Epoch 1/20\n",
      "8544/8544 [==============================] - 51s 6ms/step - loss: 1.5758 - acc: 0.2693 - val_loss: 1.5723 - val_acc: 0.2525\n",
      "Epoch 2/20\n",
      "8544/8544 [==============================] - 45s 5ms/step - loss: 1.5715 - acc: 0.2666 - val_loss: 1.5729 - val_acc: 0.2525\n",
      "Epoch 3/20\n",
      "8544/8544 [==============================] - 45s 5ms/step - loss: 1.5687 - acc: 0.2677 - val_loss: 1.5769 - val_acc: 0.2525\n",
      "Epoch 4/20\n",
      "8544/8544 [==============================] - 45s 5ms/step - loss: 1.5693 - acc: 0.2656 - val_loss: 1.5777 - val_acc: 0.2525\n",
      "Epoch 5/20\n",
      "8544/8544 [==============================] - 45s 5ms/step - loss: 1.5698 - acc: 0.2687 - val_loss: 1.5786 - val_acc: 0.2525\n",
      "Epoch 6/20\n",
      "8544/8544 [==============================] - 46s 5ms/step - loss: 1.5696 - acc: 0.2699 - val_loss: 1.5866 - val_acc: 0.2380\n",
      "Epoch 7/20\n",
      "8544/8544 [==============================] - 46s 5ms/step - loss: 1.5707 - acc: 0.2714 - val_loss: 1.5870 - val_acc: 0.2525\n",
      "Epoch 8/20\n",
      "8544/8544 [==============================] - 45s 5ms/step - loss: 1.5608 - acc: 0.2678 - val_loss: 1.5819 - val_acc: 0.2579\n",
      "Epoch 9/20\n",
      "8544/8544 [==============================] - 46s 5ms/step - loss: 1.5475 - acc: 0.2793 - val_loss: 1.5839 - val_acc: 0.2625\n",
      "Epoch 10/20\n",
      "8544/8544 [==============================] - 46s 5ms/step - loss: 1.5226 - acc: 0.3125 - val_loss: 1.5993 - val_acc: 0.2661\n",
      "Epoch 11/20\n",
      "8544/8544 [==============================] - 46s 5ms/step - loss: 1.4987 - acc: 0.3310 - val_loss: 1.6157 - val_acc: 0.2570\n",
      "Epoch 12/20\n",
      "8544/8544 [==============================] - 46s 5ms/step - loss: 1.4787 - acc: 0.3546 - val_loss: 1.6154 - val_acc: 0.2670\n",
      "Epoch 13/20\n",
      "8544/8544 [==============================] - 6958s 814ms/step - loss: 1.4533 - acc: 0.3722 - val_loss: 1.6454 - val_acc: 0.2461\n",
      "Epoch 14/20\n",
      "8544/8544 [==============================] - 66s 8ms/step - loss: 1.4410 - acc: 0.3791 - val_loss: 1.6375 - val_acc: 0.2598\n",
      "Epoch 15/20\n",
      "8544/8544 [==============================] - 50s 6ms/step - loss: 1.4211 - acc: 0.3955 - val_loss: 1.6617 - val_acc: 0.2634\n",
      "Epoch 16/20\n",
      "8544/8544 [==============================] - 46s 5ms/step - loss: 1.4023 - acc: 0.4045 - val_loss: 1.6765 - val_acc: 0.2679\n",
      "Epoch 17/20\n",
      "8544/8544 [==============================] - 46s 5ms/step - loss: 1.3910 - acc: 0.4135 - val_loss: 1.6849 - val_acc: 0.2480\n",
      "Epoch 18/20\n",
      "8544/8544 [==============================] - 47s 5ms/step - loss: 1.3745 - acc: 0.4211 - val_loss: 1.6931 - val_acc: 0.2743\n",
      "Epoch 19/20\n",
      "8544/8544 [==============================] - 46s 5ms/step - loss: 1.3681 - acc: 0.4288 - val_loss: 1.7022 - val_acc: 0.2616\n",
      "Epoch 20/20\n",
      "8544/8544 [==============================] - 46s 5ms/step - loss: 1.3542 - acc: 0.4422 - val_loss: 1.7076 - val_acc: 0.2661\n"
     ]
    }
   ],
   "source": [
    "# 6 - Train your model and find the best hyperparameters for your dev set\n",
    "#     you will be evaluated on the quality of your predictions on the test set\n",
    "\n",
    "# ADAPT CODE BELOW\n",
    "bs = 32\n",
    "n_epochs = 20\n",
    "\n",
    "history = model.fit(X_train, y_train, batch_size=bs, epochs=n_epochs, validation_data=(X_dev, y_dev))"
   ]
  },
  {
   "cell_type": "code",
   "execution_count": 78,
   "metadata": {},
   "outputs": [],
   "source": [
    "# 7 - Generate your predictions on the test set using model.predict(x_test)\n",
    "#     https://keras.io/models/model/\n",
    "#     Log your predictions in a file (one line = one integer: 0,1,2,3,4)\n",
    "#     Attach the output file \"logreg_lstm_y_test_sst.txt\" to your deliverable.\n",
    "\n",
    "# TYPE CODE HERE\n",
    "y_pred_prob = model.predict(X_test)\n",
    "y_pred = np.argmax(y_pred_prob, axis=1)\n",
    "pd.DataFrame(y_pred).to_csv('logreg_lstm_y_test_sst.txt', header=False, index=False)"
   ]
  },
  {
   "cell_type": "code",
   "execution_count": 80,
   "metadata": {},
   "outputs": [
    {
     "name": "stdout",
     "output_type": "stream",
     "text": [
      "dict_keys(['val_acc', 'loss', 'val_loss', 'acc'])\n"
     ]
    },
    {
     "data": {
      "image/png": "[encoded data removed]",
      "text/plain": [
       "<matplotlib.figure.Figure at 0x189e83b70>"
      ]
     },
     "metadata": {},
     "output_type": "display_data"
    },
    {
     "data": {
      "image/png": "[encoded data removed]",
      "text/plain": [
       "<matplotlib.figure.Figure at 0x17161a898>"
      ]
     },
     "metadata": {},
     "output_type": "display_data"
    }
   ],
   "source": [
    "import matplotlib.pyplot as plt\n",
    "# list all data in history\n",
    "print(history.history.keys())\n",
    "# summarize history for accuracy\n",
    "plt.figure()\n",
    "plt.plot(history.history['acc'])\n",
    "plt.plot(history.history['val_acc'])\n",
    "plt.title('model accuracy')\n",
    "plt.ylabel('accuracy')\n",
    "plt.xlabel('epoch')\n",
    "plt.legend(['train', 'dev'], loc='upper left')\n",
    "plt.show()\n",
    "# summarize history for loss\n",
    "plt.figure()\n",
    "plt.plot(history.history['loss'])\n",
    "plt.plot(history.history['val_loss'])\n",
    "plt.title('model loss')\n",
    "plt.ylabel('loss')\n",
    "plt.xlabel('epoch')\n",
    "plt.legend(['train', 'dev'], loc='upper left')\n",
    "plt.show()"
   ]
  },
  {
   "cell_type": "markdown",
   "metadata": {},
   "source": [
    "## 4.3 -- innovate !"
   ]
  },
  {
   "cell_type": "code",
   "execution_count": 138,
   "metadata": {},
   "outputs": [
    {
     "name": "stdout",
     "output_type": "stream",
     "text": [
      "Loaded 200000 pretrained word vectors\n",
      "_________________________________________________________________\n",
      "Layer (type)                 Output Shape              Param #   \n",
      "=================================================================\n",
      "embedding_29 (Embedding)     (None, None, 300)         5439300   \n",
      "_________________________________________________________________\n",
      "dropout_23 (Dropout)         (None, None, 300)         0         \n",
      "_________________________________________________________________\n",
      "conv1d_28 (Conv1D)           (None, None, 64)          57664     \n",
      "_________________________________________________________________\n",
      "global_max_pooling1d_15 (Glo (None, 64)                0         \n",
      "_________________________________________________________________\n",
      "dropout_24 (Dropout)         (None, 64)                0         \n",
      "_________________________________________________________________\n",
      "dense_43 (Dense)             (None, 5)                 325       \n",
      "=================================================================\n",
      "Total params: 5,497,289\n",
      "Trainable params: 5,497,289\n",
      "Non-trainable params: 0\n",
      "_________________________________________________________________\n",
      "None\n"
     ]
    }
   ],
   "source": [
    "# 8 - Open question: find a model that is better on your dev set\n",
    "#     (e.g: use a 1D ConvNet, use a better classifier, pretrain your lookup tables ..)\n",
    "#     you will get point if the results on the test set are better: be careful of not overfitting your dev set too much..\n",
    "#     Attach the output file \"XXX_XXX_y_test_sst.txt\" to your deliverable.\n",
    "\n",
    "# TYPE CODE HERE\n",
    "from keras.layers import Conv1D, MaxPooling1D, Flatten, Dropout, GlobalMaxPooling1D\n",
    "\n",
    "# get pretrained embedding weights\n",
    "w2v = Word2vec(os.path.join(PATH_TO_DATA, 'crawl-300d-200k.vec'), nmax=200000)\n",
    "word_embed_dim = 300\n",
    "dist_vocabs = set(vocabs)\n",
    "embeddings = np.zeros((extended_vocab_size, word_embed_dim))\n",
    "unseen = 0\n",
    "for i, c in enumerate(dist_vocabs):\n",
    "    encode = one_hot(c, extended_vocab_size)\n",
    "    if c in w2v.word2vec.keys():\n",
    "        embeddings[encode] = w2v.word2vec[c]\n",
    "\n",
    "model = Sequential()\n",
    "model.add(Embedding(input_dim=embeddings.shape[0], \n",
    "                      output_dim=word_embed_dim,\n",
    "                      weights=[embeddings], # we pass our pre-trained embeddings\n",
    "                      trainable=True))\n",
    "model.add(Dropout(0.3))\n",
    "model.add(Conv1D(filters=64, kernel_size=3, kernel_regularizer=regularizers.l2(0.01), padding='same', activation='relu'))\n",
    "model.add(GlobalMaxPooling1D())\n",
    "model.add(Dropout(0.3))\n",
    "model.add(Dense(n_classes, activation='softmax'))\n",
    "\n",
    "optimizer = Adam(lr=0.001, beta_1=0.9, beta_2=0.999, epsilon=1e-8, decay=1e-6)\n",
    "\n",
    "model.compile(loss=loss_classif,\n",
    "              optimizer=optimizer,\n",
    "              metrics=metrics_classif)\n",
    "print(model.summary())"
   ]
  },
  {
   "cell_type": "code",
   "execution_count": 139,
   "metadata": {},
   "outputs": [
    {
     "name": "stdout",
     "output_type": "stream",
     "text": [
      "Train on 8544 samples, validate on 1101 samples\n",
      "Epoch 1/5\n",
      "8544/8544 [==============================] - 23s 3ms/step - loss: 2.2488 - acc: 0.2844 - val_loss: 1.8660 - val_acc: 0.3606\n",
      "Epoch 2/5\n",
      "8544/8544 [==============================] - 19s 2ms/step - loss: 1.7089 - acc: 0.3826 - val_loss: 1.5958 - val_acc: 0.3878\n",
      "Epoch 3/5\n",
      "8544/8544 [==============================] - 19s 2ms/step - loss: 1.5065 - acc: 0.4325 - val_loss: 1.4900 - val_acc: 0.3987\n",
      "Epoch 4/5\n",
      "8544/8544 [==============================] - 19s 2ms/step - loss: 1.4023 - acc: 0.4652 - val_loss: 1.4625 - val_acc: 0.4114\n",
      "Epoch 5/5\n",
      "8544/8544 [==============================] - 19s 2ms/step - loss: 1.3212 - acc: 0.5119 - val_loss: 1.4542 - val_acc: 0.4142\n"
     ]
    }
   ],
   "source": [
    "bs = 64\n",
    "n_epochs = 5\n",
    "\n",
    "history = model.fit(X_train, y_train, batch_size=bs, epochs=n_epochs, validation_data=(X_dev, y_dev))"
   ]
  },
  {
   "cell_type": "code",
   "execution_count": 140,
   "metadata": {},
   "outputs": [],
   "source": [
    "y_pred_prob = model.predict(X_test)\n",
    "y_pred = np.argmax(y_pred_prob, axis=1)\n",
    "pd.DataFrame(y_pred).to_csv('pretrained_conv1d_y_test_sst.txt', header=False, index=False)"
   ]
  }
 ],
 "metadata": {
  "kernelspec": {
   "display_name": "Python 3",
   "language": "python",
   "name": "python3"
  },
  "language_info": {
   "codemirror_mode": {
    "name": "ipython",
    "version": 3
   },
   "file_extension": ".py",
   "mimetype": "text/x-python",
   "name": "python",
   "nbconvert_exporter": "python",
   "pygments_lexer": "ipython3",
   "version": "3.5.0"
  }
 },
 "nbformat": 4,
 "nbformat_minor": 1
}
