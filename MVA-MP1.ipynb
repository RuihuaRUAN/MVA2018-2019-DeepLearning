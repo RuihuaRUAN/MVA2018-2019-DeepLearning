{
 "cells": [
  {
   "cell_type": "markdown",
   "metadata": {},
   "source": [
    "# MVA2018/2019 - Deep Learning - Mini-project1"
   ]
  },
  {
   "cell_type": "markdown",
   "metadata": {},
   "source": [
    "#### Author: ZHANG Cheng\n",
    "#### Email: cheng.zhang@polytechnique.edu"
   ]
  },
  {
   "cell_type": "markdown",
   "metadata": {},
   "source": [
    "## Getting started\n",
    "We first define useful functions for generating training and testing data."
   ]
  },
  {
   "cell_type": "code",
   "execution_count": 1,
   "metadata": {},
   "outputs": [
    {
     "data": {
      "image/png": "[encoded data removed]",
      "text/plain": [
       "<matplotlib.figure.Figure at 0x10578b240>"
      ]
     },
     "metadata": {},
     "output_type": "display_data"
    }
   ],
   "source": [
    "import matplotlib.pyplot as plt\n",
    "%matplotlib inline\n",
    "import numpy as np\n",
    "\n",
    "# On some implementations of matplotlib, you may need to change this value\n",
    "IMAGE_SIZE = 72\n",
    "\n",
    "def generate_a_drawing(figsize, U, V, noise=0.0):\n",
    "    fig = plt.figure(figsize=(figsize,figsize))\n",
    "    ax = plt.subplot(111)\n",
    "    plt.axis('Off')\n",
    "    ax.set_xlim(0,figsize)\n",
    "    ax.set_ylim(0,figsize)\n",
    "    ax.fill(U, V, \"k\")\n",
    "    fig.canvas.draw()\n",
    "    imdata = np.frombuffer(fig.canvas.tostring_rgb(), dtype=np.uint8)[::3].astype(np.float32)\n",
    "    imdata = imdata + noise * np.random.random(imdata.size)\n",
    "    plt.close(fig)\n",
    "    return imdata\n",
    "\n",
    "def generate_a_rectangle(noise=0.0, free_location=False):\n",
    "    figsize = 1.0    \n",
    "    U = np.zeros(4)\n",
    "    V = np.zeros(4)\n",
    "    if free_location:\n",
    "        corners = np.random.random(4)\n",
    "        top = max(corners[0], corners[1])\n",
    "        bottom = min(corners[0], corners[1])\n",
    "        left = min(corners[2], corners[3])\n",
    "        right = max(corners[2], corners[3])\n",
    "    else:\n",
    "        side = (0.3 + 0.7 * np.random.random()) * figsize\n",
    "        top = figsize/2 + side/2\n",
    "        bottom = figsize/2 - side/2\n",
    "        left = bottom\n",
    "        right = top\n",
    "    U[0] = U[1] = top\n",
    "    U[2] = U[3] = bottom\n",
    "    V[0] = V[3] = left\n",
    "    V[1] = V[2] = right\n",
    "    return generate_a_drawing(figsize, U, V, noise)\n",
    "\n",
    "\n",
    "def generate_a_disk(noise=0.0, free_location=False):\n",
    "    figsize = 1.0\n",
    "    if free_location:\n",
    "        center = np.random.random(2)\n",
    "    else:\n",
    "        center = (figsize/2, figsize/2)\n",
    "    radius = (0.3 + 0.7 * np.random.random()) * figsize/2\n",
    "    N = 50\n",
    "    U = np.zeros(N)\n",
    "    V = np.zeros(N)\n",
    "    i = 0\n",
    "    for t in np.linspace(0, 2*np.pi, N):\n",
    "        U[i] = center[0] + np.cos(t) * radius\n",
    "        V[i] = center[1] + np.sin(t) * radius\n",
    "        i = i + 1\n",
    "    return generate_a_drawing(figsize, U, V, noise)\n",
    "\n",
    "def generate_a_triangle(noise=0.0, free_location=False):\n",
    "    figsize = 1.0\n",
    "    if free_location:\n",
    "        U = np.random.random(3)\n",
    "        V = np.random.random(3)\n",
    "    else:\n",
    "        size = (0.3 + 0.7 * np.random.random())*figsize/2\n",
    "        middle = figsize/2\n",
    "        U = (middle, middle+size, middle-size)\n",
    "        V = (middle+size, middle-size, middle-size)\n",
    "    imdata = generate_a_drawing(figsize, U, V, noise)\n",
    "    return [imdata, [U[0], V[0], U[1], V[1], U[2], V[2]]]\n",
    "\n",
    "\n",
    "im = generate_a_rectangle(10, True)\n",
    "plt.imshow(im.reshape(IMAGE_SIZE,IMAGE_SIZE), cmap='gray')\n",
    "\n",
    "im = generate_a_disk(10)\n",
    "plt.imshow(im.reshape(IMAGE_SIZE,IMAGE_SIZE), cmap='gray')\n",
    "\n",
    "[im, v] = generate_a_triangle(20, False)\n",
    "plt.imshow(im.reshape(IMAGE_SIZE,IMAGE_SIZE), cmap='gray')\n",
    "\n",
    "\n",
    "def generate_dataset_classification(nb_samples, noise=0.0, free_location=False):\n",
    "    # Getting im_size:\n",
    "    im_size = generate_a_rectangle().shape[0]\n",
    "    X = np.zeros([nb_samples,im_size])\n",
    "    Y = np.zeros(nb_samples)\n",
    "    print('Creating data:')\n",
    "    for i in range(nb_samples):\n",
    "        if i % 10 == 0:\n",
    "            print(i)\n",
    "        category = np.random.randint(3)\n",
    "        if category == 0:\n",
    "            X[i] = generate_a_rectangle(noise, free_location)\n",
    "        elif category == 1: \n",
    "            X[i] = generate_a_disk(noise, free_location)\n",
    "        else:\n",
    "            [X[i], V] = generate_a_triangle(noise, free_location)\n",
    "        Y[i] = category\n",
    "    X = (X + noise) / (255 + 2 * noise)\n",
    "    return [X, Y]\n",
    "\n",
    "def generate_test_set_classification():\n",
    "    np.random.seed(42)\n",
    "    [X_test, Y_test] = generate_dataset_classification(300, 20, True)\n",
    "    Y_test = np_utils.to_categorical(Y_test, 3) \n",
    "    return [X_test, Y_test]\n",
    "\n",
    "def generate_dataset_regression(nb_samples, noise=0.0):\n",
    "    # Getting im_size:\n",
    "    im_size = generate_a_triangle()[0].shape[0]\n",
    "    X = np.zeros([nb_samples,im_size])\n",
    "    Y = np.zeros([nb_samples, 6])\n",
    "    print('Creating data:')\n",
    "    for i in range(nb_samples):\n",
    "        if i % 10 == 0:\n",
    "            print(i)\n",
    "        [X[i], Y[i]] = generate_a_triangle(noise, True)\n",
    "    X = (X + noise) / (255 + 2 * noise)\n",
    "    return [X, Y]\n",
    "\n",
    "import matplotlib.patches as patches\n",
    "\n",
    "def visualize_prediction(x, y):\n",
    "    fig, ax = plt.subplots(figsize=(5, 5))\n",
    "    I = x.reshape((IMAGE_SIZE,IMAGE_SIZE))\n",
    "    ax.imshow(I, extent=[-0.15,1.15,-0.15,1.15],cmap='gray')\n",
    "    ax.set_xlim([0,1])\n",
    "    ax.set_ylim([0,1])\n",
    "\n",
    "    xy = y.reshape(3,2)\n",
    "    tri = patches.Polygon(xy, closed=True, fill = False, edgecolor = 'r', linewidth = 5, alpha = 0.5)\n",
    "    ax.add_patch(tri)\n",
    "\n",
    "    plt.show()\n",
    "\n",
    "def generate_test_set_regression():\n",
    "    np.random.seed(42)\n",
    "    [X_test, Y_test] = generate_dataset_regression(300, 20)\n",
    "    return [X_test, Y_test]"
   ]
  },
  {
   "cell_type": "markdown",
   "metadata": {},
   "source": [
    "## Simple Classification"
   ]
  },
  {
   "cell_type": "code",
   "execution_count": 2,
   "metadata": {},
   "outputs": [
    {
     "name": "stdout",
     "output_type": "stream",
     "text": [
      "Creating data:\n",
      "0\n",
      "10\n",
      "20\n",
      "30\n",
      "40\n",
      "50\n",
      "60\n",
      "70\n",
      "80\n",
      "90\n",
      "100\n",
      "110\n",
      "120\n",
      "130\n",
      "140\n",
      "150\n",
      "160\n",
      "170\n",
      "180\n",
      "190\n",
      "200\n",
      "210\n",
      "220\n",
      "230\n",
      "240\n",
      "250\n",
      "260\n",
      "270\n",
      "280\n",
      "290\n"
     ]
    }
   ],
   "source": [
    "# generate fixed location training dataset of 300 samples\n",
    "[X_train, Y_train] = generate_dataset_classification(300, 20)"
   ]
  },
  {
   "cell_type": "markdown",
   "metadata": {},
   "source": [
    "Define a linear classifier (a simple neural network with only input and output layers), use 'softmax' for output layer, use SGD optimizer with a learning rate 0.001.\n",
    "\n",
    "Train over 20 epochs with batch size of 32."
   ]
  },
  {
   "cell_type": "code",
   "execution_count": 3,
   "metadata": {},
   "outputs": [
    {
     "name": "stderr",
     "output_type": "stream",
     "text": [
      "Using TensorFlow backend.\n"
     ]
    },
    {
     "name": "stdout",
     "output_type": "stream",
     "text": [
      "Epoch 1/20\n",
      "300/300 [==============================] - 0s 552us/step - loss: 1.0805 - acc: 0.4433\n",
      "Epoch 2/20\n",
      "300/300 [==============================] - 0s 136us/step - loss: 0.9534 - acc: 0.5600\n",
      "Epoch 3/20\n",
      "300/300 [==============================] - 0s 163us/step - loss: 0.8434 - acc: 0.6533\n",
      "Epoch 4/20\n",
      "300/300 [==============================] - 0s 160us/step - loss: 0.8112 - acc: 0.7100\n",
      "Epoch 5/20\n",
      "300/300 [==============================] - 0s 152us/step - loss: 0.7541 - acc: 0.6900\n",
      "Epoch 6/20\n",
      "300/300 [==============================] - 0s 133us/step - loss: 0.7124 - acc: 0.7200\n",
      "Epoch 7/20\n",
      "300/300 [==============================] - 0s 130us/step - loss: 0.6875 - acc: 0.7433\n",
      "Epoch 8/20\n",
      "300/300 [==============================] - 0s 138us/step - loss: 0.6676 - acc: 0.7267\n",
      "Epoch 9/20\n",
      "300/300 [==============================] - 0s 153us/step - loss: 0.6306 - acc: 0.7700\n",
      "Epoch 10/20\n",
      "300/300 [==============================] - 0s 156us/step - loss: 0.6068 - acc: 0.7567\n",
      "Epoch 11/20\n",
      "300/300 [==============================] - 0s 131us/step - loss: 0.6005 - acc: 0.7800\n",
      "Epoch 12/20\n",
      "300/300 [==============================] - 0s 146us/step - loss: 0.5718 - acc: 0.8100\n",
      "Epoch 13/20\n",
      "300/300 [==============================] - 0s 132us/step - loss: 0.5642 - acc: 0.7933\n",
      "Epoch 14/20\n",
      "300/300 [==============================] - 0s 140us/step - loss: 0.5448 - acc: 0.8167\n",
      "Epoch 15/20\n",
      "300/300 [==============================] - 0s 151us/step - loss: 0.5443 - acc: 0.8133\n",
      "Epoch 16/20\n",
      "300/300 [==============================] - 0s 120us/step - loss: 0.5265 - acc: 0.7900\n",
      "Epoch 17/20\n",
      "300/300 [==============================] - 0s 118us/step - loss: 0.4980 - acc: 0.8567\n",
      "Epoch 18/20\n",
      "300/300 [==============================] - 0s 115us/step - loss: 0.4966 - acc: 0.8467\n",
      "Epoch 19/20\n",
      "300/300 [==============================] - 0s 120us/step - loss: 0.4793 - acc: 0.8300\n",
      "Epoch 20/20\n",
      "300/300 [==============================] - 0s 155us/step - loss: 0.4706 - acc: 0.8733\n"
     ]
    },
    {
     "data": {
      "text/plain": [
       "<keras.callbacks.History at 0x11a4cacc0>"
      ]
     },
     "execution_count": 3,
     "metadata": {},
     "output_type": "execute_result"
    }
   ],
   "source": [
    "from keras.models import Sequential\n",
    "from keras.layers import Dense, Activation\n",
    "from keras.optimizers import SGD, Adam\n",
    "from keras import utils as np_utils\n",
    "\n",
    "model = Sequential()\n",
    "model.add(Dense(3, input_dim = IMAGE_SIZE**2))\n",
    "model.add(Activation('softmax'))\n",
    "\n",
    "sgd = SGD(lr=0.001, momentum=0.0, decay=0.0, nesterov=False)\n",
    "\n",
    "model.compile(optimizer=sgd,\n",
    "              loss='categorical_crossentropy',\n",
    "              metrics=['accuracy'])\n",
    "\n",
    "model.fit(X_train, np_utils.to_categorical(Y_train, 3), epochs = 20, batch_size = 32)"
   ]
  },
  {
   "cell_type": "markdown",
   "metadata": {},
   "source": [
    "We see that the final accuracy is around 87% (This accuracy may change with each training, it is around 80% in general). Then we try some samples to see the predictions."
   ]
  },
  {
   "cell_type": "code",
   "execution_count": 5,
   "metadata": {},
   "outputs": [
    {
     "data": {
      "text/plain": [
       "array([[0., 1., 0.]], dtype=float32)"
      ]
     },
     "execution_count": 5,
     "metadata": {},
     "output_type": "execute_result"
    }
   ],
   "source": [
    "# generate a disk\n",
    "X_test = generate_a_disk()\n",
    "X_test = X_test.reshape(1, X_test.shape[0])\n",
    "model.predict(X_test)"
   ]
  },
  {
   "cell_type": "code",
   "execution_count": 6,
   "metadata": {},
   "outputs": [
    {
     "data": {
      "text/plain": [
       "array([[0., 0., 1.]], dtype=float32)"
      ]
     },
     "execution_count": 6,
     "metadata": {},
     "output_type": "execute_result"
    }
   ],
   "source": [
    "# generate a triangle\n",
    "X_test, _ = generate_a_triangle()\n",
    "X_test = X_test.reshape(1, X_test.shape[0])\n",
    "model.predict(X_test)"
   ]
  },
  {
   "cell_type": "code",
   "execution_count": 7,
   "metadata": {},
   "outputs": [
    {
     "data": {
      "text/plain": [
       "array([[1.0000000e+00, 2.2006785e-21, 0.0000000e+00]], dtype=float32)"
      ]
     },
     "execution_count": 7,
     "metadata": {},
     "output_type": "execute_result"
    }
   ],
   "source": [
    "# generate a rectangle\n",
    "X_test = generate_a_rectangle()\n",
    "X_test = X_test.reshape(1, X_test.shape[0])\n",
    "model.predict(X_test)"
   ]
  },
  {
   "cell_type": "markdown",
   "metadata": {},
   "source": [
    "We can see that the model can predict well different shapes.\n",
    "\n",
    "Now we try to use Adam optimizer with the same learning rate 0.001. We still train 20 epochs with batch size of 32."
   ]
  },
  {
   "cell_type": "code",
   "execution_count": 8,
   "metadata": {},
   "outputs": [
    {
     "name": "stdout",
     "output_type": "stream",
     "text": [
      "Epoch 1/20\n",
      "300/300 [==============================] - 0s 458us/step - loss: 2.0445 - acc: 0.3933\n",
      "Epoch 2/20\n",
      "300/300 [==============================] - 0s 157us/step - loss: 0.9635 - acc: 0.5800\n",
      "Epoch 3/20\n",
      "300/300 [==============================] - 0s 144us/step - loss: 0.5612 - acc: 0.7400\n",
      "Epoch 4/20\n",
      "300/300 [==============================] - 0s 189us/step - loss: 0.3976 - acc: 0.8400\n",
      "Epoch 5/20\n",
      "300/300 [==============================] - 0s 146us/step - loss: 0.3264 - acc: 0.9067\n",
      "Epoch 6/20\n",
      "300/300 [==============================] - 0s 142us/step - loss: 0.2850 - acc: 0.9000\n",
      "Epoch 7/20\n",
      "300/300 [==============================] - 0s 127us/step - loss: 0.2521 - acc: 0.9500\n",
      "Epoch 8/20\n",
      "300/300 [==============================] - 0s 115us/step - loss: 0.2280 - acc: 0.9800\n",
      "Epoch 9/20\n",
      "300/300 [==============================] - 0s 131us/step - loss: 0.2032 - acc: 0.9933\n",
      "Epoch 10/20\n",
      "300/300 [==============================] - 0s 120us/step - loss: 0.2049 - acc: 0.9600\n",
      "Epoch 11/20\n",
      "300/300 [==============================] - 0s 160us/step - loss: 0.2005 - acc: 0.9267\n",
      "Epoch 12/20\n",
      "300/300 [==============================] - 0s 137us/step - loss: 0.1754 - acc: 0.9567\n",
      "Epoch 13/20\n",
      "300/300 [==============================] - 0s 141us/step - loss: 0.1659 - acc: 0.9700\n",
      "Epoch 14/20\n",
      "300/300 [==============================] - 0s 138us/step - loss: 0.2003 - acc: 0.9067\n",
      "Epoch 15/20\n",
      "300/300 [==============================] - 0s 143us/step - loss: 0.1429 - acc: 0.9867\n",
      "Epoch 16/20\n",
      "300/300 [==============================] - 0s 137us/step - loss: 0.1098 - acc: 1.0000\n",
      "Epoch 17/20\n",
      "300/300 [==============================] - 0s 136us/step - loss: 0.1025 - acc: 0.9967\n",
      "Epoch 18/20\n",
      "300/300 [==============================] - 0s 129us/step - loss: 0.0952 - acc: 1.0000\n",
      "Epoch 19/20\n",
      "300/300 [==============================] - 0s 137us/step - loss: 0.1024 - acc: 0.9967\n",
      "Epoch 20/20\n",
      "300/300 [==============================] - 0s 132us/step - loss: 0.0858 - acc: 1.0000\n"
     ]
    },
    {
     "data": {
      "text/plain": [
       "<keras.callbacks.History at 0x11af49e80>"
      ]
     },
     "execution_count": 8,
     "metadata": {},
     "output_type": "execute_result"
    }
   ],
   "source": [
    "model = Sequential()\n",
    "model.add(Dense(3, input_dim = IMAGE_SIZE**2))\n",
    "model.add(Activation('softmax'))\n",
    "\n",
    "adam = Adam(lr=0.001, beta_1=0.9, beta_2=0.999, epsilon=1e-8, decay=1e-6, amsgrad=False)\n",
    "\n",
    "model.compile(optimizer=adam,\n",
    "              loss='categorical_crossentropy',\n",
    "              metrics=['accuracy'])\n",
    "\n",
    "model.fit(X_train, np_utils.to_categorical(Y_train, 3), epochs = 20, batch_size = 32)"
   ]
  },
  {
   "cell_type": "markdown",
   "metadata": {},
   "source": [
    "We see that Adam optimizer gives a better performance than SGD optimizer. We get an accuracy around 99% on the training set (As before, this accuracy may change, but it is better than 95% in general).\n",
    "\n",
    "Now we generate some samples to test this model."
   ]
  },
  {
   "cell_type": "code",
   "execution_count": 9,
   "metadata": {},
   "outputs": [
    {
     "data": {
      "text/plain": [
       "array([[0., 1., 0.]], dtype=float32)"
      ]
     },
     "execution_count": 9,
     "metadata": {},
     "output_type": "execute_result"
    }
   ],
   "source": [
    "# generate a disk\n",
    "X_test = generate_a_disk()\n",
    "X_test = X_test.reshape(1, X_test.shape[0])\n",
    "model.predict(X_test)"
   ]
  },
  {
   "cell_type": "code",
   "execution_count": 10,
   "metadata": {},
   "outputs": [
    {
     "data": {
      "text/plain": [
       "array([[0., 0., 1.]], dtype=float32)"
      ]
     },
     "execution_count": 10,
     "metadata": {},
     "output_type": "execute_result"
    }
   ],
   "source": [
    "# generate a triangle\n",
    "X_test, _ = generate_a_triangle()\n",
    "X_test = X_test.reshape(1, X_test.shape[0])\n",
    "model.predict(X_test)"
   ]
  },
  {
   "cell_type": "code",
   "execution_count": 11,
   "metadata": {},
   "outputs": [
    {
     "data": {
      "text/plain": [
       "array([[1., 0., 0.]], dtype=float32)"
      ]
     },
     "execution_count": 11,
     "metadata": {},
     "output_type": "execute_result"
    }
   ],
   "source": [
    "# generate a rectangle\n",
    "X_test = generate_a_rectangle()\n",
    "X_test = X_test.reshape(1, X_test.shape[0])\n",
    "model.predict(X_test)"
   ]
  },
  {
   "cell_type": "markdown",
   "metadata": {},
   "source": [
    "We see that this model with Adam optimizer can correctly predict different shapes as well."
   ]
  },
  {
   "cell_type": "markdown",
   "metadata": {},
   "source": [
    "## Visualization of the Solution\n",
    "We visualize the weight matrix for three shapes."
   ]
  },
  {
   "cell_type": "code",
   "execution_count": 12,
   "metadata": {},
   "outputs": [
    {
     "data": {
      "image/png": "[encoded data removed]",
      "text/plain": [
       "<matplotlib.figure.Figure at 0x11bbc4dd8>"
      ]
     },
     "metadata": {},
     "output_type": "display_data"
    }
   ],
   "source": [
    "weights = model.get_weights()\n",
    "fig = plt.figure(figsize=(12, 7))\n",
    "for i in range(weights[0].shape[1]):\n",
    "    plt.subplot('13' + str(i+1))\n",
    "    plt.imshow(weights[0][:, i].reshape(IMAGE_SIZE,IMAGE_SIZE), cmap='gray')"
   ]
  },
  {
   "cell_type": "markdown",
   "metadata": {},
   "source": [
    "By visualizing the three columns of weights, we can see that the weights correspond to the shape of rectangle, disk and triangle."
   ]
  },
  {
   "cell_type": "markdown",
   "metadata": {},
   "source": [
    "## A More Difficult Classification Problem\n",
    "\n",
    "In this part we change the locations. We firstly regenerate a training dataset with free locations."
   ]
  },
  {
   "cell_type": "code",
   "execution_count": 13,
   "metadata": {},
   "outputs": [
    {
     "name": "stdout",
     "output_type": "stream",
     "text": [
      "Creating data:\n",
      "0\n",
      "10\n",
      "20\n",
      "30\n",
      "40\n",
      "50\n",
      "60\n",
      "70\n",
      "80\n",
      "90\n",
      "100\n",
      "110\n",
      "120\n",
      "130\n",
      "140\n",
      "150\n",
      "160\n",
      "170\n",
      "180\n",
      "190\n",
      "200\n",
      "210\n",
      "220\n",
      "230\n",
      "240\n",
      "250\n",
      "260\n",
      "270\n",
      "280\n",
      "290\n"
     ]
    }
   ],
   "source": [
    "[X_train, Y_train] = generate_dataset_classification(300, 20, True)"
   ]
  },
  {
   "cell_type": "markdown",
   "metadata": {},
   "source": [
    "We use the same Adam optimizer model as before, thus we do not need to redefine the model however just need to compile and fit the model."
   ]
  },
  {
   "cell_type": "code",
   "execution_count": 14,
   "metadata": {},
   "outputs": [
    {
     "name": "stdout",
     "output_type": "stream",
     "text": [
      "Epoch 1/20\n",
      "300/300 [==============================] - 0s 533us/step - loss: 5.5217 - acc: 0.3267\n",
      "Epoch 2/20\n",
      "300/300 [==============================] - 0s 130us/step - loss: 3.7384 - acc: 0.3367\n",
      "Epoch 3/20\n",
      "300/300 [==============================] - 0s 169us/step - loss: 2.5954 - acc: 0.3533\n",
      "Epoch 4/20\n",
      "300/300 [==============================] - 0s 177us/step - loss: 1.9125 - acc: 0.3867\n",
      "Epoch 5/20\n",
      "300/300 [==============================] - 0s 121us/step - loss: 1.4639 - acc: 0.4600\n",
      "Epoch 6/20\n",
      "300/300 [==============================] - 0s 133us/step - loss: 1.7365 - acc: 0.4133\n",
      "Epoch 7/20\n",
      "300/300 [==============================] - 0s 139us/step - loss: 1.3664 - acc: 0.4433\n",
      "Epoch 8/20\n",
      "300/300 [==============================] - 0s 121us/step - loss: 1.3318 - acc: 0.4667\n",
      "Epoch 9/20\n",
      "300/300 [==============================] - 0s 129us/step - loss: 1.1162 - acc: 0.5133\n",
      "Epoch 10/20\n",
      "300/300 [==============================] - 0s 122us/step - loss: 0.9690 - acc: 0.6033\n",
      "Epoch 11/20\n",
      "300/300 [==============================] - 0s 122us/step - loss: 0.9103 - acc: 0.5867\n",
      "Epoch 12/20\n",
      "300/300 [==============================] - 0s 124us/step - loss: 0.8808 - acc: 0.5800\n",
      "Epoch 13/20\n",
      "300/300 [==============================] - 0s 118us/step - loss: 0.8792 - acc: 0.5967\n",
      "Epoch 14/20\n",
      "300/300 [==============================] - 0s 121us/step - loss: 0.8636 - acc: 0.5800\n",
      "Epoch 15/20\n",
      "300/300 [==============================] - 0s 135us/step - loss: 0.9062 - acc: 0.5967\n",
      "Epoch 16/20\n",
      "300/300 [==============================] - 0s 117us/step - loss: 0.8748 - acc: 0.5833\n",
      "Epoch 17/20\n",
      "300/300 [==============================] - 0s 126us/step - loss: 0.8935 - acc: 0.5967\n",
      "Epoch 18/20\n",
      "300/300 [==============================] - 0s 141us/step - loss: 0.8867 - acc: 0.5933\n",
      "Epoch 19/20\n",
      "300/300 [==============================] - 0s 132us/step - loss: 0.8634 - acc: 0.5867\n",
      "Epoch 20/20\n",
      "300/300 [==============================] - 0s 117us/step - loss: 0.8698 - acc: 0.6133\n"
     ]
    },
    {
     "data": {
      "text/plain": [
       "<keras.callbacks.History at 0x1327caef0>"
      ]
     },
     "execution_count": 14,
     "metadata": {},
     "output_type": "execute_result"
    }
   ],
   "source": [
    "model.compile(optimizer=adam,\n",
    "              loss='categorical_crossentropy',\n",
    "              metrics=['accuracy'])\n",
    "\n",
    "model.fit(X_train, np_utils.to_categorical(Y_train, 3), epochs = 20, batch_size = 32)"
   ]
  },
  {
   "cell_type": "markdown",
   "metadata": {},
   "source": [
    "We can see that the simple linear classifier gets a poor performance for the classification problem of free locations, with an accuracy only around 61% (this accuracy is between 50% and 60% in general).\n",
    "\n",
    "Now we generate a test dataset to evaluate the model."
   ]
  },
  {
   "cell_type": "code",
   "execution_count": 15,
   "metadata": {},
   "outputs": [
    {
     "name": "stdout",
     "output_type": "stream",
     "text": [
      "Creating data:\n",
      "0\n",
      "10\n",
      "20\n",
      "30\n",
      "40\n",
      "50\n",
      "60\n",
      "70\n",
      "80\n",
      "90\n",
      "100\n",
      "110\n",
      "120\n",
      "130\n",
      "140\n",
      "150\n",
      "160\n",
      "170\n",
      "180\n",
      "190\n",
      "200\n",
      "210\n",
      "220\n",
      "230\n",
      "240\n",
      "250\n",
      "260\n",
      "270\n",
      "280\n",
      "290\n"
     ]
    }
   ],
   "source": [
    "[X_test, Y_test] = generate_test_set_classification()"
   ]
  },
  {
   "cell_type": "code",
   "execution_count": 16,
   "metadata": {},
   "outputs": [
    {
     "name": "stdout",
     "output_type": "stream",
     "text": [
      "300/300 [==============================] - 0s 244us/step\n"
     ]
    },
    {
     "data": {
      "text/plain": [
       "[0.9243114248911539, 0.5800000007947286]"
      ]
     },
     "execution_count": 16,
     "metadata": {},
     "output_type": "execute_result"
    }
   ],
   "source": [
    "model.evaluate(X_test, Y_test)"
   ]
  },
  {
   "cell_type": "markdown",
   "metadata": {},
   "source": [
    "We get similar accuracy on test set as on training set.\n",
    "\n",
    "Now we train a convolutional neural network in order to improve our performance.\n",
    "We define a CNN with one convolutional layer, one max pooling layer and one fully connected layer."
   ]
  },
  {
   "cell_type": "code",
   "execution_count": 17,
   "metadata": {},
   "outputs": [
    {
     "name": "stdout",
     "output_type": "stream",
     "text": [
      "Epoch 1/20\n",
      "300/300 [==============================] - 1s 4ms/step - loss: 1.3885 - acc: 0.4067\n",
      "Epoch 2/20\n",
      "300/300 [==============================] - 1s 3ms/step - loss: 0.8256 - acc: 0.6800\n",
      "Epoch 3/20\n",
      "300/300 [==============================] - 1s 4ms/step - loss: 0.6506 - acc: 0.8133\n",
      "Epoch 4/20\n",
      "300/300 [==============================] - 1s 4ms/step - loss: 0.5557 - acc: 0.8067\n",
      "Epoch 5/20\n",
      "300/300 [==============================] - 1s 3ms/step - loss: 0.4702 - acc: 0.8533\n",
      "Epoch 6/20\n",
      "300/300 [==============================] - 1s 3ms/step - loss: 0.3796 - acc: 0.8767\n",
      "Epoch 7/20\n",
      "300/300 [==============================] - 1s 3ms/step - loss: 0.3450 - acc: 0.9167\n",
      "Epoch 8/20\n",
      "300/300 [==============================] - 1s 4ms/step - loss: 0.2710 - acc: 0.9433\n",
      "Epoch 9/20\n",
      "300/300 [==============================] - 1s 3ms/step - loss: 0.2448 - acc: 0.9433\n",
      "Epoch 10/20\n",
      "300/300 [==============================] - 1s 4ms/step - loss: 0.2034 - acc: 0.9733\n",
      "Epoch 11/20\n",
      "300/300 [==============================] - 1s 3ms/step - loss: 0.1774 - acc: 0.9800\n",
      "Epoch 12/20\n",
      "300/300 [==============================] - 1s 3ms/step - loss: 0.1609 - acc: 0.9667\n",
      "Epoch 13/20\n",
      "300/300 [==============================] - 1s 3ms/step - loss: 0.1411 - acc: 0.9900\n",
      "Epoch 14/20\n",
      "300/300 [==============================] - 1s 3ms/step - loss: 0.1198 - acc: 0.9900\n",
      "Epoch 15/20\n",
      "300/300 [==============================] - 1s 4ms/step - loss: 0.1068 - acc: 0.9900\n",
      "Epoch 16/20\n",
      "300/300 [==============================] - 1s 4ms/step - loss: 0.0992 - acc: 0.9967\n",
      "Epoch 17/20\n",
      "300/300 [==============================] - 1s 3ms/step - loss: 0.0914 - acc: 0.9967\n",
      "Epoch 18/20\n",
      "300/300 [==============================] - 1s 4ms/step - loss: 0.0777 - acc: 0.9967\n",
      "Epoch 19/20\n",
      "300/300 [==============================] - 1s 4ms/step - loss: 0.0729 - acc: 0.9967\n",
      "Epoch 20/20\n",
      "300/300 [==============================] - 1s 5ms/step - loss: 0.0702 - acc: 0.9967\n"
     ]
    },
    {
     "data": {
      "text/plain": [
       "<keras.callbacks.History at 0x12feb8c18>"
      ]
     },
     "execution_count": 17,
     "metadata": {},
     "output_type": "execute_result"
    }
   ],
   "source": [
    "from keras.layers import Conv2D, MaxPooling2D, Flatten, UpSampling2D\n",
    "\n",
    "model = Sequential()\n",
    "model.add(Conv2D(16, kernel_size=(5, 5), strides=(1, 1),\n",
    "                 activation='relu',\n",
    "                 input_shape=(IMAGE_SIZE, IMAGE_SIZE, 1)))\n",
    "model.add(MaxPooling2D(pool_size=(2, 2), strides=(2, 2)))\n",
    "model.add(Flatten())\n",
    "model.add(Dense(3, activation='softmax'))\n",
    "\n",
    "model.compile(optimizer=adam,\n",
    "              loss='categorical_crossentropy',\n",
    "              metrics=['accuracy'])\n",
    "\n",
    "X_train = X_train.reshape((X_train.shape[0], IMAGE_SIZE, IMAGE_SIZE, 1))\n",
    "model.fit(X_train, np_utils.to_categorical(Y_train, 3), epochs = 20, batch_size = 32)"
   ]
  },
  {
   "cell_type": "markdown",
   "metadata": {},
   "source": [
    "We can see that we get a better performance by using a CNN model, which achieves an accuracy around 99%.\n",
    "\n",
    "And we evaluate the model on test set."
   ]
  },
  {
   "cell_type": "code",
   "execution_count": 18,
   "metadata": {},
   "outputs": [
    {
     "name": "stdout",
     "output_type": "stream",
     "text": [
      "300/300 [==============================] - 1s 2ms/step\n"
     ]
    },
    {
     "data": {
      "text/plain": [
       "[0.9434150266647339, 0.6733333333333333]"
      ]
     },
     "execution_count": 18,
     "metadata": {},
     "output_type": "execute_result"
    }
   ],
   "source": [
    "X_test = X_test.reshape((X_test.shape[0], IMAGE_SIZE, IMAGE_SIZE, 1))\n",
    "model.evaluate(X_test, Y_test)"
   ]
  },
  {
   "cell_type": "markdown",
   "metadata": {},
   "source": [
    "The accuracy achieved on test set is around 67% which is not as good as on training set. However it is much better than a simple linear classifier."
   ]
  },
  {
   "cell_type": "markdown",
   "metadata": {},
   "source": [
    "## A Regression Problem\n",
    "Now we want to predict the image locations of the vertices of a triangle. We firstly generate training dataset."
   ]
  },
  {
   "cell_type": "code",
   "execution_count": 19,
   "metadata": {},
   "outputs": [
    {
     "name": "stdout",
     "output_type": "stream",
     "text": [
      "Creating data:\n",
      "0\n",
      "10\n",
      "20\n",
      "30\n",
      "40\n",
      "50\n",
      "60\n",
      "70\n",
      "80\n",
      "90\n",
      "100\n",
      "110\n",
      "120\n",
      "130\n",
      "140\n",
      "150\n",
      "160\n",
      "170\n",
      "180\n",
      "190\n",
      "200\n",
      "210\n",
      "220\n",
      "230\n",
      "240\n",
      "250\n",
      "260\n",
      "270\n",
      "280\n",
      "290\n"
     ]
    }
   ],
   "source": [
    "[X_train, Y_train] = generate_dataset_regression(300, 20)"
   ]
  },
  {
   "cell_type": "markdown",
   "metadata": {},
   "source": [
    "We visualize a sample."
   ]
  },
  {
   "cell_type": "code",
   "execution_count": 20,
   "metadata": {},
   "outputs": [
    {
     "data": {
      "image/png": "[encoded data removed]",
      "text/plain": [
       "<matplotlib.figure.Figure at 0x12dc31978>"
      ]
     },
     "metadata": {},
     "output_type": "display_data"
    }
   ],
   "source": [
    "visualize_prediction(X_train[0], Y_train[0])"
   ]
  },
  {
   "cell_type": "markdown",
   "metadata": {},
   "source": [
    "Before fitting the model, we need to normalize Y_train. Here we sort Y (the vertices' coordinates) for each sample and store indexes of ordered vertices in order to reconstruct the vertices' coordinates."
   ]
  },
  {
   "cell_type": "code",
   "execution_count": 21,
   "metadata": {},
   "outputs": [],
   "source": [
    "idxs = np.argsort(Y_train, axis = 1)\n",
    "Y_sorted = np.sort(Y_train, axis = 1)"
   ]
  },
  {
   "cell_type": "markdown",
   "metadata": {},
   "source": [
    "Now we define the CNN model for the regression problem and we train the model with 50 epochs and batch size of 32.\n",
    "\n",
    "We define two convolutional layers with two max pooling layers for feature extraction and two fully connected layer for classifier."
   ]
  },
  {
   "cell_type": "code",
   "execution_count": 22,
   "metadata": {},
   "outputs": [
    {
     "name": "stdout",
     "output_type": "stream",
     "text": [
      "Epoch 1/50\n",
      "300/300 [==============================] - 2s 8ms/step - loss: 1.3050 - mean_squared_error: 1.3050\n",
      "Epoch 2/50\n",
      "300/300 [==============================] - 2s 5ms/step - loss: 0.2542 - mean_squared_error: 0.2542\n",
      "Epoch 3/50\n",
      "300/300 [==============================] - 2s 5ms/step - loss: 0.0704 - mean_squared_error: 0.0704\n",
      "Epoch 4/50\n",
      "300/300 [==============================] - 2s 6ms/step - loss: 0.0362 - mean_squared_error: 0.0362\n",
      "Epoch 5/50\n",
      "300/300 [==============================] - 2s 5ms/step - loss: 0.0268 - mean_squared_error: 0.0268\n",
      "Epoch 6/50\n",
      "300/300 [==============================] - 2s 6ms/step - loss: 0.0233 - mean_squared_error: 0.0233\n",
      "Epoch 7/50\n",
      "300/300 [==============================] - 2s 5ms/step - loss: 0.0207 - mean_squared_error: 0.0207\n",
      "Epoch 8/50\n",
      "300/300 [==============================] - 2s 5ms/step - loss: 0.0188 - mean_squared_error: 0.0188\n",
      "Epoch 9/50\n",
      "300/300 [==============================] - 2s 5ms/step - loss: 0.0163 - mean_squared_error: 0.0163\n",
      "Epoch 10/50\n",
      "300/300 [==============================] - 2s 5ms/step - loss: 0.0146 - mean_squared_error: 0.0146\n",
      "Epoch 11/50\n",
      "300/300 [==============================] - 2s 6ms/step - loss: 0.0131 - mean_squared_error: 0.0131\n",
      "Epoch 12/50\n",
      "300/300 [==============================] - 2s 5ms/step - loss: 0.0115 - mean_squared_error: 0.0115\n",
      "Epoch 13/50\n",
      "300/300 [==============================] - 2s 5ms/step - loss: 0.0105 - mean_squared_error: 0.0105\n",
      "Epoch 14/50\n",
      "300/300 [==============================] - 2s 5ms/step - loss: 0.0096 - mean_squared_error: 0.0096\n",
      "Epoch 15/50\n",
      "300/300 [==============================] - 2s 5ms/step - loss: 0.0089 - mean_squared_error: 0.0089\n",
      "Epoch 16/50\n",
      "300/300 [==============================] - 2s 6ms/step - loss: 0.0082 - mean_squared_error: 0.0082\n",
      "Epoch 17/50\n",
      "300/300 [==============================] - 2s 5ms/step - loss: 0.0076 - mean_squared_error: 0.0076\n",
      "Epoch 18/50\n",
      "300/300 [==============================] - 2s 5ms/step - loss: 0.0070 - mean_squared_error: 0.0070\n",
      "Epoch 19/50\n",
      "300/300 [==============================] - 2s 5ms/step - loss: 0.0064 - mean_squared_error: 0.0064\n",
      "Epoch 20/50\n",
      "300/300 [==============================] - 2s 6ms/step - loss: 0.0061 - mean_squared_error: 0.0061\n",
      "Epoch 21/50\n",
      "300/300 [==============================] - 2s 5ms/step - loss: 0.0055 - mean_squared_error: 0.0055\n",
      "Epoch 22/50\n",
      "300/300 [==============================] - 2s 5ms/step - loss: 0.0052 - mean_squared_error: 0.0052\n",
      "Epoch 23/50\n",
      "300/300 [==============================] - 2s 5ms/step - loss: 0.0049 - mean_squared_error: 0.0049\n",
      "Epoch 24/50\n",
      "300/300 [==============================] - 2s 5ms/step - loss: 0.0045 - mean_squared_error: 0.0045\n",
      "Epoch 25/50\n",
      "300/300 [==============================] - 2s 6ms/step - loss: 0.0042 - mean_squared_error: 0.0042\n",
      "Epoch 26/50\n",
      "300/300 [==============================] - 2s 5ms/step - loss: 0.0039 - mean_squared_error: 0.0039\n",
      "Epoch 27/50\n",
      "300/300 [==============================] - 2s 5ms/step - loss: 0.0036 - mean_squared_error: 0.0036\n",
      "Epoch 28/50\n",
      "300/300 [==============================] - 2s 5ms/step - loss: 0.0033 - mean_squared_error: 0.0033\n",
      "Epoch 29/50\n",
      "300/300 [==============================] - 2s 5ms/step - loss: 0.0031 - mean_squared_error: 0.0031\n",
      "Epoch 30/50\n",
      "300/300 [==============================] - 2s 5ms/step - loss: 0.0029 - mean_squared_error: 0.0029\n",
      "Epoch 31/50\n",
      "300/300 [==============================] - 2s 5ms/step - loss: 0.0028 - mean_squared_error: 0.0028\n",
      "Epoch 32/50\n",
      "300/300 [==============================] - 2s 6ms/step - loss: 0.0025 - mean_squared_error: 0.0025\n",
      "Epoch 33/50\n",
      "300/300 [==============================] - 2s 5ms/step - loss: 0.0024 - mean_squared_error: 0.0024\n",
      "Epoch 34/50\n",
      "300/300 [==============================] - 2s 5ms/step - loss: 0.0022 - mean_squared_error: 0.0022\n",
      "Epoch 35/50\n",
      "300/300 [==============================] - 2s 5ms/step - loss: 0.0021 - mean_squared_error: 0.0021\n",
      "Epoch 36/50\n",
      "300/300 [==============================] - 2s 5ms/step - loss: 0.0020 - mean_squared_error: 0.0020\n",
      "Epoch 37/50\n",
      "300/300 [==============================] - 2s 5ms/step - loss: 0.0019 - mean_squared_error: 0.0019\n",
      "Epoch 38/50\n",
      "300/300 [==============================] - 2s 6ms/step - loss: 0.0017 - mean_squared_error: 0.0017\n",
      "Epoch 39/50\n",
      "300/300 [==============================] - 2s 6ms/step - loss: 0.0016 - mean_squared_error: 0.0016\n",
      "Epoch 40/50\n",
      "300/300 [==============================] - 2s 5ms/step - loss: 0.0015 - mean_squared_error: 0.0015\n",
      "Epoch 41/50\n",
      "300/300 [==============================] - 2s 5ms/step - loss: 0.0014 - mean_squared_error: 0.0014\n",
      "Epoch 42/50\n",
      "300/300 [==============================] - 2s 6ms/step - loss: 0.0014 - mean_squared_error: 0.0014\n",
      "Epoch 43/50\n",
      "300/300 [==============================] - 2s 5ms/step - loss: 0.0013 - mean_squared_error: 0.0013\n",
      "Epoch 44/50\n",
      "300/300 [==============================] - 2s 5ms/step - loss: 0.0013 - mean_squared_error: 0.0013\n",
      "Epoch 45/50\n",
      "300/300 [==============================] - 2s 5ms/step - loss: 0.0012 - mean_squared_error: 0.0012\n",
      "Epoch 46/50\n",
      "300/300 [==============================] - 2s 5ms/step - loss: 0.0011 - mean_squared_error: 0.0011\n",
      "Epoch 47/50\n",
      "300/300 [==============================] - 2s 6ms/step - loss: 0.0010 - mean_squared_error: 0.0010\n",
      "Epoch 48/50\n",
      "300/300 [==============================] - 2s 5ms/step - loss: 9.8592e-04 - mean_squared_error: 9.8592e-04\n",
      "Epoch 49/50\n",
      "300/300 [==============================] - 2s 6ms/step - loss: 9.0887e-04 - mean_squared_error: 9.0887e-04\n",
      "Epoch 50/50\n",
      "300/300 [==============================] - 2s 5ms/step - loss: 8.5562e-04 - mean_squared_error: 8.5562e-04\n"
     ]
    },
    {
     "data": {
      "text/plain": [
       "<keras.callbacks.History at 0x12dc3df98>"
      ]
     },
     "execution_count": 22,
     "metadata": {},
     "output_type": "execute_result"
    }
   ],
   "source": [
    "model = Sequential()\n",
    "model.add(Conv2D(16, kernel_size=(5, 5), strides=(1, 1),\n",
    "                 activation='relu',\n",
    "                 input_shape=(IMAGE_SIZE, IMAGE_SIZE, 1)))\n",
    "model.add(MaxPooling2D(pool_size=(2, 2), strides=(2, 2)))\n",
    "model.add(Conv2D(32, kernel_size=(3, 3), strides=(1, 1),\n",
    "                 activation='relu'))\n",
    "model.add(MaxPooling2D(pool_size=(2, 2), strides=(2, 2)))\n",
    "model.add(Flatten())\n",
    "model.add(Dense(128, activation = 'relu'))\n",
    "model.add(Dense(6))\n",
    "\n",
    "model.compile(optimizer=adam,\n",
    "              loss='mse',\n",
    "              metrics=['mse'])\n",
    "\n",
    "X_train = X_train.reshape((X_train.shape[0], IMAGE_SIZE, IMAGE_SIZE, 1))\n",
    "model.fit(X_train, Y_sorted, epochs = 50, batch_size = 32)"
   ]
  },
  {
   "cell_type": "markdown",
   "metadata": {},
   "source": [
    "We now evaluate the performance on training dataset and predict Y on the training set to visualize one sample's prediction against the real one."
   ]
  },
  {
   "cell_type": "code",
   "execution_count": 23,
   "metadata": {},
   "outputs": [
    {
     "name": "stdout",
     "output_type": "stream",
     "text": [
      "300/300 [==============================] - 1s 2ms/step\n"
     ]
    },
    {
     "data": {
      "text/plain": [
       "[0.0008561545268942912, 0.0008561545268942912]"
      ]
     },
     "execution_count": 23,
     "metadata": {},
     "output_type": "execute_result"
    }
   ],
   "source": [
    "model.evaluate(X_train, Y_sorted)"
   ]
  },
  {
   "cell_type": "markdown",
   "metadata": {},
   "source": [
    "We see that the Mean Square Error is small. The model maybe not very stable for each training precess and this may be caused by different random initialization. If the final Mean Square Error is not small enough, just retrain the model until it get a satisfactory performance."
   ]
  },
  {
   "cell_type": "code",
   "execution_count": 24,
   "metadata": {},
   "outputs": [],
   "source": [
    "Y_pred = model.predict(X_train)\n",
    "for i in range(Y_pred.shape[0]):\n",
    "    Y_pred[i, idxs[i]] = Y_pred[i].copy()"
   ]
  },
  {
   "cell_type": "code",
   "execution_count": 25,
   "metadata": {},
   "outputs": [
    {
     "data": {
      "image/png": "[encoded data removed]",
      "text/plain": [
       "<matplotlib.figure.Figure at 0x12dc71c18>"
      ]
     },
     "metadata": {},
     "output_type": "display_data"
    },
    {
     "data": {
      "image/png": "[encoded data removed]",
      "text/plain": [
       "<matplotlib.figure.Figure at 0x11a80fc50>"
      ]
     },
     "metadata": {},
     "output_type": "display_data"
    }
   ],
   "source": [
    "visualize_prediction(X_train[0], Y_train[0])\n",
    "visualize_prediction(X_train[0], Y_pred[0])"
   ]
  },
  {
   "cell_type": "markdown",
   "metadata": {},
   "source": [
    "We see that for the shown sample of training set, the model predicts well the three vertices.\n",
    "\n",
    "Now we generate test set and evaluate the model on test set."
   ]
  },
  {
   "cell_type": "code",
   "execution_count": 26,
   "metadata": {},
   "outputs": [
    {
     "name": "stdout",
     "output_type": "stream",
     "text": [
      "Creating data:\n",
      "0\n",
      "10\n",
      "20\n",
      "30\n",
      "40\n",
      "50\n",
      "60\n",
      "70\n",
      "80\n",
      "90\n",
      "100\n",
      "110\n",
      "120\n",
      "130\n",
      "140\n",
      "150\n",
      "160\n",
      "170\n",
      "180\n",
      "190\n",
      "200\n",
      "210\n",
      "220\n",
      "230\n",
      "240\n",
      "250\n",
      "260\n",
      "270\n",
      "280\n",
      "290\n"
     ]
    }
   ],
   "source": [
    "[X_test, Y_test] = generate_test_set_regression()"
   ]
  },
  {
   "cell_type": "code",
   "execution_count": 27,
   "metadata": {},
   "outputs": [],
   "source": [
    "idxs = np.argsort(Y_test, axis = 1)\n",
    "Y_test_sorted = np.sort(Y_test, axis = 1)"
   ]
  },
  {
   "cell_type": "code",
   "execution_count": 28,
   "metadata": {},
   "outputs": [],
   "source": [
    "X_test = X_test.reshape((X_test.shape[0], IMAGE_SIZE, IMAGE_SIZE, 1))"
   ]
  },
  {
   "cell_type": "code",
   "execution_count": 29,
   "metadata": {},
   "outputs": [],
   "source": [
    "Y_pred_test = model.predict(X_test)\n",
    "for i in range(Y_pred_test.shape[0]):\n",
    "    Y_pred_test[i, idxs[i]] = Y_pred_test[i].copy()"
   ]
  },
  {
   "cell_type": "code",
   "execution_count": 30,
   "metadata": {},
   "outputs": [
    {
     "data": {
      "image/png": "[encoded data removed]",
      "text/plain": [
       "<matplotlib.figure.Figure at 0x137e8cb70>"
      ]
     },
     "metadata": {},
     "output_type": "display_data"
    },
    {
     "data": {
      "image/png": "[encoded data removed]",
      "text/plain": [
       "<matplotlib.figure.Figure at 0x12dcd8fd0>"
      ]
     },
     "metadata": {},
     "output_type": "display_data"
    }
   ],
   "source": [
    "visualize_prediction(X_test[2], Y_test[2])\n",
    "visualize_prediction(X_test[2], Y_pred_test[2])"
   ]
  },
  {
   "cell_type": "markdown",
   "metadata": {},
   "source": [
    "For the shown sample of test set, we see that the model does not performe as well as on training set."
   ]
  },
  {
   "cell_type": "code",
   "execution_count": 31,
   "metadata": {},
   "outputs": [
    {
     "name": "stdout",
     "output_type": "stream",
     "text": [
      "300/300 [==============================] - 1s 2ms/step\n"
     ]
    },
    {
     "data": {
      "text/plain": [
       "[0.009611724118391674, 0.009611724118391674]"
      ]
     },
     "execution_count": 31,
     "metadata": {},
     "output_type": "execute_result"
    }
   ],
   "source": [
    "model.evaluate(X_test, Y_test_sorted)"
   ]
  },
  {
   "cell_type": "markdown",
   "metadata": {},
   "source": [
    "By evaluating the model on the whole test set, we see that the Mean Square Error is larger than that on the training set. However it is quite small and we can consider that we get a satisfactory performance."
   ]
  },
  {
   "cell_type": "markdown",
   "metadata": {},
   "source": [
    "## Image Denoising\n",
    "In this part, we design a hourglass like network for image denoising.\n",
    "\n",
    "We first define generate function to generate pairs of images, one with noise and one without."
   ]
  },
  {
   "cell_type": "code",
   "execution_count": 32,
   "metadata": {},
   "outputs": [],
   "source": [
    "def generate_pairs_rectangle(noise_amp = 50, free_location=False):\n",
    "    figsize = 1.0    \n",
    "    U = np.zeros(4)\n",
    "    V = np.zeros(4)\n",
    "    if free_location:\n",
    "        corners = np.random.random(4)\n",
    "        top = max(corners[0], corners[1])\n",
    "        bottom = min(corners[0], corners[1])\n",
    "        left = min(corners[2], corners[3])\n",
    "        right = max(corners[2], corners[3])\n",
    "    else:\n",
    "        side = (0.3 + 0.7 * np.random.random()) * figsize\n",
    "        top = figsize/2 + side/2\n",
    "        bottom = figsize/2 - side/2\n",
    "        left = bottom\n",
    "        right = top\n",
    "    U[0] = U[1] = top\n",
    "    U[2] = U[3] = bottom\n",
    "    V[0] = V[3] = left\n",
    "    V[1] = V[2] = right\n",
    "    noise = np.random.rand() * noise_amp\n",
    "    return generate_a_drawing(figsize, U, V, noise), generate_a_drawing(figsize, U, V, 0.0), noise\n",
    "\n",
    "def generate_pairs_disk(noise_amp = 50, free_location=False):\n",
    "    figsize = 1.0\n",
    "    if free_location:\n",
    "        center = np.random.random(2)\n",
    "    else:\n",
    "        center = (figsize/2, figsize/2)\n",
    "    radius = (0.3 + 0.7 * np.random.random()) * figsize/2\n",
    "    N = 50\n",
    "    U = np.zeros(N)\n",
    "    V = np.zeros(N)\n",
    "    i = 0\n",
    "    for t in np.linspace(0, 2*np.pi, N):\n",
    "        U[i] = center[0] + np.cos(t) * radius\n",
    "        V[i] = center[1] + np.sin(t) * radius\n",
    "        i = i + 1\n",
    "    noise = np.random.rand() * noise_amp\n",
    "    return generate_a_drawing(figsize, U, V, noise), generate_a_drawing(figsize, U, V, 0.0), noise\n",
    "\n",
    "def generate_pairs_triangle(noise_amp = 50, free_location=False):\n",
    "    figsize = 1.0\n",
    "    if free_location:\n",
    "        U = np.random.random(3)\n",
    "        V = np.random.random(3)\n",
    "    else:\n",
    "        size = (0.3 + 0.7 * np.random.random())*figsize/2\n",
    "        middle = figsize/2\n",
    "        U = (middle, middle+size, middle-size)\n",
    "        V = (middle+size, middle-size, middle-size)\n",
    "    noise = np.random.rand() * noise_amp\n",
    "    return generate_a_drawing(figsize, U, V, noise), generate_a_drawing(figsize, U, V, 0.0), noise\n",
    "\n",
    "def generate_image_denoising_dataset(nb_samples, noise_amp = 50, free_location=False):\n",
    "    # Getting im_size:\n",
    "    im_size = generate_a_rectangle().shape[0]\n",
    "    X = np.zeros([nb_samples, im_size])\n",
    "    Y = np.zeros([nb_samples, im_size])\n",
    "    noises = np.zeros([nb_samples, 1])\n",
    "    print('Creating data:')\n",
    "    for i in range(nb_samples):\n",
    "        if i % 100 == 0:\n",
    "            print(i)\n",
    "        category = np.random.randint(3)\n",
    "        if category == 0:\n",
    "            X[i], Y[i], noises[i] = generate_pairs_rectangle(noise_amp, free_location)\n",
    "        elif category == 1: \n",
    "            X[i], Y[i], noises[i] = generate_pairs_disk(noise_amp, free_location)\n",
    "        else:\n",
    "            X[i], Y[i], noises[i] = generate_pairs_triangle(noise_amp, free_location)\n",
    "    X = (X + noises) / (255 + 2 * noises)\n",
    "    Y = Y / 255.0\n",
    "    return [X, Y]\n",
    "\n",
    "def generate_image_denoising_test_dataset():\n",
    "    np.random.seed(42)\n",
    "    [X_test, Y_test] = generate_image_denoising_dataset(500, 50, True)\n",
    "    return [X_test, Y_test]"
   ]
  },
  {
   "cell_type": "markdown",
   "metadata": {},
   "source": [
    "Now we generate the training dataset, with 500 samples and a noise with random amplitude smaller than 50. We allow the free location."
   ]
  },
  {
   "cell_type": "code",
   "execution_count": 33,
   "metadata": {},
   "outputs": [
    {
     "name": "stdout",
     "output_type": "stream",
     "text": [
      "Creating data:\n",
      "0\n",
      "100\n",
      "200\n",
      "300\n",
      "400\n"
     ]
    }
   ],
   "source": [
    "X_train, Y_train = generate_image_denoising_dataset(500, 50, True)"
   ]
  },
  {
   "cell_type": "markdown",
   "metadata": {},
   "source": [
    "We visualize a sample of training set with noisy image and noise-free image."
   ]
  },
  {
   "cell_type": "code",
   "execution_count": 35,
   "metadata": {},
   "outputs": [
    {
     "data": {
      "text/plain": [
       "<matplotlib.image.AxesImage at 0x1582e94a8>"
      ]
     },
     "execution_count": 35,
     "metadata": {},
     "output_type": "execute_result"
    },
    {
     "data": {
      "image/png": "[encoded data removed]",
      "text/plain": [
       "<matplotlib.figure.Figure at 0x158258390>"
      ]
     },
     "metadata": {},
     "output_type": "display_data"
    }
   ],
   "source": [
    "fig = plt.figure(figsize=(10, 5))\n",
    "plt.subplot(121)\n",
    "plt.imshow(X_train[0].reshape(IMAGE_SIZE,IMAGE_SIZE), cmap='gray')\n",
    "plt.subplot(122)\n",
    "plt.imshow(Y_train[0].reshape(IMAGE_SIZE,IMAGE_SIZE), cmap='gray')"
   ]
  },
  {
   "cell_type": "markdown",
   "metadata": {},
   "source": [
    "Now we define a hourglass like CNN with the following structure: \n",
    "- convolutional layer (16 channels of kernel 3 x 3, add padding to preserve the image size, ReLU activation)\n",
    "- max pooling layer (pool_size = 2, stride = 2)\n",
    "- convolutional layer (32 channels of kernel 3 x 3, add padding to preserve the image size, ReLU activation)\n",
    "- max pooling layer (pool_size = 2, stride = 2)\n",
    "- convolutional layer (64 channels of kernel 3 x 3, add padding to preserve the image size, ReLU activation)\n",
    "- max pooling layer (pool_size = 2, stride = 2)\n",
    "\n",
    "\n",
    "- up sampling layer (size = 2)\n",
    "- convolutional layer (32 channels of kernel 3 x 3, add padding to preserve the image size, ReLU activation)\n",
    "- up sampling layer (size = 2)\n",
    "- convolutional layer (16 channels of kernel 3 x 3, add padding to preserve the image size, ReLU activation)\n",
    "- up sampling layer (size = 2)\n",
    "- convolutional layer (1 channels of kernel 3 x 3, add padding to preserve the image size, ReLU activation)\n",
    "\n",
    "We take noisy image as input and we try to predict the noise-free image. We train 20 epochs with batch size of 32."
   ]
  },
  {
   "cell_type": "code",
   "execution_count": 36,
   "metadata": {},
   "outputs": [
    {
     "name": "stdout",
     "output_type": "stream",
     "text": [
      "Epoch 1/20\n",
      "500/500 [==============================] - 8s 15ms/step - loss: 0.7063 - mean_squared_error: 0.7063\n",
      "Epoch 2/20\n",
      "500/500 [==============================] - 7s 14ms/step - loss: 0.1246 - mean_squared_error: 0.1246\n",
      "Epoch 3/20\n",
      "500/500 [==============================] - 8s 15ms/step - loss: 0.0832 - mean_squared_error: 0.0832\n",
      "Epoch 4/20\n",
      "500/500 [==============================] - 8s 16ms/step - loss: 0.0490 - mean_squared_error: 0.0490\n",
      "Epoch 5/20\n",
      "500/500 [==============================] - 8s 16ms/step - loss: 0.0307 - mean_squared_error: 0.0307\n",
      "Epoch 6/20\n",
      "500/500 [==============================] - 8s 15ms/step - loss: 0.0215 - mean_squared_error: 0.0215\n",
      "Epoch 7/20\n",
      "500/500 [==============================] - 7s 15ms/step - loss: 0.0156 - mean_squared_error: 0.0156\n",
      "Epoch 8/20\n",
      "500/500 [==============================] - 8s 15ms/step - loss: 0.0123 - mean_squared_error: 0.0123\n",
      "Epoch 9/20\n",
      "500/500 [==============================] - 8s 16ms/step - loss: 0.0103 - mean_squared_error: 0.0103\n",
      "Epoch 10/20\n",
      "500/500 [==============================] - 8s 16ms/step - loss: 0.0092 - mean_squared_error: 0.0092\n",
      "Epoch 11/20\n",
      "500/500 [==============================] - 7s 15ms/step - loss: 0.0086 - mean_squared_error: 0.0086\n",
      "Epoch 12/20\n",
      "500/500 [==============================] - 7s 15ms/step - loss: 0.0081 - mean_squared_error: 0.0081\n",
      "Epoch 13/20\n",
      "500/500 [==============================] - 7s 15ms/step - loss: 0.0077 - mean_squared_error: 0.0077\n",
      "Epoch 14/20\n",
      "500/500 [==============================] - 7s 15ms/step - loss: 0.0075 - mean_squared_error: 0.0075\n",
      "Epoch 15/20\n",
      "500/500 [==============================] - 7s 15ms/step - loss: 0.0073 - mean_squared_error: 0.0073\n",
      "Epoch 16/20\n",
      "500/500 [==============================] - 7s 15ms/step - loss: 0.0071 - mean_squared_error: 0.0071\n",
      "Epoch 17/20\n",
      "500/500 [==============================] - 7s 15ms/step - loss: 0.0068 - mean_squared_error: 0.0068\n",
      "Epoch 18/20\n",
      "500/500 [==============================] - 7s 15ms/step - loss: 0.0067 - mean_squared_error: 0.0067\n",
      "Epoch 19/20\n",
      "500/500 [==============================] - 7s 15ms/step - loss: 0.0065 - mean_squared_error: 0.0065\n",
      "Epoch 20/20\n",
      "500/500 [==============================] - 8s 15ms/step - loss: 0.0064 - mean_squared_error: 0.0064\n"
     ]
    },
    {
     "data": {
      "text/plain": [
       "<keras.callbacks.History at 0x15880d748>"
      ]
     },
     "execution_count": 36,
     "metadata": {},
     "output_type": "execute_result"
    }
   ],
   "source": [
    "model = Sequential()\n",
    "model.add(Conv2D(16, kernel_size=(3, 3), strides=(1, 1), padding='same', \n",
    "                 activation='relu',\n",
    "                 input_shape=(IMAGE_SIZE, IMAGE_SIZE, 1)))\n",
    "model.add(MaxPooling2D(pool_size=(2, 2), strides=(2, 2)))\n",
    "model.add(Conv2D(32, kernel_size=(3, 3), strides=(1, 1), padding='same', \n",
    "                 activation='relu'))\n",
    "model.add(MaxPooling2D(pool_size=(2, 2), strides=(2, 2)))\n",
    "model.add(Conv2D(64, kernel_size=(3, 3), strides=(1, 1), padding='same', \n",
    "                 activation='relu'))\n",
    "model.add(MaxPooling2D(pool_size=(2, 2), strides=(2, 2)))\n",
    "model.add(UpSampling2D(size=(2, 2)))\n",
    "model.add(Conv2D(32, kernel_size=(3, 3) , strides=(1, 1), padding='same', \n",
    "                 activation='relu'))\n",
    "model.add(UpSampling2D(size=(2, 2)))\n",
    "model.add(Conv2D(16, kernel_size=(3, 3) , strides=(1, 1), padding='same', \n",
    "                 activation='relu'))\n",
    "model.add(UpSampling2D(size=(2, 2)))\n",
    "model.add(Conv2D(1, kernel_size=(3, 3) , strides=(1, 1), padding='same', \n",
    "                 activation='relu'))\n",
    "\n",
    "model.compile(optimizer=adam,\n",
    "              loss='mse',\n",
    "              metrics=['mse'])\n",
    "\n",
    "X_train = X_train.reshape((X_train.shape[0], IMAGE_SIZE, IMAGE_SIZE, 1))\n",
    "Y_train = Y_train.reshape((Y_train.shape[0], IMAGE_SIZE, IMAGE_SIZE, 1))\n",
    "model.fit(X_train, Y_train, epochs = 20, batch_size = 32)"
   ]
  },
  {
   "cell_type": "markdown",
   "metadata": {},
   "source": [
    "We first visualize a sample of training set and its prediction."
   ]
  },
  {
   "cell_type": "code",
   "execution_count": 38,
   "metadata": {},
   "outputs": [
    {
     "data": {
      "text/plain": [
       "<matplotlib.image.AxesImage at 0x137333940>"
      ]
     },
     "execution_count": 38,
     "metadata": {},
     "output_type": "execute_result"
    },
    {
     "data": {
      "image/png": "[encoded data removed]",
      "text/plain": [
       "<matplotlib.figure.Figure at 0x1591fa0b8>"
      ]
     },
     "metadata": {},
     "output_type": "display_data"
    }
   ],
   "source": [
    "Y_pred = model.predict(X_train)\n",
    "fig = plt.figure(figsize=(12, 7))\n",
    "plt.subplot(131)\n",
    "plt.imshow(X_train[0].reshape(IMAGE_SIZE,IMAGE_SIZE), cmap='gray')\n",
    "plt.subplot(132)\n",
    "plt.imshow(Y_train[0].reshape(IMAGE_SIZE,IMAGE_SIZE), cmap='gray')\n",
    "plt.subplot(133)\n",
    "plt.imshow(Y_pred[0].reshape(IMAGE_SIZE,IMAGE_SIZE), cmap='gray')"
   ]
  },
  {
   "cell_type": "markdown",
   "metadata": {},
   "source": [
    "We see that the prediction of noise-free image is smoother than the noisy image. However the edges of the shape are also become smoother.\n",
    "\n",
    "Now we generate test dataset and evaluate the model on the test set."
   ]
  },
  {
   "cell_type": "code",
   "execution_count": 39,
   "metadata": {},
   "outputs": [
    {
     "name": "stdout",
     "output_type": "stream",
     "text": [
      "Creating data:\n",
      "0\n",
      "100\n",
      "200\n",
      "300\n",
      "400\n"
     ]
    }
   ],
   "source": [
    "X_test, Y_test = generate_image_denoising_test_dataset()"
   ]
  },
  {
   "cell_type": "code",
   "execution_count": 40,
   "metadata": {},
   "outputs": [
    {
     "name": "stdout",
     "output_type": "stream",
     "text": [
      "500/500 [==============================] - 3s 6ms/step\n"
     ]
    },
    {
     "data": {
      "text/plain": [
       "[0.006326245993375778, 0.006326184134930372]"
      ]
     },
     "execution_count": 40,
     "metadata": {},
     "output_type": "execute_result"
    }
   ],
   "source": [
    "X_test = X_test.reshape((X_test.shape[0], IMAGE_SIZE, IMAGE_SIZE, 1))\n",
    "Y_test = Y_test.reshape((Y_test.shape[0], IMAGE_SIZE, IMAGE_SIZE, 1))\n",
    "model.evaluate(X_test, Y_test)"
   ]
  },
  {
   "cell_type": "markdown",
   "metadata": {},
   "source": [
    "We obtain a similar Mean Square Error on the test set as on the training set.\n",
    "\n",
    "Now we visualize a sample of test set."
   ]
  },
  {
   "cell_type": "code",
   "execution_count": 42,
   "metadata": {},
   "outputs": [
    {
     "data": {
      "text/plain": [
       "<matplotlib.image.AxesImage at 0x14c55e9e8>"
      ]
     },
     "execution_count": 42,
     "metadata": {},
     "output_type": "execute_result"
    },
    {
     "data": {
      "image/png": "[encoded data removed]",
      "text/plain": [
       "<matplotlib.figure.Figure at 0x14c5d42e8>"
      ]
     },
     "metadata": {},
     "output_type": "display_data"
    }
   ],
   "source": [
    "Y_pred_test = model.predict(X_test)\n",
    "fig = plt.figure(figsize=(12, 7))\n",
    "plt.subplot(131)\n",
    "plt.imshow(X_test[0].reshape(IMAGE_SIZE,IMAGE_SIZE), cmap='gray')\n",
    "plt.subplot(132)\n",
    "plt.imshow(Y_test[0].reshape(IMAGE_SIZE,IMAGE_SIZE), cmap='gray')\n",
    "plt.subplot(133)\n",
    "plt.imshow(Y_pred_test[0].reshape(IMAGE_SIZE,IMAGE_SIZE), cmap='gray')"
   ]
  },
  {
   "cell_type": "markdown",
   "metadata": {},
   "source": [
    "We get similar results as on the training set.\n",
    "\n",
    "Inspired by U-Net structure, we try to modify our network structure to see if we can improve the performance. "
   ]
  },
  {
   "cell_type": "code",
   "execution_count": 43,
   "metadata": {},
   "outputs": [],
   "source": [
    "from keras.layers.merge import concatenate\n",
    "\n",
    "def UNet_denoising(input_img, n_filters = 16, kernel_size = 3):\n",
    "    conv1 = Conv2D(filters=n_filters, kernel_size=(kernel_size, kernel_size), strides=(1, 1), \n",
    "               padding='same', activation='relu')(input_img)\n",
    "    pool1 = MaxPooling2D(pool_size=(2, 2), strides=(2, 2))(conv1)\n",
    "    conv2 = Conv2D(filters=n_filters * 2, kernel_size=(kernel_size, kernel_size), strides=(1, 1), \n",
    "               padding='same', activation='relu')(pool1)\n",
    "    pool2 = MaxPooling2D(pool_size=(2, 2), strides=(2, 2))(conv2)\n",
    "    conv3 = Conv2D(filters=n_filters * 4, kernel_size=(kernel_size, kernel_size), strides=(1, 1), \n",
    "               padding='same', activation='relu')(pool2)\n",
    "    pool3 = MaxPooling2D(pool_size=(2, 2), strides=(2, 2))(conv3)\n",
    "    \n",
    "    up4 = UpSampling2D(size=(2, 2))(pool3)\n",
    "    up_conv4 = Conv2D(filters=n_filters * 2, kernel_size=(kernel_size, kernel_size), strides=(1, 1), \n",
    "               padding='same', activation='relu')(up4)\n",
    "    up5 = UpSampling2D(size=(2, 2))(up_conv4)\n",
    "    up_conv5 = Conv2D(filters=n_filters, kernel_size=(kernel_size, kernel_size), strides=(1, 1), \n",
    "               padding='same', activation='relu')(up5)\n",
    "    merge5 = concatenate([conv2, up_conv5])\n",
    "    up6 = UpSampling2D(size=(2, 2))(merge5)\n",
    "    up_conv6 = Conv2D(filters=1, kernel_size=(kernel_size, kernel_size), strides=(1, 1), \n",
    "               padding='same', activation='relu')(up6)\n",
    "    merge6 = concatenate([conv1, up_conv6])\n",
    "    outputs = Conv2D(filters=1, kernel_size=(1, 1), strides=(1, 1), \n",
    "               padding='same', activation='relu')(merge6)\n",
    "    model = Model(inputs=[input_img], outputs=[outputs])\n",
    "    \n",
    "    return model"
   ]
  },
  {
   "cell_type": "code",
   "execution_count": 46,
   "metadata": {},
   "outputs": [
    {
     "name": "stdout",
     "output_type": "stream",
     "text": [
      "Epoch 1/30\n",
      "500/500 [==============================] - 13s 25ms/step - loss: 0.3195 - mean_squared_error: 0.3195\n",
      "Epoch 2/30\n",
      "500/500 [==============================] - 12s 23ms/step - loss: 0.0489 - mean_squared_error: 0.0489\n",
      "Epoch 3/30\n",
      "500/500 [==============================] - 16s 33ms/step - loss: 0.0184 - mean_squared_error: 0.0184\n",
      "Epoch 4/30\n",
      "500/500 [==============================] - 14s 28ms/step - loss: 0.0141 - mean_squared_error: 0.0141\n",
      "Epoch 5/30\n",
      "500/500 [==============================] - 12s 24ms/step - loss: 0.0116 - mean_squared_error: 0.0116\n",
      "Epoch 6/30\n",
      "500/500 [==============================] - 12s 24ms/step - loss: 0.0094 - mean_squared_error: 0.0094\n",
      "Epoch 7/30\n",
      "500/500 [==============================] - 12s 25ms/step - loss: 0.0073 - mean_squared_error: 0.0073\n",
      "Epoch 8/30\n",
      "500/500 [==============================] - 12s 24ms/step - loss: 0.0057 - mean_squared_error: 0.0057\n",
      "Epoch 9/30\n",
      "500/500 [==============================] - 12s 24ms/step - loss: 0.0046 - mean_squared_error: 0.0046\n",
      "Epoch 10/30\n",
      "500/500 [==============================] - 12s 23ms/step - loss: 0.0038 - mean_squared_error: 0.0038\n",
      "Epoch 11/30\n",
      "500/500 [==============================] - 12s 23ms/step - loss: 0.0032 - mean_squared_error: 0.0032\n",
      "Epoch 12/30\n",
      "500/500 [==============================] - 11s 23ms/step - loss: 0.0027 - mean_squared_error: 0.0027\n",
      "Epoch 13/30\n",
      "500/500 [==============================] - 12s 24ms/step - loss: 0.0023 - mean_squared_error: 0.0023\n",
      "Epoch 14/30\n",
      "500/500 [==============================] - 12s 24ms/step - loss: 0.0020 - mean_squared_error: 0.0020\n",
      "Epoch 15/30\n",
      "500/500 [==============================] - 12s 24ms/step - loss: 0.0018 - mean_squared_error: 0.0018\n",
      "Epoch 16/30\n",
      "500/500 [==============================] - 12s 23ms/step - loss: 0.0016 - mean_squared_error: 0.0016\n",
      "Epoch 17/30\n",
      "500/500 [==============================] - 12s 23ms/step - loss: 0.0014 - mean_squared_error: 0.0014\n",
      "Epoch 18/30\n",
      "500/500 [==============================] - 12s 23ms/step - loss: 0.0013 - mean_squared_error: 0.0013\n",
      "Epoch 19/30\n",
      "500/500 [==============================] - 12s 23ms/step - loss: 0.0012 - mean_squared_error: 0.0012\n",
      "Epoch 20/30\n",
      "500/500 [==============================] - 12s 23ms/step - loss: 0.0011 - mean_squared_error: 0.0011\n",
      "Epoch 21/30\n",
      "500/500 [==============================] - 12s 23ms/step - loss: 0.0010 - mean_squared_error: 0.0010\n",
      "Epoch 22/30\n",
      "500/500 [==============================] - 12s 23ms/step - loss: 9.5865e-04 - mean_squared_error: 9.5865e-04\n",
      "Epoch 23/30\n",
      "500/500 [==============================] - 12s 23ms/step - loss: 9.0703e-04 - mean_squared_error: 9.0702e-04\n",
      "Epoch 24/30\n",
      "500/500 [==============================] - 13s 25ms/step - loss: 8.6043e-04 - mean_squared_error: 8.6043e-04\n",
      "Epoch 25/30\n",
      "500/500 [==============================] - 12s 24ms/step - loss: 8.2558e-04 - mean_squared_error: 8.2558e-04\n",
      "Epoch 26/30\n",
      "500/500 [==============================] - 13s 26ms/step - loss: 8.0042e-04 - mean_squared_error: 8.0042e-04\n",
      "Epoch 27/30\n",
      "500/500 [==============================] - 15s 31ms/step - loss: 7.6236e-04 - mean_squared_error: 7.6236e-04\n",
      "Epoch 28/30\n",
      "500/500 [==============================] - 15s 31ms/step - loss: 7.5616e-04 - mean_squared_error: 7.5616e-04\n",
      "Epoch 29/30\n",
      "500/500 [==============================] - 12s 24ms/step - loss: 7.3315e-04 - mean_squared_error: 7.3315e-04\n",
      "Epoch 30/30\n",
      "500/500 [==============================] - 12s 25ms/step - loss: 7.1403e-04 - mean_squared_error: 7.1403e-04\n"
     ]
    },
    {
     "data": {
      "text/plain": [
       "<keras.callbacks.History at 0x150bc0b70>"
      ]
     },
     "execution_count": 46,
     "metadata": {},
     "output_type": "execute_result"
    }
   ],
   "source": [
    "from keras.layers import Input\n",
    "from keras.models import Model\n",
    "\n",
    "input_img = Input((IMAGE_SIZE, IMAGE_SIZE, 1), name='img')\n",
    "model = UNet_denoising(input_img)\n",
    "\n",
    "model.compile(optimizer=adam,\n",
    "              loss='mse',\n",
    "              metrics=['mse'])\n",
    "\n",
    "model.fit(X_train, Y_train, epochs = 30, batch_size = 32)"
   ]
  },
  {
   "cell_type": "markdown",
   "metadata": {},
   "source": [
    "Here we choose to train 30 epochs. However we can see that at 20th epoch (the same number of epochs as before), we already get a smaller Mean Square Error than the previous simple model. So the U-Net structure can really improve the performance.\n",
    "\n",
    "Now we visualize the same sample as before to see the result."
   ]
  },
  {
   "cell_type": "code",
   "execution_count": 47,
   "metadata": {},
   "outputs": [
    {
     "data": {
      "text/plain": [
       "<matplotlib.image.AxesImage at 0x138190e80>"
      ]
     },
     "execution_count": 47,
     "metadata": {},
     "output_type": "execute_result"
    },
    {
     "data": {
      "image/png": "[encoded data removed]",
      "text/plain": [
       "<matplotlib.figure.Figure at 0x137f145f8>"
      ]
     },
     "metadata": {},
     "output_type": "display_data"
    }
   ],
   "source": [
    "Y_pred = model.predict(X_train)\n",
    "fig = plt.figure(figsize=(12, 7))\n",
    "plt.subplot(131)\n",
    "plt.imshow(X_train[0].reshape(IMAGE_SIZE,IMAGE_SIZE), cmap='gray')\n",
    "plt.subplot(132)\n",
    "plt.imshow(Y_train[0].reshape(IMAGE_SIZE,IMAGE_SIZE), cmap='gray')\n",
    "plt.subplot(133)\n",
    "plt.imshow(Y_pred[0].reshape(IMAGE_SIZE,IMAGE_SIZE), cmap='gray')"
   ]
  },
  {
   "cell_type": "markdown",
   "metadata": {},
   "source": [
    "We can see that the prediction of U-Net is smoother than the noisy image and it preserves the edges of the shape.\n",
    "\n",
    "Now we evaluate the model on test set."
   ]
  },
  {
   "cell_type": "code",
   "execution_count": 48,
   "metadata": {},
   "outputs": [
    {
     "name": "stdout",
     "output_type": "stream",
     "text": [
      "500/500 [==============================] - 5s 10ms/step\n"
     ]
    },
    {
     "data": {
      "text/plain": [
       "[0.000726804459001869, 0.0007268023751676083]"
      ]
     },
     "execution_count": 48,
     "metadata": {},
     "output_type": "execute_result"
    }
   ],
   "source": [
    "model.evaluate(X_test, Y_test)"
   ]
  },
  {
   "cell_type": "markdown",
   "metadata": {},
   "source": [
    "We get a much smaller Mean Square Error on test set by U-Net than the previous simple model."
   ]
  },
  {
   "cell_type": "code",
   "execution_count": 49,
   "metadata": {},
   "outputs": [
    {
     "data": {
      "text/plain": [
       "<matplotlib.image.AxesImage at 0x13839c438>"
      ]
     },
     "execution_count": 49,
     "metadata": {},
     "output_type": "execute_result"
    },
    {
     "data": {
      "image/png": "[encoded data removed]",
      "text/plain": [
       "<matplotlib.figure.Figure at 0x13820da58>"
      ]
     },
     "metadata": {},
     "output_type": "display_data"
    }
   ],
   "source": [
    "Y_pred_test = model.predict(X_test)\n",
    "fig = plt.figure(figsize=(12, 7))\n",
    "plt.subplot(131)\n",
    "plt.imshow(X_test[0].reshape(IMAGE_SIZE,IMAGE_SIZE), cmap='gray')\n",
    "plt.subplot(132)\n",
    "plt.imshow(Y_test[0].reshape(IMAGE_SIZE,IMAGE_SIZE), cmap='gray')\n",
    "plt.subplot(133)\n",
    "plt.imshow(Y_pred_test[0].reshape(IMAGE_SIZE,IMAGE_SIZE), cmap='gray')"
   ]
  },
  {
   "cell_type": "markdown",
   "metadata": {},
   "source": [
    "On the test set, U-Net model can also obtain a smoother image and preserve the edges."
   ]
  },
  {
   "cell_type": "markdown",
   "metadata": {},
   "source": [
    "## Conclusion\n",
    "In this notebook, we accomplished the tasks of Simple Classification (disk, rectangle and triangle), Difficult Classification with Free Location, Regression of Triangle's vertices and Image Denoising by designing different neural network structures. There are some points to note: \n",
    "\n",
    "- Adam optimizer usually have a better performance than SGD.\n",
    "\n",
    "- While designing the neural network structure, we had better begin with simple structure. If the simple structure does not produce satisfactory performance, we try deeper networks or even more complex structure, such as CNN.\n",
    "\n",
    "- In the difficult classification problem with free locations, clearly it is more difficult to get a good performance as in the simple case, thus we design a CNN which obtains a good performance on training set. However the accuracy on test set is still not high enough.\n",
    "\n",
    "- In the Regression task, we made a trick to obtain satisfactory performance, which is to order the vertices' coordinates for training and testing and to reconstruct the real coordinates afterwards. The results show that this trick can really improve the performance.\n",
    "\n",
    "- In the Image Denoising task, we implement U-Net like structure which is shown to be useful to improve the performance of image denoising task."
   ]
  }
 ],
 "metadata": {
  "kernelspec": {
   "display_name": "Python 3",
   "language": "python",
   "name": "python3"
  },
  "language_info": {
   "codemirror_mode": {
    "name": "ipython",
    "version": 3
   },
   "file_extension": ".py",
   "mimetype": "text/x-python",
   "name": "python",
   "nbconvert_exporter": "python",
   "pygments_lexer": "ipython3",
   "version": "3.5.0"
  }
 },
 "nbformat": 4,
 "nbformat_minor": 2
}
